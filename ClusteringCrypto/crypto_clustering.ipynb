{
 "cells": [
  {
   "cell_type": "markdown",
   "metadata": {},
   "source": [
    "# Clustering Crypto"
   ]
  },
  {
   "cell_type": "code",
   "execution_count": 3,
   "metadata": {},
   "outputs": [],
   "source": [
    "# Initial imports\n",
    "import requests\n",
    "import pandas as pd\n",
    "import matplotlib.pyplot as plt\n",
    "# !pip install hvplot\n",
    "import hvplot.pandas\n",
    "import plotly.express as px\n",
    "from sklearn.preprocessing import StandardScaler, MinMaxScaler, LabelEncoder\n",
    "from sklearn.decomposition import PCA\n",
    "from sklearn.cluster import KMeans\n",
    "from pathlib import Path"
   ]
  },
  {
   "cell_type": "markdown",
   "metadata": {},
   "source": [
    "### Fetching Cryptocurrency Data"
   ]
  },
  {
   "cell_type": "code",
   "execution_count": 4,
   "metadata": {},
   "outputs": [],
   "source": [
    "# Use the following endpoint to fetch json data\n",
    "url = \"https://min-api.cryptocompare.com/data/all/coinlist\"\n",
    "coinlist_data = requests.get(url).json()"
   ]
  },
  {
   "cell_type": "code",
   "execution_count": 5,
   "metadata": {},
   "outputs": [
    {
     "data": {
      "text/html": [
       "<div>\n",
       "<style scoped>\n",
       "    .dataframe tbody tr th:only-of-type {\n",
       "        vertical-align: middle;\n",
       "    }\n",
       "\n",
       "    .dataframe tbody tr th {\n",
       "        vertical-align: top;\n",
       "    }\n",
       "\n",
       "    .dataframe thead th {\n",
       "        text-align: right;\n",
       "    }\n",
       "</style>\n",
       "<table border=\"1\" class=\"dataframe\">\n",
       "  <thead>\n",
       "    <tr style=\"text-align: right;\">\n",
       "      <th></th>\n",
       "      <th>Id</th>\n",
       "      <th>Url</th>\n",
       "      <th>ImageUrl</th>\n",
       "      <th>ContentCreatedOn</th>\n",
       "      <th>Name</th>\n",
       "      <th>Symbol</th>\n",
       "      <th>CoinName</th>\n",
       "      <th>FullName</th>\n",
       "      <th>Description</th>\n",
       "      <th>AssetTokenStatus</th>\n",
       "      <th>...</th>\n",
       "      <th>AssetLaunchDate</th>\n",
       "      <th>MaxSupply</th>\n",
       "      <th>MktCapPenalty</th>\n",
       "      <th>IsUsedInDefi</th>\n",
       "      <th>IsUsedInNft</th>\n",
       "      <th>PlatformType</th>\n",
       "      <th>BuiltOn</th>\n",
       "      <th>SmartContractAddress</th>\n",
       "      <th>DecimalPoints</th>\n",
       "      <th>Difficulty</th>\n",
       "    </tr>\n",
       "  </thead>\n",
       "  <tbody>\n",
       "    <tr>\n",
       "      <th>42</th>\n",
       "      <td>4321</td>\n",
       "      <td>/coins/42/overview</td>\n",
       "      <td>/media/35650717/42.jpg</td>\n",
       "      <td>1427211129</td>\n",
       "      <td>42</td>\n",
       "      <td>42</td>\n",
       "      <td>42 Coin</td>\n",
       "      <td>42 Coin (42)</td>\n",
       "      <td>Everything about 42 coin is 42 - apart from th...</td>\n",
       "      <td>N/A</td>\n",
       "      <td>...</td>\n",
       "      <td>0000-00-00</td>\n",
       "      <td>0</td>\n",
       "      <td>0</td>\n",
       "      <td>0</td>\n",
       "      <td>0</td>\n",
       "      <td>NaN</td>\n",
       "      <td>NaN</td>\n",
       "      <td>NaN</td>\n",
       "      <td>NaN</td>\n",
       "      <td>NaN</td>\n",
       "    </tr>\n",
       "    <tr>\n",
       "      <th>300</th>\n",
       "      <td>749869</td>\n",
       "      <td>/coins/300/overview</td>\n",
       "      <td>/media/27010595/300.png</td>\n",
       "      <td>1517935016</td>\n",
       "      <td>300</td>\n",
       "      <td>300</td>\n",
       "      <td>300 token</td>\n",
       "      <td>300 token (300)</td>\n",
       "      <td>300 token is an ERC20 token. This Token was cr...</td>\n",
       "      <td>N/A</td>\n",
       "      <td>...</td>\n",
       "      <td>2017-07-01</td>\n",
       "      <td>300</td>\n",
       "      <td>0</td>\n",
       "      <td>0</td>\n",
       "      <td>0</td>\n",
       "      <td>token</td>\n",
       "      <td>ETH</td>\n",
       "      <td>0xaec98a708810414878c3bcdf46aad31ded4a4557</td>\n",
       "      <td>18</td>\n",
       "      <td>NaN</td>\n",
       "    </tr>\n",
       "    <tr>\n",
       "      <th>365</th>\n",
       "      <td>33639</td>\n",
       "      <td>/coins/365/overview</td>\n",
       "      <td>/media/352070/365.png</td>\n",
       "      <td>1480032918</td>\n",
       "      <td>365</td>\n",
       "      <td>365</td>\n",
       "      <td>365Coin</td>\n",
       "      <td>365Coin (365)</td>\n",
       "      <td>365Coin is a Proof of Work and Proof of Stake ...</td>\n",
       "      <td>N/A</td>\n",
       "      <td>...</td>\n",
       "      <td>0000-00-00</td>\n",
       "      <td>0</td>\n",
       "      <td>0</td>\n",
       "      <td>0</td>\n",
       "      <td>0</td>\n",
       "      <td>NaN</td>\n",
       "      <td>NaN</td>\n",
       "      <td>NaN</td>\n",
       "      <td>NaN</td>\n",
       "      <td>NaN</td>\n",
       "    </tr>\n",
       "    <tr>\n",
       "      <th>404</th>\n",
       "      <td>21227</td>\n",
       "      <td>/coins/404/overview</td>\n",
       "      <td>/media/35650851/404-300x300.jpg</td>\n",
       "      <td>1466100361</td>\n",
       "      <td>404</td>\n",
       "      <td>404</td>\n",
       "      <td>404Coin</td>\n",
       "      <td>404Coin (404)</td>\n",
       "      <td>404 is a PoW/PoS hybrid cryptocurrency that al...</td>\n",
       "      <td>N/A</td>\n",
       "      <td>...</td>\n",
       "      <td>0000-00-00</td>\n",
       "      <td>0</td>\n",
       "      <td>0</td>\n",
       "      <td>0</td>\n",
       "      <td>0</td>\n",
       "      <td>NaN</td>\n",
       "      <td>NaN</td>\n",
       "      <td>NaN</td>\n",
       "      <td>NaN</td>\n",
       "      <td>NaN</td>\n",
       "    </tr>\n",
       "    <tr>\n",
       "      <th>433</th>\n",
       "      <td>926547</td>\n",
       "      <td>/coins/433/overview</td>\n",
       "      <td>/media/34836095/433.png</td>\n",
       "      <td>1541597321</td>\n",
       "      <td>433</td>\n",
       "      <td>433</td>\n",
       "      <td>433 Token</td>\n",
       "      <td>433 Token (433)</td>\n",
       "      <td>433 Token is a decentralised soccer platform t...</td>\n",
       "      <td>Finished</td>\n",
       "      <td>...</td>\n",
       "      <td>NaN</td>\n",
       "      <td>NaN</td>\n",
       "      <td>NaN</td>\n",
       "      <td>NaN</td>\n",
       "      <td>NaN</td>\n",
       "      <td>NaN</td>\n",
       "      <td>NaN</td>\n",
       "      <td>NaN</td>\n",
       "      <td>NaN</td>\n",
       "      <td>NaN</td>\n",
       "    </tr>\n",
       "  </tbody>\n",
       "</table>\n",
       "<p>5 rows × 32 columns</p>\n",
       "</div>"
      ],
      "text/plain": [
       "         Id                  Url                         ImageUrl  \\\n",
       "42     4321   /coins/42/overview           /media/35650717/42.jpg   \n",
       "300  749869  /coins/300/overview          /media/27010595/300.png   \n",
       "365   33639  /coins/365/overview            /media/352070/365.png   \n",
       "404   21227  /coins/404/overview  /media/35650851/404-300x300.jpg   \n",
       "433  926547  /coins/433/overview          /media/34836095/433.png   \n",
       "\n",
       "    ContentCreatedOn Name Symbol   CoinName         FullName  \\\n",
       "42        1427211129   42     42    42 Coin     42 Coin (42)   \n",
       "300       1517935016  300    300  300 token  300 token (300)   \n",
       "365       1480032918  365    365    365Coin    365Coin (365)   \n",
       "404       1466100361  404    404    404Coin    404Coin (404)   \n",
       "433       1541597321  433    433  433 Token  433 Token (433)   \n",
       "\n",
       "                                           Description AssetTokenStatus  ...  \\\n",
       "42   Everything about 42 coin is 42 - apart from th...              N/A  ...   \n",
       "300  300 token is an ERC20 token. This Token was cr...              N/A  ...   \n",
       "365  365Coin is a Proof of Work and Proof of Stake ...              N/A  ...   \n",
       "404  404 is a PoW/PoS hybrid cryptocurrency that al...              N/A  ...   \n",
       "433  433 Token is a decentralised soccer platform t...         Finished  ...   \n",
       "\n",
       "    AssetLaunchDate MaxSupply MktCapPenalty IsUsedInDefi IsUsedInNft  \\\n",
       "42       0000-00-00         0             0            0           0   \n",
       "300      2017-07-01       300             0            0           0   \n",
       "365      0000-00-00         0             0            0           0   \n",
       "404      0000-00-00         0             0            0           0   \n",
       "433             NaN       NaN           NaN          NaN         NaN   \n",
       "\n",
       "    PlatformType BuiltOn                        SmartContractAddress  \\\n",
       "42           NaN     NaN                                         NaN   \n",
       "300        token     ETH  0xaec98a708810414878c3bcdf46aad31ded4a4557   \n",
       "365          NaN     NaN                                         NaN   \n",
       "404          NaN     NaN                                         NaN   \n",
       "433          NaN     NaN                                         NaN   \n",
       "\n",
       "    DecimalPoints Difficulty  \n",
       "42            NaN        NaN  \n",
       "300            18        NaN  \n",
       "365           NaN        NaN  \n",
       "404           NaN        NaN  \n",
       "433           NaN        NaN  \n",
       "\n",
       "[5 rows x 32 columns]"
      ]
     },
     "execution_count": 5,
     "metadata": {},
     "output_type": "execute_result"
    }
   ],
   "source": [
    "# Create a DataFrame \n",
    "# HINT: You will need to use the 'Data' key from the json response, then transpose the DataFrame.\n",
    "coinlist_df = pd.DataFrame(coinlist_data[\"Data\"]).T\n",
    "coinlist_df.head()"
   ]
  },
  {
   "cell_type": "code",
   "execution_count": 6,
   "metadata": {},
   "outputs": [
    {
     "data": {
      "text/html": [
       "<div>\n",
       "<style scoped>\n",
       "    .dataframe tbody tr th:only-of-type {\n",
       "        vertical-align: middle;\n",
       "    }\n",
       "\n",
       "    .dataframe tbody tr th {\n",
       "        vertical-align: top;\n",
       "    }\n",
       "\n",
       "    .dataframe thead th {\n",
       "        text-align: right;\n",
       "    }\n",
       "</style>\n",
       "<table border=\"1\" class=\"dataframe\">\n",
       "  <thead>\n",
       "    <tr style=\"text-align: right;\">\n",
       "      <th></th>\n",
       "      <th>Unnamed: 0</th>\n",
       "      <th>CoinName</th>\n",
       "      <th>Algorithm</th>\n",
       "      <th>IsTrading</th>\n",
       "      <th>ProofType</th>\n",
       "      <th>TotalCoinsMined</th>\n",
       "      <th>TotalCoinSupply</th>\n",
       "    </tr>\n",
       "  </thead>\n",
       "  <tbody>\n",
       "    <tr>\n",
       "      <th>0</th>\n",
       "      <td>42</td>\n",
       "      <td>42 Coin</td>\n",
       "      <td>Scrypt</td>\n",
       "      <td>True</td>\n",
       "      <td>PoW/PoS</td>\n",
       "      <td>4.199995e+01</td>\n",
       "      <td>42</td>\n",
       "    </tr>\n",
       "    <tr>\n",
       "      <th>1</th>\n",
       "      <td>365</td>\n",
       "      <td>365Coin</td>\n",
       "      <td>X11</td>\n",
       "      <td>True</td>\n",
       "      <td>PoW/PoS</td>\n",
       "      <td>NaN</td>\n",
       "      <td>2300000000</td>\n",
       "    </tr>\n",
       "    <tr>\n",
       "      <th>2</th>\n",
       "      <td>404</td>\n",
       "      <td>404Coin</td>\n",
       "      <td>Scrypt</td>\n",
       "      <td>True</td>\n",
       "      <td>PoW/PoS</td>\n",
       "      <td>1.055185e+09</td>\n",
       "      <td>532000000</td>\n",
       "    </tr>\n",
       "    <tr>\n",
       "      <th>3</th>\n",
       "      <td>611</td>\n",
       "      <td>SixEleven</td>\n",
       "      <td>SHA-256</td>\n",
       "      <td>True</td>\n",
       "      <td>PoW</td>\n",
       "      <td>NaN</td>\n",
       "      <td>611000</td>\n",
       "    </tr>\n",
       "    <tr>\n",
       "      <th>4</th>\n",
       "      <td>808</td>\n",
       "      <td>808</td>\n",
       "      <td>SHA-256</td>\n",
       "      <td>True</td>\n",
       "      <td>PoW/PoS</td>\n",
       "      <td>0.000000e+00</td>\n",
       "      <td>0</td>\n",
       "    </tr>\n",
       "    <tr>\n",
       "      <th>...</th>\n",
       "      <td>...</td>\n",
       "      <td>...</td>\n",
       "      <td>...</td>\n",
       "      <td>...</td>\n",
       "      <td>...</td>\n",
       "      <td>...</td>\n",
       "      <td>...</td>\n",
       "    </tr>\n",
       "    <tr>\n",
       "      <th>1247</th>\n",
       "      <td>XBC</td>\n",
       "      <td>BitcoinPlus</td>\n",
       "      <td>Scrypt</td>\n",
       "      <td>True</td>\n",
       "      <td>PoS</td>\n",
       "      <td>1.283270e+05</td>\n",
       "      <td>1000000</td>\n",
       "    </tr>\n",
       "    <tr>\n",
       "      <th>1248</th>\n",
       "      <td>DVTC</td>\n",
       "      <td>DivotyCoin</td>\n",
       "      <td>Scrypt</td>\n",
       "      <td>False</td>\n",
       "      <td>PoW/PoS</td>\n",
       "      <td>2.149121e+07</td>\n",
       "      <td>100000000</td>\n",
       "    </tr>\n",
       "    <tr>\n",
       "      <th>1249</th>\n",
       "      <td>GIOT</td>\n",
       "      <td>Giotto Coin</td>\n",
       "      <td>Scrypt</td>\n",
       "      <td>False</td>\n",
       "      <td>PoW/PoS</td>\n",
       "      <td>NaN</td>\n",
       "      <td>233100000</td>\n",
       "    </tr>\n",
       "    <tr>\n",
       "      <th>1250</th>\n",
       "      <td>OPSC</td>\n",
       "      <td>OpenSourceCoin</td>\n",
       "      <td>SHA-256</td>\n",
       "      <td>False</td>\n",
       "      <td>PoW/PoS</td>\n",
       "      <td>NaN</td>\n",
       "      <td>21000000</td>\n",
       "    </tr>\n",
       "    <tr>\n",
       "      <th>1251</th>\n",
       "      <td>PUNK</td>\n",
       "      <td>SteamPunk</td>\n",
       "      <td>PoS</td>\n",
       "      <td>False</td>\n",
       "      <td>PoS</td>\n",
       "      <td>NaN</td>\n",
       "      <td>40000000</td>\n",
       "    </tr>\n",
       "  </tbody>\n",
       "</table>\n",
       "<p>1252 rows × 7 columns</p>\n",
       "</div>"
      ],
      "text/plain": [
       "     Unnamed: 0        CoinName Algorithm  IsTrading ProofType  \\\n",
       "0            42         42 Coin    Scrypt       True   PoW/PoS   \n",
       "1           365         365Coin       X11       True   PoW/PoS   \n",
       "2           404         404Coin    Scrypt       True   PoW/PoS   \n",
       "3           611       SixEleven   SHA-256       True       PoW   \n",
       "4           808             808   SHA-256       True   PoW/PoS   \n",
       "...         ...             ...       ...        ...       ...   \n",
       "1247        XBC     BitcoinPlus    Scrypt       True       PoS   \n",
       "1248       DVTC      DivotyCoin    Scrypt      False   PoW/PoS   \n",
       "1249       GIOT     Giotto Coin    Scrypt      False   PoW/PoS   \n",
       "1250       OPSC  OpenSourceCoin   SHA-256      False   PoW/PoS   \n",
       "1251       PUNK       SteamPunk       PoS      False       PoS   \n",
       "\n",
       "      TotalCoinsMined TotalCoinSupply  \n",
       "0        4.199995e+01              42  \n",
       "1                 NaN      2300000000  \n",
       "2        1.055185e+09       532000000  \n",
       "3                 NaN          611000  \n",
       "4        0.000000e+00               0  \n",
       "...               ...             ...  \n",
       "1247     1.283270e+05         1000000  \n",
       "1248     2.149121e+07       100000000  \n",
       "1249              NaN       233100000  \n",
       "1250              NaN        21000000  \n",
       "1251              NaN        40000000  \n",
       "\n",
       "[1252 rows x 7 columns]"
      ]
     },
     "execution_count": 6,
     "metadata": {},
     "output_type": "execute_result"
    }
   ],
   "source": [
    "# Alternatively, use the provided csv file:\n",
    "# file_path = Path(\"Resources/crypto_data.csv\")\n",
    "file_path = Path(\"Resources/crypto_data.csv\")\n",
    "# Creating a DataFrame\n",
    "crypto_df = pd.read_csv(file_path)\n",
    "crypto_df\n",
    "# Despite loading JSON data will go for the CSV file"
   ]
  },
  {
   "cell_type": "markdown",
   "metadata": {},
   "source": [
    "### Data Preprocessing"
   ]
  },
  {
   "cell_type": "code",
   "execution_count": 7,
   "metadata": {},
   "outputs": [
    {
     "data": {
      "text/html": [
       "<div>\n",
       "<style scoped>\n",
       "    .dataframe tbody tr th:only-of-type {\n",
       "        vertical-align: middle;\n",
       "    }\n",
       "\n",
       "    .dataframe tbody tr th {\n",
       "        vertical-align: top;\n",
       "    }\n",
       "\n",
       "    .dataframe thead th {\n",
       "        text-align: right;\n",
       "    }\n",
       "</style>\n",
       "<table border=\"1\" class=\"dataframe\">\n",
       "  <thead>\n",
       "    <tr style=\"text-align: right;\">\n",
       "      <th></th>\n",
       "      <th>CoinName</th>\n",
       "      <th>Algorithm</th>\n",
       "      <th>IsTrading</th>\n",
       "      <th>ProofType</th>\n",
       "      <th>TotalCoinsMined</th>\n",
       "      <th>TotalCoinSupply</th>\n",
       "    </tr>\n",
       "  </thead>\n",
       "  <tbody>\n",
       "    <tr>\n",
       "      <th>42</th>\n",
       "      <td>42 Coin</td>\n",
       "      <td>Scrypt</td>\n",
       "      <td>True</td>\n",
       "      <td>PoW/PoS</td>\n",
       "      <td>4.199995e+01</td>\n",
       "      <td>42</td>\n",
       "    </tr>\n",
       "    <tr>\n",
       "      <th>365</th>\n",
       "      <td>365Coin</td>\n",
       "      <td>X11</td>\n",
       "      <td>True</td>\n",
       "      <td>PoW/PoS</td>\n",
       "      <td>NaN</td>\n",
       "      <td>2300000000</td>\n",
       "    </tr>\n",
       "    <tr>\n",
       "      <th>404</th>\n",
       "      <td>404Coin</td>\n",
       "      <td>Scrypt</td>\n",
       "      <td>True</td>\n",
       "      <td>PoW/PoS</td>\n",
       "      <td>1.055185e+09</td>\n",
       "      <td>532000000</td>\n",
       "    </tr>\n",
       "    <tr>\n",
       "      <th>611</th>\n",
       "      <td>SixEleven</td>\n",
       "      <td>SHA-256</td>\n",
       "      <td>True</td>\n",
       "      <td>PoW</td>\n",
       "      <td>NaN</td>\n",
       "      <td>611000</td>\n",
       "    </tr>\n",
       "    <tr>\n",
       "      <th>808</th>\n",
       "      <td>808</td>\n",
       "      <td>SHA-256</td>\n",
       "      <td>True</td>\n",
       "      <td>PoW/PoS</td>\n",
       "      <td>0.000000e+00</td>\n",
       "      <td>0</td>\n",
       "    </tr>\n",
       "  </tbody>\n",
       "</table>\n",
       "</div>"
      ],
      "text/plain": [
       "      CoinName Algorithm  IsTrading ProofType  TotalCoinsMined TotalCoinSupply\n",
       "42     42 Coin    Scrypt       True   PoW/PoS     4.199995e+01              42\n",
       "365    365Coin       X11       True   PoW/PoS              NaN      2300000000\n",
       "404    404Coin    Scrypt       True   PoW/PoS     1.055185e+09       532000000\n",
       "611  SixEleven   SHA-256       True       PoW              NaN          611000\n",
       "808        808   SHA-256       True   PoW/PoS     0.000000e+00               0"
      ]
     },
     "execution_count": 7,
     "metadata": {},
     "output_type": "execute_result"
    }
   ],
   "source": [
    "# Keep only necessary columns:\n",
    "# 'CoinName','Algorithm','IsTrading','ProofType','TotalCoinsMined','TotalCoinSupply'\n",
    "crypto_df.set_index(\"Unnamed: 0\", inplace = True)\n",
    "crypto_df.index.name = None\n",
    "crypto_df.head()"
   ]
  },
  {
   "cell_type": "code",
   "execution_count": 8,
   "metadata": {},
   "outputs": [
    {
     "data": {
      "text/html": [
       "<div>\n",
       "<style scoped>\n",
       "    .dataframe tbody tr th:only-of-type {\n",
       "        vertical-align: middle;\n",
       "    }\n",
       "\n",
       "    .dataframe tbody tr th {\n",
       "        vertical-align: top;\n",
       "    }\n",
       "\n",
       "    .dataframe thead th {\n",
       "        text-align: right;\n",
       "    }\n",
       "</style>\n",
       "<table border=\"1\" class=\"dataframe\">\n",
       "  <thead>\n",
       "    <tr style=\"text-align: right;\">\n",
       "      <th></th>\n",
       "      <th>CoinName</th>\n",
       "      <th>Algorithm</th>\n",
       "      <th>IsTrading</th>\n",
       "      <th>ProofType</th>\n",
       "      <th>TotalCoinsMined</th>\n",
       "      <th>TotalCoinSupply</th>\n",
       "    </tr>\n",
       "  </thead>\n",
       "  <tbody>\n",
       "    <tr>\n",
       "      <th>42</th>\n",
       "      <td>42 Coin</td>\n",
       "      <td>Scrypt</td>\n",
       "      <td>True</td>\n",
       "      <td>PoW/PoS</td>\n",
       "      <td>4.199995e+01</td>\n",
       "      <td>42</td>\n",
       "    </tr>\n",
       "    <tr>\n",
       "      <th>365</th>\n",
       "      <td>365Coin</td>\n",
       "      <td>X11</td>\n",
       "      <td>True</td>\n",
       "      <td>PoW/PoS</td>\n",
       "      <td>NaN</td>\n",
       "      <td>2300000000</td>\n",
       "    </tr>\n",
       "    <tr>\n",
       "      <th>404</th>\n",
       "      <td>404Coin</td>\n",
       "      <td>Scrypt</td>\n",
       "      <td>True</td>\n",
       "      <td>PoW/PoS</td>\n",
       "      <td>1.055185e+09</td>\n",
       "      <td>532000000</td>\n",
       "    </tr>\n",
       "    <tr>\n",
       "      <th>611</th>\n",
       "      <td>SixEleven</td>\n",
       "      <td>SHA-256</td>\n",
       "      <td>True</td>\n",
       "      <td>PoW</td>\n",
       "      <td>NaN</td>\n",
       "      <td>611000</td>\n",
       "    </tr>\n",
       "    <tr>\n",
       "      <th>808</th>\n",
       "      <td>808</td>\n",
       "      <td>SHA-256</td>\n",
       "      <td>True</td>\n",
       "      <td>PoW/PoS</td>\n",
       "      <td>0.000000e+00</td>\n",
       "      <td>0</td>\n",
       "    </tr>\n",
       "  </tbody>\n",
       "</table>\n",
       "</div>"
      ],
      "text/plain": [
       "      CoinName Algorithm  IsTrading ProofType  TotalCoinsMined TotalCoinSupply\n",
       "42     42 Coin    Scrypt       True   PoW/PoS     4.199995e+01              42\n",
       "365    365Coin       X11       True   PoW/PoS              NaN      2300000000\n",
       "404    404Coin    Scrypt       True   PoW/PoS     1.055185e+09       532000000\n",
       "611  SixEleven   SHA-256       True       PoW              NaN          611000\n",
       "808        808   SHA-256       True   PoW/PoS     0.000000e+00               0"
      ]
     },
     "execution_count": 8,
     "metadata": {},
     "output_type": "execute_result"
    }
   ],
   "source": [
    "# Keep only cryptocurrencies that are trading\n",
    "crypto_df = crypto_df[crypto_df[\"IsTrading\"] == True]\n",
    "crypto_df.head()"
   ]
  },
  {
   "cell_type": "code",
   "execution_count": 9,
   "metadata": {},
   "outputs": [
    {
     "data": {
      "text/html": [
       "<div>\n",
       "<style scoped>\n",
       "    .dataframe tbody tr th:only-of-type {\n",
       "        vertical-align: middle;\n",
       "    }\n",
       "\n",
       "    .dataframe tbody tr th {\n",
       "        vertical-align: top;\n",
       "    }\n",
       "\n",
       "    .dataframe thead th {\n",
       "        text-align: right;\n",
       "    }\n",
       "</style>\n",
       "<table border=\"1\" class=\"dataframe\">\n",
       "  <thead>\n",
       "    <tr style=\"text-align: right;\">\n",
       "      <th></th>\n",
       "      <th>CoinName</th>\n",
       "      <th>Algorithm</th>\n",
       "      <th>IsTrading</th>\n",
       "      <th>ProofType</th>\n",
       "      <th>TotalCoinsMined</th>\n",
       "      <th>TotalCoinSupply</th>\n",
       "    </tr>\n",
       "  </thead>\n",
       "  <tbody>\n",
       "    <tr>\n",
       "      <th>42</th>\n",
       "      <td>42 Coin</td>\n",
       "      <td>Scrypt</td>\n",
       "      <td>True</td>\n",
       "      <td>PoW/PoS</td>\n",
       "      <td>4.199995e+01</td>\n",
       "      <td>42</td>\n",
       "    </tr>\n",
       "    <tr>\n",
       "      <th>365</th>\n",
       "      <td>365Coin</td>\n",
       "      <td>X11</td>\n",
       "      <td>True</td>\n",
       "      <td>PoW/PoS</td>\n",
       "      <td>NaN</td>\n",
       "      <td>2300000000</td>\n",
       "    </tr>\n",
       "    <tr>\n",
       "      <th>404</th>\n",
       "      <td>404Coin</td>\n",
       "      <td>Scrypt</td>\n",
       "      <td>True</td>\n",
       "      <td>PoW/PoS</td>\n",
       "      <td>1.055185e+09</td>\n",
       "      <td>532000000</td>\n",
       "    </tr>\n",
       "    <tr>\n",
       "      <th>611</th>\n",
       "      <td>SixEleven</td>\n",
       "      <td>SHA-256</td>\n",
       "      <td>True</td>\n",
       "      <td>PoW</td>\n",
       "      <td>NaN</td>\n",
       "      <td>611000</td>\n",
       "    </tr>\n",
       "    <tr>\n",
       "      <th>808</th>\n",
       "      <td>808</td>\n",
       "      <td>SHA-256</td>\n",
       "      <td>True</td>\n",
       "      <td>PoW/PoS</td>\n",
       "      <td>0.000000e+00</td>\n",
       "      <td>0</td>\n",
       "    </tr>\n",
       "  </tbody>\n",
       "</table>\n",
       "</div>"
      ],
      "text/plain": [
       "      CoinName Algorithm  IsTrading ProofType  TotalCoinsMined TotalCoinSupply\n",
       "42     42 Coin    Scrypt       True   PoW/PoS     4.199995e+01              42\n",
       "365    365Coin       X11       True   PoW/PoS              NaN      2300000000\n",
       "404    404Coin    Scrypt       True   PoW/PoS     1.055185e+09       532000000\n",
       "611  SixEleven   SHA-256       True       PoW              NaN          611000\n",
       "808        808   SHA-256       True   PoW/PoS     0.000000e+00               0"
      ]
     },
     "execution_count": 9,
     "metadata": {},
     "output_type": "execute_result"
    }
   ],
   "source": [
    "# Keep only cryptocurrencies with a working algorithm\n",
    "crypto_df = crypto_df[crypto_df['Algorithm'].isnull() == False]\n",
    "crypto_df.head()"
   ]
  },
  {
   "cell_type": "code",
   "execution_count": 10,
   "metadata": {},
   "outputs": [
    {
     "data": {
      "text/html": [
       "<div>\n",
       "<style scoped>\n",
       "    .dataframe tbody tr th:only-of-type {\n",
       "        vertical-align: middle;\n",
       "    }\n",
       "\n",
       "    .dataframe tbody tr th {\n",
       "        vertical-align: top;\n",
       "    }\n",
       "\n",
       "    .dataframe thead th {\n",
       "        text-align: right;\n",
       "    }\n",
       "</style>\n",
       "<table border=\"1\" class=\"dataframe\">\n",
       "  <thead>\n",
       "    <tr style=\"text-align: right;\">\n",
       "      <th></th>\n",
       "      <th>CoinName</th>\n",
       "      <th>Algorithm</th>\n",
       "      <th>ProofType</th>\n",
       "      <th>TotalCoinsMined</th>\n",
       "      <th>TotalCoinSupply</th>\n",
       "    </tr>\n",
       "  </thead>\n",
       "  <tbody>\n",
       "    <tr>\n",
       "      <th>42</th>\n",
       "      <td>42 Coin</td>\n",
       "      <td>Scrypt</td>\n",
       "      <td>PoW/PoS</td>\n",
       "      <td>4.199995e+01</td>\n",
       "      <td>42</td>\n",
       "    </tr>\n",
       "    <tr>\n",
       "      <th>365</th>\n",
       "      <td>365Coin</td>\n",
       "      <td>X11</td>\n",
       "      <td>PoW/PoS</td>\n",
       "      <td>NaN</td>\n",
       "      <td>2300000000</td>\n",
       "    </tr>\n",
       "    <tr>\n",
       "      <th>404</th>\n",
       "      <td>404Coin</td>\n",
       "      <td>Scrypt</td>\n",
       "      <td>PoW/PoS</td>\n",
       "      <td>1.055185e+09</td>\n",
       "      <td>532000000</td>\n",
       "    </tr>\n",
       "    <tr>\n",
       "      <th>611</th>\n",
       "      <td>SixEleven</td>\n",
       "      <td>SHA-256</td>\n",
       "      <td>PoW</td>\n",
       "      <td>NaN</td>\n",
       "      <td>611000</td>\n",
       "    </tr>\n",
       "    <tr>\n",
       "      <th>808</th>\n",
       "      <td>808</td>\n",
       "      <td>SHA-256</td>\n",
       "      <td>PoW/PoS</td>\n",
       "      <td>0.000000e+00</td>\n",
       "      <td>0</td>\n",
       "    </tr>\n",
       "  </tbody>\n",
       "</table>\n",
       "</div>"
      ],
      "text/plain": [
       "      CoinName Algorithm ProofType  TotalCoinsMined TotalCoinSupply\n",
       "42     42 Coin    Scrypt   PoW/PoS     4.199995e+01              42\n",
       "365    365Coin       X11   PoW/PoS              NaN      2300000000\n",
       "404    404Coin    Scrypt   PoW/PoS     1.055185e+09       532000000\n",
       "611  SixEleven   SHA-256       PoW              NaN          611000\n",
       "808        808   SHA-256   PoW/PoS     0.000000e+00               0"
      ]
     },
     "execution_count": 10,
     "metadata": {},
     "output_type": "execute_result"
    }
   ],
   "source": [
    "# Remove the 'IsTrading' column\n",
    "crypto_df.drop(columns=['IsTrading'], inplace=True)\n",
    "crypto_df.head()"
   ]
  },
  {
   "cell_type": "code",
   "execution_count": 11,
   "metadata": {},
   "outputs": [],
   "source": [
    "# Remove rows with at least 1 null value\n",
    "crypto_df.dropna(inplace=True)"
   ]
  },
  {
   "cell_type": "code",
   "execution_count": 12,
   "metadata": {},
   "outputs": [
    {
     "data": {
      "text/html": [
       "<div>\n",
       "<style scoped>\n",
       "    .dataframe tbody tr th:only-of-type {\n",
       "        vertical-align: middle;\n",
       "    }\n",
       "\n",
       "    .dataframe tbody tr th {\n",
       "        vertical-align: top;\n",
       "    }\n",
       "\n",
       "    .dataframe thead th {\n",
       "        text-align: right;\n",
       "    }\n",
       "</style>\n",
       "<table border=\"1\" class=\"dataframe\">\n",
       "  <thead>\n",
       "    <tr style=\"text-align: right;\">\n",
       "      <th></th>\n",
       "      <th>CoinName</th>\n",
       "      <th>Algorithm</th>\n",
       "      <th>ProofType</th>\n",
       "      <th>TotalCoinsMined</th>\n",
       "      <th>TotalCoinSupply</th>\n",
       "    </tr>\n",
       "  </thead>\n",
       "  <tbody>\n",
       "    <tr>\n",
       "      <th>42</th>\n",
       "      <td>42 Coin</td>\n",
       "      <td>Scrypt</td>\n",
       "      <td>PoW/PoS</td>\n",
       "      <td>4.199995e+01</td>\n",
       "      <td>42</td>\n",
       "    </tr>\n",
       "    <tr>\n",
       "      <th>404</th>\n",
       "      <td>404Coin</td>\n",
       "      <td>Scrypt</td>\n",
       "      <td>PoW/PoS</td>\n",
       "      <td>1.055185e+09</td>\n",
       "      <td>532000000</td>\n",
       "    </tr>\n",
       "    <tr>\n",
       "      <th>1337</th>\n",
       "      <td>EliteCoin</td>\n",
       "      <td>X13</td>\n",
       "      <td>PoW/PoS</td>\n",
       "      <td>2.927942e+10</td>\n",
       "      <td>314159265359</td>\n",
       "    </tr>\n",
       "    <tr>\n",
       "      <th>BTC</th>\n",
       "      <td>Bitcoin</td>\n",
       "      <td>SHA-256</td>\n",
       "      <td>PoW</td>\n",
       "      <td>1.792718e+07</td>\n",
       "      <td>21000000</td>\n",
       "    </tr>\n",
       "    <tr>\n",
       "      <th>ETH</th>\n",
       "      <td>Ethereum</td>\n",
       "      <td>Ethash</td>\n",
       "      <td>PoW</td>\n",
       "      <td>1.076842e+08</td>\n",
       "      <td>0</td>\n",
       "    </tr>\n",
       "  </tbody>\n",
       "</table>\n",
       "</div>"
      ],
      "text/plain": [
       "       CoinName Algorithm ProofType  TotalCoinsMined TotalCoinSupply\n",
       "42      42 Coin    Scrypt   PoW/PoS     4.199995e+01              42\n",
       "404     404Coin    Scrypt   PoW/PoS     1.055185e+09       532000000\n",
       "1337  EliteCoin       X13   PoW/PoS     2.927942e+10    314159265359\n",
       "BTC     Bitcoin   SHA-256       PoW     1.792718e+07        21000000\n",
       "ETH    Ethereum    Ethash       PoW     1.076842e+08               0"
      ]
     },
     "execution_count": 12,
     "metadata": {},
     "output_type": "execute_result"
    }
   ],
   "source": [
    "# Remove rows with cryptocurrencies having no coins mined\n",
    "crypto_df = crypto_df[crypto_df[\"TotalCoinsMined\"] > 0]\n",
    "crypto_df.head()"
   ]
  },
  {
   "cell_type": "code",
   "execution_count": 13,
   "metadata": {},
   "outputs": [
    {
     "data": {
      "text/plain": [
       "2660"
      ]
     },
     "execution_count": 13,
     "metadata": {},
     "output_type": "execute_result"
    }
   ],
   "source": [
    "# Drop rows where there are 'N/A' text values\n",
    "crypto_df.drop(crypto_df.index[(crypto_df['CoinName'] == 'N/A') |\n",
    "           (crypto_df['Algorithm'] == 'N/A') |\n",
    "           (crypto_df['ProofType'] == 'N/A') |\n",
    "           (crypto_df['TotalCoinsMined'] == 'N/A') | \n",
    "           (crypto_df['TotalCoinSupply'] == 'N/A')], inplace = True)\n",
    "crypto_df.size"
   ]
  },
  {
   "cell_type": "code",
   "execution_count": 14,
   "metadata": {},
   "outputs": [
    {
     "data": {
      "text/html": [
       "<div>\n",
       "<style scoped>\n",
       "    .dataframe tbody tr th:only-of-type {\n",
       "        vertical-align: middle;\n",
       "    }\n",
       "\n",
       "    .dataframe tbody tr th {\n",
       "        vertical-align: top;\n",
       "    }\n",
       "\n",
       "    .dataframe thead th {\n",
       "        text-align: right;\n",
       "    }\n",
       "</style>\n",
       "<table border=\"1\" class=\"dataframe\">\n",
       "  <thead>\n",
       "    <tr style=\"text-align: right;\">\n",
       "      <th></th>\n",
       "      <th>CoinName</th>\n",
       "    </tr>\n",
       "  </thead>\n",
       "  <tbody>\n",
       "    <tr>\n",
       "      <th>42</th>\n",
       "      <td>42 Coin</td>\n",
       "    </tr>\n",
       "    <tr>\n",
       "      <th>404</th>\n",
       "      <td>404Coin</td>\n",
       "    </tr>\n",
       "    <tr>\n",
       "      <th>1337</th>\n",
       "      <td>EliteCoin</td>\n",
       "    </tr>\n",
       "    <tr>\n",
       "      <th>BTC</th>\n",
       "      <td>Bitcoin</td>\n",
       "    </tr>\n",
       "    <tr>\n",
       "      <th>ETH</th>\n",
       "      <td>Ethereum</td>\n",
       "    </tr>\n",
       "  </tbody>\n",
       "</table>\n",
       "</div>"
      ],
      "text/plain": [
       "       CoinName\n",
       "42      42 Coin\n",
       "404     404Coin\n",
       "1337  EliteCoin\n",
       "BTC     Bitcoin\n",
       "ETH    Ethereum"
      ]
     },
     "execution_count": 14,
     "metadata": {},
     "output_type": "execute_result"
    }
   ],
   "source": [
    "# Store the 'CoinName'column in its own DataFrame prior to dropping it from crypto_df \n",
    "coin_names_df = crypto_df[[\"CoinName\"]]\n",
    "coin_names_df.head()"
   ]
  },
  {
   "cell_type": "code",
   "execution_count": 15,
   "metadata": {},
   "outputs": [
    {
     "data": {
      "text/html": [
       "<div>\n",
       "<style scoped>\n",
       "    .dataframe tbody tr th:only-of-type {\n",
       "        vertical-align: middle;\n",
       "    }\n",
       "\n",
       "    .dataframe tbody tr th {\n",
       "        vertical-align: top;\n",
       "    }\n",
       "\n",
       "    .dataframe thead th {\n",
       "        text-align: right;\n",
       "    }\n",
       "</style>\n",
       "<table border=\"1\" class=\"dataframe\">\n",
       "  <thead>\n",
       "    <tr style=\"text-align: right;\">\n",
       "      <th></th>\n",
       "      <th>Algorithm</th>\n",
       "      <th>ProofType</th>\n",
       "      <th>TotalCoinsMined</th>\n",
       "      <th>TotalCoinSupply</th>\n",
       "    </tr>\n",
       "  </thead>\n",
       "  <tbody>\n",
       "    <tr>\n",
       "      <th>42</th>\n",
       "      <td>Scrypt</td>\n",
       "      <td>PoW/PoS</td>\n",
       "      <td>4.199995e+01</td>\n",
       "      <td>42</td>\n",
       "    </tr>\n",
       "    <tr>\n",
       "      <th>404</th>\n",
       "      <td>Scrypt</td>\n",
       "      <td>PoW/PoS</td>\n",
       "      <td>1.055185e+09</td>\n",
       "      <td>532000000</td>\n",
       "    </tr>\n",
       "    <tr>\n",
       "      <th>1337</th>\n",
       "      <td>X13</td>\n",
       "      <td>PoW/PoS</td>\n",
       "      <td>2.927942e+10</td>\n",
       "      <td>314159265359</td>\n",
       "    </tr>\n",
       "    <tr>\n",
       "      <th>BTC</th>\n",
       "      <td>SHA-256</td>\n",
       "      <td>PoW</td>\n",
       "      <td>1.792718e+07</td>\n",
       "      <td>21000000</td>\n",
       "    </tr>\n",
       "    <tr>\n",
       "      <th>ETH</th>\n",
       "      <td>Ethash</td>\n",
       "      <td>PoW</td>\n",
       "      <td>1.076842e+08</td>\n",
       "      <td>0</td>\n",
       "    </tr>\n",
       "  </tbody>\n",
       "</table>\n",
       "</div>"
      ],
      "text/plain": [
       "     Algorithm ProofType  TotalCoinsMined TotalCoinSupply\n",
       "42      Scrypt   PoW/PoS     4.199995e+01              42\n",
       "404     Scrypt   PoW/PoS     1.055185e+09       532000000\n",
       "1337       X13   PoW/PoS     2.927942e+10    314159265359\n",
       "BTC    SHA-256       PoW     1.792718e+07        21000000\n",
       "ETH     Ethash       PoW     1.076842e+08               0"
      ]
     },
     "execution_count": 15,
     "metadata": {},
     "output_type": "execute_result"
    }
   ],
   "source": [
    "# Drop the 'CoinName' column since it's not going to be used on the clustering algorithm\n",
    "crypto_df.drop(\"CoinName\", axis=1, inplace=True)\n",
    "crypto_df.head()"
   ]
  },
  {
   "cell_type": "code",
   "execution_count": 16,
   "metadata": {},
   "outputs": [
    {
     "data": {
      "text/html": [
       "<div>\n",
       "<style scoped>\n",
       "    .dataframe tbody tr th:only-of-type {\n",
       "        vertical-align: middle;\n",
       "    }\n",
       "\n",
       "    .dataframe tbody tr th {\n",
       "        vertical-align: top;\n",
       "    }\n",
       "\n",
       "    .dataframe thead th {\n",
       "        text-align: right;\n",
       "    }\n",
       "</style>\n",
       "<table border=\"1\" class=\"dataframe\">\n",
       "  <thead>\n",
       "    <tr style=\"text-align: right;\">\n",
       "      <th></th>\n",
       "      <th>Algorithm</th>\n",
       "      <th>ProofType</th>\n",
       "      <th>TotalCoinsMined</th>\n",
       "      <th>TotalCoinSupply</th>\n",
       "    </tr>\n",
       "  </thead>\n",
       "  <tbody>\n",
       "    <tr>\n",
       "      <th>42</th>\n",
       "      <td>52</td>\n",
       "      <td>15</td>\n",
       "      <td>4.199995e+01</td>\n",
       "      <td>42</td>\n",
       "    </tr>\n",
       "    <tr>\n",
       "      <th>404</th>\n",
       "      <td>52</td>\n",
       "      <td>15</td>\n",
       "      <td>1.055185e+09</td>\n",
       "      <td>532000000</td>\n",
       "    </tr>\n",
       "    <tr>\n",
       "      <th>1337</th>\n",
       "      <td>66</td>\n",
       "      <td>15</td>\n",
       "      <td>2.927942e+10</td>\n",
       "      <td>314159265359</td>\n",
       "    </tr>\n",
       "    <tr>\n",
       "      <th>BTC</th>\n",
       "      <td>47</td>\n",
       "      <td>12</td>\n",
       "      <td>1.792718e+07</td>\n",
       "      <td>21000000</td>\n",
       "    </tr>\n",
       "    <tr>\n",
       "      <th>ETH</th>\n",
       "      <td>20</td>\n",
       "      <td>12</td>\n",
       "      <td>1.076842e+08</td>\n",
       "      <td>0</td>\n",
       "    </tr>\n",
       "  </tbody>\n",
       "</table>\n",
       "</div>"
      ],
      "text/plain": [
       "      Algorithm  ProofType  TotalCoinsMined TotalCoinSupply\n",
       "42           52         15     4.199995e+01              42\n",
       "404          52         15     1.055185e+09       532000000\n",
       "1337         66         15     2.927942e+10    314159265359\n",
       "BTC          47         12     1.792718e+07        21000000\n",
       "ETH          20         12     1.076842e+08               0"
      ]
     },
     "execution_count": 16,
     "metadata": {},
     "output_type": "execute_result"
    }
   ],
   "source": [
    "# Create dummy variables for text features\n",
    "LE = LabelEncoder()\n",
    "X = crypto_df.copy()\n",
    "X['Algorithm'] = LE.fit_transform(X['Algorithm']) \n",
    "X['ProofType'] = LE.fit_transform(X['ProofType']) \n",
    "X.head()"
   ]
  },
  {
   "cell_type": "code",
   "execution_count": 17,
   "metadata": {},
   "outputs": [
    {
     "name": "stdout",
     "output_type": "stream",
     "text": [
      "[[ 3.76459118e-01  8.91356555e-01 -1.17108170e-01 -1.52870298e-01]\n",
      " [ 3.76459118e-01  8.91356555e-01 -9.39695522e-02 -1.45008997e-01]\n",
      " [ 1.21543803e+00  8.91356555e-01  5.24945609e-01  4.48942416e+00]\n",
      " [ 7.68237937e-02  1.67233875e-03 -1.16715055e-01 -1.52559984e-01]\n",
      " [-1.54120696e+00  1.67233875e-03 -1.14746818e-01 -1.52870298e-01]]\n"
     ]
    }
   ],
   "source": [
    "# Standardize data\n",
    "X_scaled = StandardScaler().fit_transform(X)\n",
    "print(X_scaled[0:5])"
   ]
  },
  {
   "cell_type": "markdown",
   "metadata": {},
   "source": [
    "### Reducing Dimensions Using PCA"
   ]
  },
  {
   "cell_type": "code",
   "execution_count": 18,
   "metadata": {},
   "outputs": [],
   "source": [
    "# Use PCA to reduce dimensions to 3 principal components\n",
    "pca = PCA(n_components=3)"
   ]
  },
  {
   "cell_type": "code",
   "execution_count": 19,
   "metadata": {},
   "outputs": [
    {
     "data": {
      "text/plain": [
       "array([0.4350467 , 0.28670411, 0.20538956])"
      ]
     },
     "execution_count": 19,
     "metadata": {},
     "output_type": "execute_result"
    }
   ],
   "source": [
    "# Create a DataFrame with the principal components data\n",
    "X_pca = pca.fit_transform(X_scaled)\n",
    "pcs_df = pd.DataFrame(data= X_pca, index=X.index, columns = [\"PC 1\", \"PC 2\",\"PC 3\"])\n",
    "pcs_df.head(10) \n",
    "\n",
    "# Examining the explained variance\n",
    "pca.explained_variance_ratio_"
   ]
  },
  {
   "cell_type": "markdown",
   "metadata": {},
   "source": [
    "### Clustering Crytocurrencies Using K-Means\n",
    "\n",
    "#### Finding the Best Value for `k` Using the Elbow Curve"
   ]
  },
  {
   "cell_type": "code",
   "execution_count": 20,
   "metadata": {},
   "outputs": [
    {
     "data": {},
     "metadata": {},
     "output_type": "display_data"
    },
    {
     "data": {
      "application/vnd.holoviews_exec.v0+json": "",
      "text/html": [
       "<div id='1002'>\n",
       "\n",
       "\n",
       "\n",
       "\n",
       "\n",
       "  <div class=\"bk-root\" id=\"8dda6c2e-7021-4783-ae72-fa41e961de49\" data-root-id=\"1002\"></div>\n",
       "</div>\n",
       "<script type=\"application/javascript\">(function(root) {\n",
       "  function embed_document(root) {\n",
       "    var docs_json = {\"01ad19c0-ef93-478f-a035-4f3bd23f0621\":{\"defs\":[{\"extends\":null,\"module\":null,\"name\":\"ReactiveHTML1\",\"overrides\":[],\"properties\":[]},{\"extends\":null,\"module\":null,\"name\":\"FlexBox1\",\"overrides\":[],\"properties\":[{\"default\":\"flex-start\",\"kind\":null,\"name\":\"align_content\"},{\"default\":\"flex-start\",\"kind\":null,\"name\":\"align_items\"},{\"default\":\"row\",\"kind\":null,\"name\":\"flex_direction\"},{\"default\":\"wrap\",\"kind\":null,\"name\":\"flex_wrap\"},{\"default\":\"flex-start\",\"kind\":null,\"name\":\"justify_content\"}]},{\"extends\":null,\"module\":null,\"name\":\"TemplateActions1\",\"overrides\":[],\"properties\":[{\"default\":0,\"kind\":null,\"name\":\"open_modal\"},{\"default\":0,\"kind\":null,\"name\":\"close_modal\"}]},{\"extends\":null,\"module\":null,\"name\":\"MaterialTemplateActions1\",\"overrides\":[],\"properties\":[{\"default\":0,\"kind\":null,\"name\":\"open_modal\"},{\"default\":0,\"kind\":null,\"name\":\"close_modal\"}]}],\"roots\":{\"references\":[{\"attributes\":{\"data\":{\"inertia\":{\"__ndarray__\":\"DZmtpNHTnkClz3hxN3GUQOErEfSl0IpApTfxKHrpgUC6IzP6YmN6QE0GaioVx3VA6bk7HJR0ckANTRDzda9uQNdR6+RGb2lAX0G0Aq0uZkA=\",\"dtype\":\"float64\",\"order\":\"little\",\"shape\":[10]},\"k\":[1,2,3,4,5,6,7,8,9,10]},\"selected\":{\"id\":\"1038\"},\"selection_policy\":{\"id\":\"1062\"}},\"id\":\"1037\",\"type\":\"ColumnDataSource\"},{\"attributes\":{\"bottom_units\":\"screen\",\"fill_alpha\":0.5,\"fill_color\":\"lightgrey\",\"left_units\":\"screen\",\"level\":\"overlay\",\"line_alpha\":1.0,\"line_color\":\"black\",\"line_dash\":[4,4],\"line_width\":2,\"right_units\":\"screen\",\"syncable\":false,\"top_units\":\"screen\"},\"id\":\"1029\",\"type\":\"BoxAnnotation\"},{\"attributes\":{\"below\":[{\"id\":\"1016\"}],\"center\":[{\"id\":\"1019\"},{\"id\":\"1023\"}],\"height\":300,\"left\":[{\"id\":\"1020\"}],\"margin\":[5,5,5,5],\"min_border_bottom\":10,\"min_border_left\":10,\"min_border_right\":10,\"min_border_top\":10,\"renderers\":[{\"id\":\"1043\"}],\"sizing_mode\":\"fixed\",\"title\":{\"id\":\"1008\"},\"toolbar\":{\"id\":\"1030\"},\"width\":700,\"x_range\":{\"id\":\"1004\"},\"x_scale\":{\"id\":\"1012\"},\"y_range\":{\"id\":\"1005\"},\"y_scale\":{\"id\":\"1014\"}},\"id\":\"1007\",\"subtype\":\"Figure\",\"type\":\"Plot\"},{\"attributes\":{\"source\":{\"id\":\"1037\"}},\"id\":\"1044\",\"type\":\"CDSView\"},{\"attributes\":{\"data_source\":{\"id\":\"1037\"},\"glyph\":{\"id\":\"1040\"},\"hover_glyph\":null,\"muted_glyph\":{\"id\":\"1042\"},\"nonselection_glyph\":{\"id\":\"1041\"},\"selection_glyph\":{\"id\":\"1045\"},\"view\":{\"id\":\"1044\"}},\"id\":\"1043\",\"type\":\"GlyphRenderer\"},{\"attributes\":{},\"id\":\"1014\",\"type\":\"LinearScale\"},{\"attributes\":{},\"id\":\"1012\",\"type\":\"LinearScale\"},{\"attributes\":{\"active_multi\":null,\"tools\":[{\"id\":\"1006\"},{\"id\":\"1024\"},{\"id\":\"1025\"},{\"id\":\"1026\"},{\"id\":\"1027\"},{\"id\":\"1028\"}]},\"id\":\"1030\",\"type\":\"Toolbar\"},{\"attributes\":{\"axis_label\":\"k\",\"formatter\":{\"id\":\"1048\"},\"major_label_policy\":{\"id\":\"1047\"},\"ticker\":{\"id\":\"1046\"}},\"id\":\"1016\",\"type\":\"LinearAxis\"},{\"attributes\":{\"line_color\":\"#30a2da\",\"line_width\":2,\"x\":{\"field\":\"k\"},\"y\":{\"field\":\"inertia\"}},\"id\":\"1045\",\"type\":\"Line\"},{\"attributes\":{},\"id\":\"1052\",\"type\":\"AllLabels\"},{\"attributes\":{\"ticks\":[1,2,3,4,5,6,7,8,9,10]},\"id\":\"1046\",\"type\":\"FixedTicker\"},{\"attributes\":{\"axis\":{\"id\":\"1016\"},\"grid_line_color\":null,\"ticker\":null},\"id\":\"1019\",\"type\":\"Grid\"},{\"attributes\":{},\"id\":\"1048\",\"type\":\"BasicTickFormatter\"},{\"attributes\":{\"axis_label\":\"inertia\",\"formatter\":{\"id\":\"1053\"},\"major_label_policy\":{\"id\":\"1052\"},\"ticker\":{\"id\":\"1021\"}},\"id\":\"1020\",\"type\":\"LinearAxis\"},{\"attributes\":{},\"id\":\"1021\",\"type\":\"BasicTicker\"},{\"attributes\":{},\"id\":\"1053\",\"type\":\"BasicTickFormatter\"},{\"attributes\":{\"axis\":{\"id\":\"1020\"},\"dimension\":1,\"grid_line_color\":null,\"ticker\":null},\"id\":\"1023\",\"type\":\"Grid\"},{\"attributes\":{\"line_alpha\":0.2,\"line_color\":\"#30a2da\",\"line_width\":2,\"x\":{\"field\":\"k\"},\"y\":{\"field\":\"inertia\"}},\"id\":\"1042\",\"type\":\"Line\"},{\"attributes\":{},\"id\":\"1024\",\"type\":\"SaveTool\"},{\"attributes\":{},\"id\":\"1047\",\"type\":\"AllLabels\"},{\"attributes\":{\"line_color\":\"#30a2da\",\"line_width\":2,\"x\":{\"field\":\"k\"},\"y\":{\"field\":\"inertia\"}},\"id\":\"1040\",\"type\":\"Line\"},{\"attributes\":{\"line_alpha\":0.1,\"line_color\":\"#30a2da\",\"line_width\":2,\"x\":{\"field\":\"k\"},\"y\":{\"field\":\"inertia\"}},\"id\":\"1041\",\"type\":\"Line\"},{\"attributes\":{},\"id\":\"1025\",\"type\":\"PanTool\"},{\"attributes\":{},\"id\":\"1062\",\"type\":\"UnionRenderers\"},{\"attributes\":{},\"id\":\"1026\",\"type\":\"WheelZoomTool\"},{\"attributes\":{\"margin\":[5,5,5,5],\"name\":\"HSpacer01632\",\"sizing_mode\":\"stretch_width\"},\"id\":\"1073\",\"type\":\"Spacer\"},{\"attributes\":{\"overlay\":{\"id\":\"1029\"}},\"id\":\"1027\",\"type\":\"BoxZoomTool\"},{\"attributes\":{\"end\":2152.5043407902785,\"reset_end\":2152.5043407902785,\"reset_start\":-2.0909915771286762,\"start\":-2.0909915771286762,\"tags\":[[[\"inertia\",\"inertia\",null]]]},\"id\":\"1005\",\"type\":\"Range1d\"},{\"attributes\":{\"margin\":[5,5,5,5],\"name\":\"HSpacer01631\",\"sizing_mode\":\"stretch_width\"},\"id\":\"1003\",\"type\":\"Spacer\"},{\"attributes\":{\"children\":[{\"id\":\"1003\"},{\"id\":\"1007\"},{\"id\":\"1073\"}],\"margin\":[0,0,0,0],\"name\":\"Row01627\",\"tags\":[\"embedded\"]},\"id\":\"1002\",\"type\":\"Row\"},{\"attributes\":{},\"id\":\"1028\",\"type\":\"ResetTool\"},{\"attributes\":{\"text\":\"Elbow Curve\",\"text_color\":\"black\",\"text_font_size\":\"12pt\"},\"id\":\"1008\",\"type\":\"Title\"},{\"attributes\":{\"end\":10.0,\"reset_end\":10.0,\"reset_start\":1.0,\"start\":1.0,\"tags\":[[[\"k\",\"k\",null]]]},\"id\":\"1004\",\"type\":\"Range1d\"},{\"attributes\":{\"callback\":null,\"renderers\":[{\"id\":\"1043\"}],\"tags\":[\"hv_created\"],\"tooltips\":[[\"k\",\"@{k}\"],[\"inertia\",\"@{inertia}\"]]},\"id\":\"1006\",\"type\":\"HoverTool\"},{\"attributes\":{},\"id\":\"1038\",\"type\":\"Selection\"}],\"root_ids\":[\"1002\"]},\"title\":\"Bokeh Application\",\"version\":\"2.3.3\"}};\n",
       "    var render_items = [{\"docid\":\"01ad19c0-ef93-478f-a035-4f3bd23f0621\",\"root_ids\":[\"1002\"],\"roots\":{\"1002\":\"8dda6c2e-7021-4783-ae72-fa41e961de49\"}}];\n",
       "    root.Bokeh.embed.embed_items_notebook(docs_json, render_items);\n",
       "  }\n",
       "  if (root.Bokeh !== undefined && root.Bokeh.Panel !== undefined) {\n",
       "    embed_document(root);\n",
       "  } else {\n",
       "    var attempts = 0;\n",
       "    var timer = setInterval(function(root) {\n",
       "      if (root.Bokeh !== undefined && root.Bokeh.Panel !== undefined) {\n",
       "        clearInterval(timer);\n",
       "        embed_document(root);\n",
       "      } else if (document.readyState == \"complete\") {\n",
       "        attempts++;\n",
       "        if (attempts > 200) {\n",
       "          clearInterval(timer);\n",
       "          console.log(\"Bokeh: ERROR: Unable to run BokehJS code because BokehJS library is missing\");\n",
       "        }\n",
       "      }\n",
       "    }, 25, root)\n",
       "  }\n",
       "})(window);</script>"
      ],
      "text/plain": [
       ":Curve   [k]   (inertia)"
      ]
     },
     "execution_count": 20,
     "metadata": {
      "application/vnd.holoviews_exec.v0+json": {
       "id": "1002"
      }
     },
     "output_type": "execute_result"
    }
   ],
   "source": [
    "inertia = []\n",
    "k = list(range(1, 11))\n",
    "\n",
    "# Calculate the inertia for the range of k values\n",
    "for i in k:\n",
    "   km = KMeans(n_clusters=i, random_state=0)\n",
    "   km.fit(pcs_df)\n",
    "   inertia.append(km.inertia_)\n",
    "\n",
    "# Create the Elbow Curve using hvPlot\n",
    "elbow_data = {\"k\": k, \"inertia\": inertia}\n",
    "df_elbow = pd.DataFrame(elbow_data)\n",
    "df_elbow.hvplot.line(x=\"k\", y=\"inertia\", xticks=k, title=\"Elbow Curve\")"
   ]
  },
  {
   "cell_type": "markdown",
   "metadata": {},
   "source": [
    "Running K-Means with `k=6`"
   ]
  },
  {
   "cell_type": "code",
   "execution_count": 22,
   "metadata": {},
   "outputs": [
    {
     "data": {
      "text/html": [
       "<div>\n",
       "<style scoped>\n",
       "    .dataframe tbody tr th:only-of-type {\n",
       "        vertical-align: middle;\n",
       "    }\n",
       "\n",
       "    .dataframe tbody tr th {\n",
       "        vertical-align: top;\n",
       "    }\n",
       "\n",
       "    .dataframe thead th {\n",
       "        text-align: right;\n",
       "    }\n",
       "</style>\n",
       "<table border=\"1\" class=\"dataframe\">\n",
       "  <thead>\n",
       "    <tr style=\"text-align: right;\">\n",
       "      <th></th>\n",
       "      <th>PC 1</th>\n",
       "      <th>PC 2</th>\n",
       "      <th>PC 3</th>\n",
       "      <th>Class</th>\n",
       "    </tr>\n",
       "  </thead>\n",
       "  <tbody>\n",
       "    <tr>\n",
       "      <th>42</th>\n",
       "      <td>-0.417875</td>\n",
       "      <td>0.810296</td>\n",
       "      <td>0.372138</td>\n",
       "      <td>0</td>\n",
       "    </tr>\n",
       "    <tr>\n",
       "      <th>404</th>\n",
       "      <td>-0.396564</td>\n",
       "      <td>0.815135</td>\n",
       "      <td>0.373256</td>\n",
       "      <td>0</td>\n",
       "    </tr>\n",
       "    <tr>\n",
       "      <th>1337</th>\n",
       "      <td>3.124076</td>\n",
       "      <td>2.209780</td>\n",
       "      <td>0.504335</td>\n",
       "      <td>5</td>\n",
       "    </tr>\n",
       "    <tr>\n",
       "      <th>BTC</th>\n",
       "      <td>-0.192083</td>\n",
       "      <td>0.016266</td>\n",
       "      <td>-0.072910</td>\n",
       "      <td>1</td>\n",
       "    </tr>\n",
       "    <tr>\n",
       "      <th>ETH</th>\n",
       "      <td>-0.044116</td>\n",
       "      <td>-1.167492</td>\n",
       "      <td>1.012525</td>\n",
       "      <td>4</td>\n",
       "    </tr>\n",
       "    <tr>\n",
       "      <th>LTC</th>\n",
       "      <td>-0.217954</td>\n",
       "      <td>0.235824</td>\n",
       "      <td>-0.273789</td>\n",
       "      <td>1</td>\n",
       "    </tr>\n",
       "    <tr>\n",
       "      <th>DASH</th>\n",
       "      <td>-0.482771</td>\n",
       "      <td>1.336609</td>\n",
       "      <td>-0.110253</td>\n",
       "      <td>0</td>\n",
       "    </tr>\n",
       "    <tr>\n",
       "      <th>XMR</th>\n",
       "      <td>-0.001979</td>\n",
       "      <td>-1.518631</td>\n",
       "      <td>1.334156</td>\n",
       "      <td>4</td>\n",
       "    </tr>\n",
       "    <tr>\n",
       "      <th>ETC</th>\n",
       "      <td>-0.041907</td>\n",
       "      <td>-1.167016</td>\n",
       "      <td>1.012991</td>\n",
       "      <td>4</td>\n",
       "    </tr>\n",
       "    <tr>\n",
       "      <th>ZEC</th>\n",
       "      <td>-0.034542</td>\n",
       "      <td>-1.255502</td>\n",
       "      <td>1.092984</td>\n",
       "      <td>4</td>\n",
       "    </tr>\n",
       "  </tbody>\n",
       "</table>\n",
       "</div>"
      ],
      "text/plain": [
       "          PC 1      PC 2      PC 3  Class\n",
       "42   -0.417875  0.810296  0.372138      0\n",
       "404  -0.396564  0.815135  0.373256      0\n",
       "1337  3.124076  2.209780  0.504335      5\n",
       "BTC  -0.192083  0.016266 -0.072910      1\n",
       "ETH  -0.044116 -1.167492  1.012525      4\n",
       "LTC  -0.217954  0.235824 -0.273789      1\n",
       "DASH -0.482771  1.336609 -0.110253      0\n",
       "XMR  -0.001979 -1.518631  1.334156      4\n",
       "ETC  -0.041907 -1.167016  1.012991      4\n",
       "ZEC  -0.034542 -1.255502  1.092984      4"
      ]
     },
     "execution_count": 22,
     "metadata": {},
     "output_type": "execute_result"
    }
   ],
   "source": [
    "# Initialize the K-Means model\n",
    "k=6\n",
    "model = KMeans(n_clusters=k, random_state=0)\n",
    "\n",
    "# Fit the model\n",
    "model.fit(pcs_df)\n",
    "\n",
    "# Predict clusters\n",
    "predictions = model.predict(pcs_df)\n",
    "\n",
    "# Create a new DataFrame including predicted clusters and cryptocurrencies features\n",
    "pcs_df[\"Class\"] = model.labels_\n",
    "\n",
    "pcs_df.head(10)"
   ]
  },
  {
   "cell_type": "code",
   "execution_count": 27,
   "metadata": {},
   "outputs": [
    {
     "data": {
      "text/html": [
       "<div>\n",
       "<style scoped>\n",
       "    .dataframe tbody tr th:only-of-type {\n",
       "        vertical-align: middle;\n",
       "    }\n",
       "\n",
       "    .dataframe tbody tr th {\n",
       "        vertical-align: top;\n",
       "    }\n",
       "\n",
       "    .dataframe thead th {\n",
       "        text-align: right;\n",
       "    }\n",
       "</style>\n",
       "<table border=\"1\" class=\"dataframe\">\n",
       "  <thead>\n",
       "    <tr style=\"text-align: right;\">\n",
       "      <th></th>\n",
       "      <th>Algorithm</th>\n",
       "      <th>ProofType</th>\n",
       "      <th>TotalCoinsMined</th>\n",
       "      <th>TotalCoinSupply</th>\n",
       "      <th>PC 1</th>\n",
       "      <th>PC 2</th>\n",
       "      <th>PC 3</th>\n",
       "      <th>CoinName</th>\n",
       "      <th>Class</th>\n",
       "    </tr>\n",
       "  </thead>\n",
       "  <tbody>\n",
       "    <tr>\n",
       "      <th>42</th>\n",
       "      <td>Scrypt</td>\n",
       "      <td>PoW/PoS</td>\n",
       "      <td>4.199995e+01</td>\n",
       "      <td>42</td>\n",
       "      <td>-0.417875</td>\n",
       "      <td>0.810296</td>\n",
       "      <td>0.372138</td>\n",
       "      <td>42 Coin</td>\n",
       "      <td>0</td>\n",
       "    </tr>\n",
       "    <tr>\n",
       "      <th>404</th>\n",
       "      <td>Scrypt</td>\n",
       "      <td>PoW/PoS</td>\n",
       "      <td>1.055185e+09</td>\n",
       "      <td>532000000</td>\n",
       "      <td>-0.396564</td>\n",
       "      <td>0.815135</td>\n",
       "      <td>0.373256</td>\n",
       "      <td>404Coin</td>\n",
       "      <td>0</td>\n",
       "    </tr>\n",
       "    <tr>\n",
       "      <th>1337</th>\n",
       "      <td>X13</td>\n",
       "      <td>PoW/PoS</td>\n",
       "      <td>2.927942e+10</td>\n",
       "      <td>314159265359</td>\n",
       "      <td>3.124076</td>\n",
       "      <td>2.209780</td>\n",
       "      <td>0.504335</td>\n",
       "      <td>EliteCoin</td>\n",
       "      <td>5</td>\n",
       "    </tr>\n",
       "    <tr>\n",
       "      <th>BTC</th>\n",
       "      <td>SHA-256</td>\n",
       "      <td>PoW</td>\n",
       "      <td>1.792718e+07</td>\n",
       "      <td>21000000</td>\n",
       "      <td>-0.192083</td>\n",
       "      <td>0.016266</td>\n",
       "      <td>-0.072910</td>\n",
       "      <td>Bitcoin</td>\n",
       "      <td>1</td>\n",
       "    </tr>\n",
       "    <tr>\n",
       "      <th>ETH</th>\n",
       "      <td>Ethash</td>\n",
       "      <td>PoW</td>\n",
       "      <td>1.076842e+08</td>\n",
       "      <td>0</td>\n",
       "      <td>-0.044116</td>\n",
       "      <td>-1.167492</td>\n",
       "      <td>1.012525</td>\n",
       "      <td>Ethereum</td>\n",
       "      <td>4</td>\n",
       "    </tr>\n",
       "    <tr>\n",
       "      <th>LTC</th>\n",
       "      <td>Scrypt</td>\n",
       "      <td>PoW</td>\n",
       "      <td>6.303924e+07</td>\n",
       "      <td>84000000</td>\n",
       "      <td>-0.217954</td>\n",
       "      <td>0.235824</td>\n",
       "      <td>-0.273789</td>\n",
       "      <td>Litecoin</td>\n",
       "      <td>1</td>\n",
       "    </tr>\n",
       "    <tr>\n",
       "      <th>DASH</th>\n",
       "      <td>X11</td>\n",
       "      <td>PoW/PoS</td>\n",
       "      <td>9.031294e+06</td>\n",
       "      <td>22000000</td>\n",
       "      <td>-0.482771</td>\n",
       "      <td>1.336609</td>\n",
       "      <td>-0.110253</td>\n",
       "      <td>Dash</td>\n",
       "      <td>0</td>\n",
       "    </tr>\n",
       "    <tr>\n",
       "      <th>XMR</th>\n",
       "      <td>CryptoNight-V7</td>\n",
       "      <td>PoW</td>\n",
       "      <td>1.720114e+07</td>\n",
       "      <td>0</td>\n",
       "      <td>-0.001979</td>\n",
       "      <td>-1.518631</td>\n",
       "      <td>1.334156</td>\n",
       "      <td>Monero</td>\n",
       "      <td>4</td>\n",
       "    </tr>\n",
       "    <tr>\n",
       "      <th>ETC</th>\n",
       "      <td>Ethash</td>\n",
       "      <td>PoW</td>\n",
       "      <td>1.133597e+08</td>\n",
       "      <td>210000000</td>\n",
       "      <td>-0.041907</td>\n",
       "      <td>-1.167016</td>\n",
       "      <td>1.012991</td>\n",
       "      <td>Ethereum Classic</td>\n",
       "      <td>4</td>\n",
       "    </tr>\n",
       "    <tr>\n",
       "      <th>ZEC</th>\n",
       "      <td>Equihash</td>\n",
       "      <td>PoW</td>\n",
       "      <td>7.383056e+06</td>\n",
       "      <td>21000000</td>\n",
       "      <td>-0.034542</td>\n",
       "      <td>-1.255502</td>\n",
       "      <td>1.092984</td>\n",
       "      <td>ZCash</td>\n",
       "      <td>4</td>\n",
       "    </tr>\n",
       "  </tbody>\n",
       "</table>\n",
       "</div>"
      ],
      "text/plain": [
       "           Algorithm ProofType  TotalCoinsMined TotalCoinSupply      PC 1  \\\n",
       "42            Scrypt   PoW/PoS     4.199995e+01              42 -0.417875   \n",
       "404           Scrypt   PoW/PoS     1.055185e+09       532000000 -0.396564   \n",
       "1337             X13   PoW/PoS     2.927942e+10    314159265359  3.124076   \n",
       "BTC          SHA-256       PoW     1.792718e+07        21000000 -0.192083   \n",
       "ETH           Ethash       PoW     1.076842e+08               0 -0.044116   \n",
       "LTC           Scrypt       PoW     6.303924e+07        84000000 -0.217954   \n",
       "DASH             X11   PoW/PoS     9.031294e+06        22000000 -0.482771   \n",
       "XMR   CryptoNight-V7       PoW     1.720114e+07               0 -0.001979   \n",
       "ETC           Ethash       PoW     1.133597e+08       210000000 -0.041907   \n",
       "ZEC         Equihash       PoW     7.383056e+06        21000000 -0.034542   \n",
       "\n",
       "          PC 2      PC 3          CoinName  Class  \n",
       "42    0.810296  0.372138           42 Coin      0  \n",
       "404   0.815135  0.373256           404Coin      0  \n",
       "1337  2.209780  0.504335         EliteCoin      5  \n",
       "BTC   0.016266 -0.072910           Bitcoin      1  \n",
       "ETH  -1.167492  1.012525          Ethereum      4  \n",
       "LTC   0.235824 -0.273789          Litecoin      1  \n",
       "DASH  1.336609 -0.110253              Dash      0  \n",
       "XMR  -1.518631  1.334156            Monero      4  \n",
       "ETC  -1.167016  1.012991  Ethereum Classic      4  \n",
       "ZEC  -1.255502  1.092984             ZCash      4  "
      ]
     },
     "execution_count": 27,
     "metadata": {},
     "output_type": "execute_result"
    }
   ],
   "source": [
    "# Creating a new DataFrame named clustered_df, that includes the following columns \"Algorithm\", \"ProofType\", \"TotalCoinsMined\", \"TotalCoinSupply\", \"PC 1\", \"PC 2\", \"PC 3\", \"CoinName\", \"Class\"\n",
    "clustered_df = crypto_df.merge(pcs_df, how='outer', left_index=True, right_index=True)\n",
    "clustered_df['CoinName'] = coin_names_df.values\n",
    "reorder = ['Algorithm', 'ProofType', 'TotalCoinsMined', 'TotalCoinSupply', 'PC 1', 'PC 2', 'PC 3', 'CoinName', 'Class']\n",
    "clustered_df = clustered_df.reindex(columns=reorder)\n",
    "clustered_df.head(10)"
   ]
  },
  {
   "cell_type": "markdown",
   "metadata": {},
   "source": [
    "### Visualizing Results\n",
    "\n",
    "#### 3D-Scatter with Clusters"
   ]
  },
  {
   "cell_type": "code",
   "execution_count": 43,
   "metadata": {},
   "outputs": [
    {
     "data": {
      "application/vnd.plotly.v1+json": {
       "config": {
        "plotlyServerURL": "https://plot.ly"
       },
       "data": [
        {
         "customdata": [
          [
           "Scrypt"
          ],
          [
           "Scrypt"
          ],
          [
           "X11"
          ],
          [
           "SHA-256"
          ],
          [
           "X15"
          ],
          [
           "Scrypt"
          ],
          [
           "Scrypt"
          ],
          [
           "Scrypt"
          ],
          [
           "Scrypt"
          ],
          [
           "Scrypt"
          ],
          [
           "Scrypt"
          ],
          [
           "X11"
          ],
          [
           "SHA3"
          ],
          [
           "SHA-256"
          ],
          [
           "X13"
          ],
          [
           "X13"
          ],
          [
           "NeoScrypt"
          ],
          [
           "Scrypt"
          ],
          [
           "Scrypt"
          ],
          [
           "Scrypt"
          ],
          [
           "X11"
          ],
          [
           "X11"
          ],
          [
           "Scrypt"
          ],
          [
           "Scrypt"
          ],
          [
           "X11"
          ],
          [
           "X13"
          ],
          [
           "Scrypt"
          ],
          [
           "SHA-256"
          ],
          [
           "X13"
          ],
          [
           "Scrypt"
          ],
          [
           "X13"
          ],
          [
           "Scrypt"
          ],
          [
           "X11"
          ],
          [
           "SHA3"
          ],
          [
           "QUAIT"
          ],
          [
           "X13"
          ],
          [
           "SHA-256"
          ],
          [
           "X15"
          ],
          [
           "SHA-256"
          ],
          [
           "X11"
          ],
          [
           "SHA-256"
          ],
          [
           "NIST5"
          ],
          [
           "Scrypt"
          ],
          [
           "X11"
          ],
          [
           "SHA-256"
          ],
          [
           "X11"
          ],
          [
           "SHA-256"
          ],
          [
           "SHA-256"
          ],
          [
           "NIST5"
          ],
          [
           "X11"
          ],
          [
           "Scrypt"
          ],
          [
           "Scrypt"
          ],
          [
           "Scrypt"
          ],
          [
           "Equihash"
          ],
          [
           "X11"
          ],
          [
           "Scrypt"
          ],
          [
           "SHA-256"
          ],
          [
           "X11"
          ],
          [
           "Scrypt"
          ],
          [
           "Scrypt"
          ],
          [
           "Scrypt"
          ],
          [
           "SHA-256D"
          ],
          [
           "Scrypt"
          ],
          [
           "X11"
          ],
          [
           "X14"
          ],
          [
           "SHA-256D"
          ],
          [
           "X11"
          ],
          [
           "X13"
          ],
          [
           "X11"
          ],
          [
           "Scrypt"
          ],
          [
           "Scrypt"
          ],
          [
           "X11"
          ],
          [
           "SHA-256"
          ],
          [
           "Scrypt"
          ],
          [
           "X11"
          ],
          [
           "Scrypt"
          ],
          [
           "Scrypt"
          ],
          [
           "X11"
          ],
          [
           "Scrypt"
          ],
          [
           "Scrypt"
          ],
          [
           "Scrypt"
          ],
          [
           "QuBit"
          ],
          [
           "Scrypt"
          ],
          [
           "SHA-256"
          ],
          [
           "X11"
          ],
          [
           "Scrypt"
          ],
          [
           "Scrypt"
          ],
          [
           "Scrypt"
          ],
          [
           "Scrypt"
          ],
          [
           "X11"
          ],
          [
           "X11"
          ],
          [
           "X11"
          ],
          [
           "X11"
          ],
          [
           "Scrypt"
          ],
          [
           "Scrypt"
          ],
          [
           "Scrypt"
          ],
          [
           "X11"
          ],
          [
           "Scrypt"
          ],
          [
           "X15"
          ],
          [
           "NIST5"
          ],
          [
           "NIST5"
          ],
          [
           "Skein"
          ],
          [
           "X13"
          ],
          [
           "Scrypt"
          ],
          [
           "X13"
          ],
          [
           "Skein"
          ],
          [
           "X11"
          ],
          [
           "VeChainThor Authority"
          ],
          [
           "Scrypt"
          ],
          [
           "Scrypt"
          ],
          [
           "X11"
          ],
          [
           "NeoScrypt"
          ],
          [
           "Scrypt"
          ],
          [
           "Scrypt"
          ],
          [
           "SHA-256"
          ],
          [
           "NIST5"
          ],
          [
           "PHI1612"
          ],
          [
           "Scrypt"
          ],
          [
           "Quark"
          ],
          [
           "Scrypt"
          ],
          [
           "X11"
          ],
          [
           "NIST5"
          ],
          [
           "X13"
          ],
          [
           "Scrypt"
          ],
          [
           "Scrypt"
          ],
          [
           "Scrypt"
          ],
          [
           "X11"
          ],
          [
           "Scrypt"
          ],
          [
           "Scrypt"
          ],
          [
           "Scrypt"
          ],
          [
           "Scrypt"
          ],
          [
           "X11"
          ],
          [
           "XEVAN"
          ],
          [
           "NIST5"
          ],
          [
           "Scrypt"
          ],
          [
           "Scrypt"
          ],
          [
           "Scrypt"
          ],
          [
           "Quark"
          ],
          [
           "Scrypt"
          ],
          [
           "Scrypt"
          ],
          [
           "SHA-256D"
          ],
          [
           "Scrypt"
          ],
          [
           "X16R"
          ],
          [
           "Quark"
          ],
          [
           "Scrypt"
          ],
          [
           "X11"
          ],
          [
           "Scrypt"
          ],
          [
           "SHA-512"
          ],
          [
           "XEVAN"
          ],
          [
           "Quark"
          ],
          [
           "Scrypt"
          ],
          [
           "Quark"
          ],
          [
           "Scrypt"
          ],
          [
           "Scrypt"
          ],
          [
           "XEVAN"
          ],
          [
           "SHA-256D"
          ],
          [
           "X11"
          ],
          [
           "X11"
          ],
          [
           "Scrypt"
          ],
          [
           "X11"
          ],
          [
           "Scrypt"
          ],
          [
           "Scrypt"
          ],
          [
           "Scrypt"
          ],
          [
           "X11"
          ],
          [
           "Scrypt"
          ],
          [
           "SHA-256"
          ],
          [
           "X11"
          ],
          [
           "Scrypt"
          ],
          [
           "Scrypt"
          ],
          [
           "X11"
          ],
          [
           "Scrypt"
          ],
          [
           "X11"
          ],
          [
           "SHA-256"
          ],
          [
           "Scrypt"
          ],
          [
           "NeoScrypt"
          ],
          [
           "X13"
          ],
          [
           "Scrypt"
          ]
         ],
         "hovertemplate": "<b>%{hovertext}</b><br><br>Class=%{marker.color}<br>PC 1=%{x}<br>PC 2=%{y}<br>PC 3=%{z}<br>Algorithm=%{customdata[0]}<extra></extra>",
         "hovertext": [
          "42 Coin",
          "404Coin",
          "Dash",
          "BitcoinDark",
          "KoboCoin",
          "Aurora Coin",
          "BlueCoin",
          "EnergyCoin",
          "BitBar",
          "CryptoBullion",
          "HoboNickels",
          "IOCoin",
          "MaxCoin",
          "MazaCoin",
          "NavCoin",
          "OpalCoin",
          "Orbitcoin",
          "PotCoin",
          "PhoenixCoin",
          "Reddcoin",
          "SyncCoin",
          "TorCoin",
          "UnitaryStatus Dollar",
          "UltraCoin",
          "X11 Coin",
          "StealthCoin",
          "ZCC Coin",
          "Neutron",
          "Kore",
          "8BIT Coin",
          "Sativa Coin",
          "Vtorrent",
          "IslaCoin",
          "Nexus",
          "Droidz",
          "Paycon",
          "Emercoin",
          "EverGreenCoin",
          "EDRCoin",
          "Hitcoin",
          "DubaiCoin",
          "PWR Coin",
          "BillaryCoin",
          "EuropeCoin",
          "SwingCoin",
          "Ratecoin",
          "Revenu",
          "Clockcoin",
          "VIP Tokens",
          "BitSend",
          "PutinCoin",
          "iBankCoin",
          "Frankywillcoin",
          "Komodo",
          "GoldBlocks",
          "CarterCoin",
          "BitTokens",
          "MustangCoin",
          "ZoneCoin",
          "RootCoin",
          "Swiscoin",
          "BuzzCoin",
          "PesoBit",
          "Halloween Coin",
          "GanjaCoin V2",
          "LanaCoin",
          "InsaneCoin",
          "EmberCoin",
          "XenixCoin",
          "PLNCoin",
          "AquariusCoin",
          "Eternity",
          "Eurocoin",
          "BitcoinFast",
          "Stakenet",
          "BitConnect Coin",
          "MoneyCoin",
          "Enigma",
          "Russiacoin",
          "GameUnits",
          "GAKHcoin",
          "LiteCreed",
          "Klingon Empire Darsek",
          "Internet of People",
          "KushCoin",
          "Printerium",
          "Impeach",
          "FirstCoin",
          "OpenChat",
          "VirtacoinPlus",
          "Impact",
          "HappyCoin",
          "Condensate",
          "Independent Money System",
          "ArgusCoin",
          "LomoCoin",
          "GoldReserve",
          "Degas Coin",
          "HTML5 Coin",
          "Denarius",
          "Virta Unique Coin",
          "Bitcoin Planet",
          "BritCoin",
          "Linda",
          "DeepOnion",
          "Cream",
          "Monoeci",
          "Vechain",
          "CoinonatX",
          "Ethereum Dark",
          "Regalcoin",
          "TrezarCoin",
          "TerraNovaCoin",
          "WomenCoin",
          "Theresa May Coin",
          "NamoCoin",
          "LUXCoin",
          "Xios",
          "Bitcloud 2.0",
          "BlackholeCoin",
          "Magnet",
          "Electra",
          "Bitcoin Diamond",
          "Cash & Back Coin",
          "GermanCoin",
          "LiteCoin Ultra",
          "PhantomX",
          "Trollcoin",
          "Litecoin Plus",
          "My Big Coin",
          "Unified Society USDEX",
          "Pushi",
          "Ellerium",
          "Bitspace",
          "Briacoin",
          "Ignition",
          "Abjcoin",
          "Carebit",
          "iDealCash",
          "Swisscoin",
          "TheVig",
          "EmaratCoin",
          "Trivechain",
          "Giant",
          "TPCash",
          "EUNO",
          "ThunderStake",
          "Kcash",
          "BitMoney",
          "HerbCoin",
          "Oduwa",
          "Galilel",
          "Credit",
          "Nasdacoin",
          "Beetle Coin",
          "Titan Coin",
          "Award",
          "Insane Coin",
          "LiteDoge",
          "TruckCoin",
          "OrangeCoin",
          "BitstarCoin",
          "HyperCoin",
          "PinkCoin",
          "AudioCoin",
          "IncaKoin",
          "Piggy Coin",
          "Genstake",
          "XiaoMiCoin",
          "CapriCoin",
          " ClubCoin",
          "Creditbit ",
          "OKCash",
          "WhiteCoin",
          "FriendshipCoin",
          "Triangles Coin",
          "Gapcoin"
         ],
         "legendgroup": "0",
         "marker": {
          "color": [
           0,
           0,
           0,
           0,
           0,
           0,
           0,
           0,
           0,
           0,
           0,
           0,
           0,
           0,
           0,
           0,
           0,
           0,
           0,
           0,
           0,
           0,
           0,
           0,
           0,
           0,
           0,
           0,
           0,
           0,
           0,
           0,
           0,
           0,
           0,
           0,
           0,
           0,
           0,
           0,
           0,
           0,
           0,
           0,
           0,
           0,
           0,
           0,
           0,
           0,
           0,
           0,
           0,
           0,
           0,
           0,
           0,
           0,
           0,
           0,
           0,
           0,
           0,
           0,
           0,
           0,
           0,
           0,
           0,
           0,
           0,
           0,
           0,
           0,
           0,
           0,
           0,
           0,
           0,
           0,
           0,
           0,
           0,
           0,
           0,
           0,
           0,
           0,
           0,
           0,
           0,
           0,
           0,
           0,
           0,
           0,
           0,
           0,
           0,
           0,
           0,
           0,
           0,
           0,
           0,
           0,
           0,
           0,
           0,
           0,
           0,
           0,
           0,
           0,
           0,
           0,
           0,
           0,
           0,
           0,
           0,
           0,
           0,
           0,
           0,
           0,
           0,
           0,
           0,
           0,
           0,
           0,
           0,
           0,
           0,
           0,
           0,
           0,
           0,
           0,
           0,
           0,
           0,
           0,
           0,
           0,
           0,
           0,
           0,
           0,
           0,
           0,
           0,
           0,
           0,
           0,
           0,
           0,
           0,
           0,
           0,
           0,
           0,
           0,
           0,
           0,
           0,
           0,
           0,
           0,
           0,
           0,
           0,
           0,
           0,
           0,
           0
          ],
          "coloraxis": "coloraxis",
          "symbol": "circle"
         },
         "mode": "markers",
         "name": "0",
         "scene": "scene",
         "showlegend": true,
         "type": "scatter3d",
         "x": [
          -0.41787462586730256,
          -0.39656383123363503,
          -0.48277085559300736,
          -0.39044317308421744,
          -0.500957310162906,
          -0.41743127807040065,
          -0.4082801670159272,
          -0.4160164640337749,
          -0.4178689292724757,
          -0.4178488275196825,
          -0.41531362224662893,
          -0.4826407053190241,
          -0.4104979743707987,
          -0.34186041676327034,
          -0.49300759470218747,
          -0.4937766134079506,
          -0.3307812142369016,
          -0.41026637958966156,
          -0.4157671655291186,
          0.02477009252351025,
          -0.4831296022431727,
          -0.48300691550716224,
          -0.38510605969075246,
          -0.4161051634911838,
          -0.48296907533526107,
          -0.49350577170402316,
          -0.4055306109414017,
          -0.3894068881363557,
          -0.4938536125815684,
          -0.41785246354564637,
          -0.4937972120617302,
          -0.4174972143555644,
          -0.48310677424462223,
          -0.6088064991868231,
          -0.3741907661289345,
          -0.4931520633571691,
          -0.37992540314629086,
          -0.5044111371061615,
          -0.3904072242058384,
          -0.04868653336608218,
          -0.39050144831415395,
          -0.17338834680848253,
          -0.4173141545721918,
          -0.47909045259265476,
          -0.39021457272159915,
          -0.48033973393619417,
          -0.3884153598261398,
          -0.38512597554184513,
          -0.32326014394173097,
          -0.4813561766222072,
          -0.385378564703287,
          -0.4173580962480525,
          -0.41535374971585104,
          -0.8235720988136246,
          -0.48238915313867287,
          -0.41631300588404996,
          -0.3904637529073751,
          -0.48308937187381384,
          -0.41762334218294056,
          -0.4178453359484446,
          -0.5085708944096996,
          0.09623944654193839,
          -0.41736845354007834,
          -0.4639689699462845,
          -0.49692250371391017,
          -0.3093393188311519,
          -0.48254938239514666,
          0.9066352241173451,
          -0.4830324924879633,
          -0.41722696700282336,
          -0.4174130424310858,
          -0.4824314171916103,
          -0.3902953715897506,
          -0.4172353438371654,
          -0.9434937444408652,
          -0.41742425065745686,
          -0.4111320032674439,
          -0.483066781827321,
          -0.4162923637402216,
          -0.4176907642337609,
          -0.41779103995683464,
          -0.3785558085649743,
          -0.41245803339297155,
          -0.3904346014401563,
          -0.4829496177419851,
          -0.4174939377155651,
          -0.417648239350726,
          -0.48114149779273485,
          -0.39266585482383787,
          -0.48191993513864295,
          -0.48034714677421875,
          -0.4817937264882814,
          -0.47623783319198504,
          -0.417579116530617,
          -0.41756815730027486,
          -0.40775761117765535,
          -0.4824659755293274,
          -0.4164906304724926,
          1.0188936356475569,
          -0.32526595942736436,
          -0.32326652147902873,
          -0.43307468997212584,
          -0.49338104657877807,
          0.22417085796730726,
          -0.49348348164162076,
          -0.43246275374668397,
          -0.4828437295493775,
          0.9060555562696831,
          -0.4170917907495795,
          -0.4177687500832454,
          -0.48274701730915925,
          -0.3240664564664493,
          -0.41769834702396197,
          0.5665664289713815,
          -0.38828419245314083,
          -0.3048345641521598,
          -0.3410118104523478,
          -0.4176298693411399,
          -0.3827615090083806,
          -0.41747806227744955,
          -0.48109709473434986,
          0.4066614031251372,
          -0.48911123970641784,
          -0.41407596370617267,
          0.16175892336513129,
          -0.4162310798797231,
          -0.481942057537319,
          -0.39985207411115614,
          -0.41779637305775097,
          -0.35138958359620703,
          -0.41198321516033426,
          -0.4828441607873839,
          -0.5151442329907567,
          -0.3247163787206348,
          -0.41783152998367196,
          -0.4178062298981542,
          -0.41742215421439954,
          -0.3811152611788436,
          -0.3448926305060079,
          -0.16074515148325788,
          -0.4000480560097832,
          -0.416699296734795,
          -0.5089271996035134,
          -0.3851056712795804,
          -0.4076835671631726,
          -0.4821595341724638,
          -0.21989966619492912,
          -0.9101087073406783,
          -0.06910540339288894,
          -0.38416802465938454,
          -0.417439197397739,
          -0.3847788925463076,
          0.8037602651790108,
          -0.4167151934572998,
          -0.5076985707578655,
          -0.33747911408111947,
          -0.4786508195244468,
          -0.4824673456411705,
          0.16726125013366133,
          -0.47946692948041647,
          -0.41579932519674956,
          -0.41701543517734824,
          -0.4177292024901661,
          -0.47148626017344936,
          -0.2969168523582982,
          -0.1178868455641985,
          -0.4655574729717256,
          -0.41681702657423425,
          -0.407725942300048,
          -0.47798639957798994,
          -0.41469249393356095,
          -0.8789466012946767,
          -0.38849599156398834,
          -0.4110366779682848,
          -0.330242771136874,
          -0.49400212520862147,
          -0.41512181196732967
         ],
         "y": [
          0.8102956393790155,
          0.8151352783213073,
          1.3366086693013612,
          0.5910839678621314,
          1.5127909817174048,
          0.8103954030119682,
          0.8125131647424392,
          0.8107251082121686,
          0.810296875345768,
          0.8103014407069677,
          0.8108681923797403,
          1.3366387503655675,
          0.766874792014282,
          0.6019259281418475,
          1.4244655395226107,
          1.424287799588949,
          0.10867020232537018,
          0.8119863380638815,
          0.810766916342767,
          0.9126021792565788,
          1.3365293030345171,
          1.336556045863137,
          0.8176111538019065,
          0.8106884736740895,
          1.336565517718647,
          1.4243503980486847,
          0.8129873194251723,
          0.5913160583174526,
          1.4242680670479544,
          0.8103007616663721,
          1.4242814253300937,
          0.8103796420956091,
          1.336534579331426,
          1.3417088241569852,
          0.45951410839384027,
          1.424424082203555,
          0.5933571053166073,
          1.512044939283646,
          0.5910922765693324,
          1.4326567024341705,
          0.5910723543521389,
          0.09993868959447677,
          0.8104184024631594,
          1.3374009003389107,
          0.5911338991775988,
          1.3371620129038553,
          0.591520262870847,
          0.5922317553848953,
          0.06528495546685167,
          1.3369167613018131,
          0.8174836356288748,
          0.81040786995985,
          0.8108621446570958,
          1.044762293579762,
          1.336692373052391,
          0.8106420493518798,
          0.5910793726757173,
          1.3365381174507607,
          0.8103503293837132,
          0.8103024090367734,
          1.2026097024268747,
          0.7905648744518162,
          0.8104126287843457,
          1.3407158091267017,
          1.468654216670442,
          0.6988409858350465,
          1.3366585667283775,
          1.7478217318023435,
          1.3365511260605032,
          0.810439111975322,
          0.8103955469443688,
          1.3366809913644837,
          0.591118451252211,
          0.810438069687827,
          2.6783325611123203,
          0.8103952151707774,
          0.8117490560028046,
          1.3365430159131118,
          0.8106381080175924,
          0.8103360371252714,
          0.8103144232686686,
          0.5036029792319481,
          0.8114668836395306,
          0.5910861103269743,
          1.3365693930697486,
          0.8103803994110967,
          0.8103444244278313,
          1.002543518366468,
          0.8159606943011997,
          1.3367927544487446,
          1.3371546527699851,
          1.3368219245027038,
          1.3380414985668343,
          0.8103605168422949,
          0.8103618578542231,
          0.8124726025902106,
          1.336676230810873,
          0.8105985756837834,
          1.849603521035942,
          0.06483426715296563,
          0.06527864130851586,
          0.9420953215085817,
          1.424374385075962,
          0.9506218969969089,
          1.4243525008538476,
          0.9422367556548514,
          1.3365938418166192,
          2.6329470018590064,
          0.8104687877555572,
          0.810319432372757,
          1.3366133722487583,
          0.11015822791741081,
          0.8103338435570743,
          1.0337917444180675,
          0.5915703792433136,
          0.06936449382112926,
          0.19651587083941569,
          0.8103488207901556,
          0.5477210323358886,
          0.8103849094819204,
          1.336975835075638,
          0.2291629080872764,
          1.425332206007795,
          0.8111397265529228,
          0.9361968992266816,
          0.810651304259323,
          1.3367957083053954,
          0.8143159086535369,
          0.8103130802629827,
          0.6187689747090854,
          0.8116198649408145,
          1.3365912425774509,
          1.5997781018715271,
          0.06495483581261917,
          0.8103051159344935,
          0.8103106407563244,
          0.8103953770361018,
          0.5481015224043617,
          0.826337282728364,
          0.868079201774258,
          0.6790707424225432,
          0.8105537356644316,
          1.556101733230688,
          0.5472106729386179,
          0.8124897160597838,
          1.336745443880858,
          0.8531486392709717,
          2.261252869961584,
          2.519138001646248,
          0.5474195058956792,
          0.8103928899633983,
          0.5472839596988134,
          1.080578677128178,
          0.8105500615244109,
          1.6014279964456704,
          0.6927414714296445,
          1.337496702634028,
          1.3366775275249096,
          0.939888700974977,
          1.3373758407494918,
          0.8107430269228799,
          0.8104854667916207,
          0.8103292504556046,
          1.3391397088792425,
          0.8365580300177884,
          0.6540516162403307,
          1.3404293344625704,
          0.8105376576168047,
          0.8125767249995987,
          1.3376844708118616,
          0.8110052975250592,
          2.4863725180163807,
          0.5915206203491618,
          0.8118276629490355,
          0.10878555115144681,
          1.4242356586711244,
          0.8108915506855716
         ],
         "z": [
          0.3721377359145993,
          0.373255833258763,
          -0.11025277404054512,
          0.5732026086646982,
          -0.2703392113887371,
          0.37217386389936596,
          0.37210052170926894,
          0.3721305285514275,
          0.37213884225426136,
          0.37213989281530846,
          0.37239864960638863,
          -0.11025327885553847,
          0.41255915314432645,
          0.5784247940097565,
          -0.19071137048433162,
          -0.190708387684826,
          1.0153976066235566,
          0.37305619075633867,
          0.37235075345350305,
          0.3704208459219103,
          -0.11030103562488831,
          -0.11027894315026235,
          0.3756219317451417,
          0.3723565785686804,
          -0.11028924669026982,
          -0.19070943820088557,
          0.3743469167613404,
          0.5733024139671415,
          -0.19068100431011728,
          0.37213764985861497,
          -0.19068573719085932,
          0.37218141314608844,
          -0.11030112642510356,
          1.058619748136653,
          0.6937743054063703,
          -0.19059795714355995,
          0.5753692177633281,
          -0.2710564297648802,
          0.5732024692294728,
          -0.05206117883848182,
          0.5731768785098782,
          1.0550029396605072,
          0.3722303584256613,
          -0.10944999361149847,
          0.5732423490665162,
          -0.11014257948485655,
          0.5736477916920144,
          0.5743172858734363,
          1.055787384076479,
          -0.10999418517396248,
          0.37652581262429086,
          0.37223579533468487,
          0.3723536640535704,
          3.6778129277959297,
          -0.1101910568793444,
          0.3723348141309772,
          0.5732004314280572,
          -0.11029442274449262,
          0.3721841594189625,
          0.3721376222127418,
          0.8097137850806353,
          0.5359578023860639,
          0.3721357725248197,
          -0.10698976672366861,
          -0.23069480294357284,
          0.5093312193725579,
          -0.11023557659232139,
          -0.1942216763797954,
          -0.11029271735351166,
          0.37222221082364654,
          0.3722307419828549,
          -0.11016832235160656,
          0.573197521266205,
          0.372209739203771,
          1.397453073977719,
          0.3721991866193936,
          0.37358016129008015,
          -0.11028999624514343,
          0.37245661529418134,
          0.3721663644512222,
          0.37214489554839725,
          0.653733427942243,
          0.3732452563252222,
          0.5732003183580093,
          -0.11028062345221704,
          0.3721814004369564,
          0.37218636257619725,
          0.5877450959311877,
          0.37429701812051314,
          -0.11008002385030946,
          -0.11006355364035253,
          -0.11008051337689331,
          -0.10919923915667766,
          0.37218446665031973,
          0.3722010990272012,
          0.3743555546464194,
          -0.11021332950546325,
          0.3723693589816897,
          -0.07388886121090495,
          1.0556145992680326,
          1.0558551206064584,
          0.25174942873205874,
          -0.19064221017993774,
          0.48250041739825966,
          -0.1906668703183666,
          0.2517470552097285,
          -0.11028068821985604,
          1.195819089302489,
          0.37224360707891757,
          0.3721468048095559,
          -0.1102415812034079,
          1.016265876830746,
          0.372172563158633,
          0.42474587026044386,
          0.5733702852706122,
          1.0582212529754669,
          0.9351155561397864,
          0.3721841847359074,
          0.6137988935970535,
          0.37216957568811754,
          -0.10998390477822675,
          1.1204648890482793,
          -0.19025250075656547,
          0.3725969844696124,
          0.4827424951088352,
          0.37246991995061557,
          -0.11019279103292036,
          0.3740991853935202,
          0.3721464605390704,
          0.15683388173232385,
          0.3726385226228645,
          -0.11024571853171664,
          -0.3513873782415389,
          1.0557027499957516,
          0.3721443398427639,
          0.37214875583066126,
          0.3722036926074596,
          0.6137925082813578,
          0.38341521001179735,
          0.39416241524926005,
          0.4929672674127671,
          0.3723227700819672,
          -0.3111362801313663,
          0.6133682000786523,
          0.37435526745125974,
          -0.1101919475044147,
          0.4119969246533311,
          2.1776621928240085,
          0.6651960871246434,
          0.613474818333741,
          0.3721834451749914,
          0.6133982718719275,
          0.5362274414705291,
          0.3723228317407223,
          -0.3504231514932829,
          0.5037841736336162,
          -0.10937044466803861,
          -0.11023589478898851,
          0.44886525650140574,
          -0.11031524432247344,
          0.37258109828894215,
          0.3722568625734022,
          0.3721371717648928,
          -0.10921766912404356,
          0.3953677035369658,
          0.572524628122533,
          -0.10811213527274396,
          0.37216748959696283,
          0.37300119594466963,
          -0.10985151843257991,
          0.37248652282178807,
          1.181953610836067,
          0.5733823920765505,
          0.37278833134584255,
          1.015522812144337,
          -0.19070724214308063,
          0.37269132340146915
         ]
        },
        {
         "customdata": [
          [
           "X13"
          ],
          [
           "Scrypt"
          ],
          [
           "CryptoNight"
          ],
          [
           "Scrypt"
          ],
          [
           "CryptoNight"
          ],
          [
           "CryptoNight Heavy"
          ]
         ],
         "hovertemplate": "<b>%{hovertext}</b><br><br>Class=%{marker.color}<br>PC 1=%{x}<br>PC 2=%{y}<br>PC 3=%{z}<br>Algorithm=%{customdata[0]}<extra></extra>",
         "hovertext": [
          "EliteCoin",
          "MoonCoin",
          "ByteCoin",
          "gCn Coin",
          "TurtleCoin",
          "Qwertycoin"
         ],
         "legendgroup": "5",
         "marker": {
          "color": [
           5,
           5,
           5,
           5,
           5,
           5
          ],
          "coloraxis": "coloraxis",
          "symbol": "diamond"
         },
         "mode": "markers",
         "name": "5",
         "scene": "scene",
         "showlegend": true,
         "type": "scatter3d",
         "x": [
          3.124075969795501,
          3.6622798624361335,
          4.652786103448566,
          4.264156912675371,
          10.92047812012298,
          3.371275565155649
         ],
         "y": [
          2.2097803705211123,
          1.0707053858065012,
          -0.5627761751166058,
          1.2395008276802373,
          0.7542715422460904,
          -0.8138568731053872
         ],
         "z": [
          0.5043352582499488,
          0.5776818911336001,
          1.812904667491863,
          0.16004838607688118,
          3.629299854236136,
          1.7776567266867171
         ]
        },
        {
         "customdata": [
          [
           "SHA-256"
          ],
          [
           "Scrypt"
          ],
          [
           "Scrypt"
          ],
          [
           "X11"
          ],
          [
           "Scrypt"
          ],
          [
           "SHA-256"
          ],
          [
           "Scrypt"
          ],
          [
           "Scrypt"
          ],
          [
           "Quark"
          ],
          [
           "Scrypt"
          ],
          [
           "Scrypt"
          ],
          [
           "Scrypt"
          ],
          [
           "X11"
          ],
          [
           "SHA-256"
          ],
          [
           "Scrypt"
          ],
          [
           "Scrypt"
          ],
          [
           "Scrypt"
          ],
          [
           "Scrypt"
          ],
          [
           "Scrypt"
          ],
          [
           "Scrypt"
          ],
          [
           "Scrypt"
          ],
          [
           "Scrypt"
          ],
          [
           "Scrypt"
          ],
          [
           "Scrypt"
          ],
          [
           "SHA-256"
          ],
          [
           "Scrypt"
          ],
          [
           "Scrypt"
          ],
          [
           "Scrypt"
          ],
          [
           "Scrypt"
          ],
          [
           "Scrypt"
          ],
          [
           "Scrypt"
          ],
          [
           "SHA-256"
          ],
          [
           "Scrypt"
          ],
          [
           "Scrypt"
          ],
          [
           "Scrypt"
          ],
          [
           "Scrypt"
          ],
          [
           "SHA-256"
          ],
          [
           "SHA-256"
          ],
          [
           "SHA-256"
          ],
          [
           "SHA-256"
          ],
          [
           "SHA-256"
          ],
          [
           "X11"
          ],
          [
           "Scrypt"
          ],
          [
           "Scrypt"
          ],
          [
           "Scrypt"
          ],
          [
           "SHA-256"
          ],
          [
           "Scrypt"
          ],
          [
           "Scrypt"
          ],
          [
           "Scrypt"
          ],
          [
           "Scrypt"
          ],
          [
           "Scrypt"
          ],
          [
           "Scrypt"
          ],
          [
           "Stanford Folding"
          ],
          [
           "QuBit"
          ],
          [
           "Scrypt"
          ],
          [
           "Scrypt"
          ],
          [
           "Scrypt"
          ],
          [
           "SHA-256"
          ],
          [
           "Scrypt"
          ],
          [
           "X11"
          ],
          [
           "SHA-256"
          ],
          [
           "X11"
          ],
          [
           "X11"
          ],
          [
           "Scrypt"
          ],
          [
           "Scrypt"
          ],
          [
           "X11"
          ],
          [
           "SHA-256"
          ],
          [
           "Scrypt"
          ],
          [
           "Scrypt"
          ],
          [
           "SHA-256"
          ],
          [
           "X11"
          ],
          [
           "Scrypt"
          ],
          [
           "X11GOST"
          ],
          [
           "Scrypt"
          ],
          [
           "X11"
          ],
          [
           "Scrypt"
          ],
          [
           "X11"
          ],
          [
           "SHA-256"
          ],
          [
           "Scrypt"
          ],
          [
           "SHA-256"
          ],
          [
           "Scrypt"
          ],
          [
           "Scrypt"
          ],
          [
           "X11"
          ],
          [
           "X11"
          ],
          [
           "Scrypt"
          ],
          [
           "X11"
          ],
          [
           "Scrypt"
          ],
          [
           "X11"
          ],
          [
           "Scrypt"
          ],
          [
           "Scrypt"
          ],
          [
           "Scrypt"
          ],
          [
           "SHA-256"
          ],
          [
           "Scrypt"
          ],
          [
           "X11"
          ],
          [
           "Scrypt"
          ],
          [
           "Scrypt"
          ],
          [
           "X11"
          ],
          [
           "X11"
          ],
          [
           "Time Travel"
          ],
          [
           "X11"
          ],
          [
           "SHA-256"
          ],
          [
           "Scrypt"
          ],
          [
           "Scrypt"
          ],
          [
           "Scrypt"
          ],
          [
           "Scrypt"
          ],
          [
           "Scrypt"
          ],
          [
           "Scrypt"
          ],
          [
           "X11"
          ],
          [
           "Scrypt"
          ],
          [
           "X11"
          ],
          [
           "X11"
          ],
          [
           "Scrypt"
          ],
          [
           "X11"
          ],
          [
           "Scrypt"
          ],
          [
           "X11"
          ],
          [
           "SHA-256"
          ],
          [
           "SkunkHash"
          ],
          [
           "Scrypt"
          ],
          [
           "SHA-256 + Hive"
          ],
          [
           "Scrypt"
          ],
          [
           "Scrypt"
          ],
          [
           "X11"
          ],
          [
           "Scrypt"
          ],
          [
           "X11"
          ],
          [
           "XEVAN"
          ],
          [
           "Tribus"
          ],
          [
           "X16R"
          ],
          [
           "X11"
          ],
          [
           "Scrypt"
          ],
          [
           "XEVAN"
          ],
          [
           "SHA-256"
          ],
          [
           "X11"
          ],
          [
           "X16R"
          ],
          [
           "SHA-256"
          ],
          [
           "Scrypt"
          ],
          [
           "QuBit"
          ],
          [
           "SHA-256"
          ],
          [
           "X13"
          ],
          [
           "SHA-256"
          ],
          [
           "Scrypt"
          ],
          [
           "Scrypt"
          ],
          [
           "SHA-256"
          ],
          [
           "Scrypt"
          ],
          [
           "Scrypt"
          ],
          [
           "Scrypt"
          ]
         ],
         "hovertemplate": "<b>%{hovertext}</b><br><br>Class=%{marker.color}<br>PC 1=%{x}<br>PC 2=%{y}<br>PC 3=%{z}<br>Algorithm=%{customdata[0]}<extra></extra>",
         "hovertext": [
          "Bitcoin",
          "Litecoin",
          "ProsperCoin",
          "Spreadcoin",
          "Argentum",
          "ZetaCoin",
          "SexCoin",
          "Quatloo",
          "QuarkCoin",
          "Digitalcoin ",
          "Catcoin",
          "CannaCoin",
          "CryptCoin",
          "DevCoin",
          "EarthCoin",
          "E-Gulden",
          "Einsteinium",
          "Emerald",
          "FlutterCoin",
          "Franko",
          "GrandCoin",
          "GlobalCoin",
          "GoldCoin",
          "Infinite Coin",
          "IXcoin",
          "KrugerCoin",
          "LuckyCoin",
          "Litebar ",
          "MegaCoin",
          "MinCoin",
          "NobleCoin",
          "Namecoin",
          "NyanCoin",
          "RonPaulCoin",
          "StableCoin",
          "SmartCoin",
          "SysCoin",
          "TigerCoin",
          "TerraCoin",
          "UnbreakableCoin",
          "Unobtanium",
          "UroCoin",
          "ViaCoin",
          "VeriCoin",
          "WorldCoin",
          "JouleCoin",
          "MonaCoin",
          "Gulden",
          "PesetaCoin",
          "Wild Beast Coin",
          "Flo",
          "ArtByte",
          "Folding Coin",
          "CypherPunkCoin",
          "OmniCron",
          "GreenCoin",
          "MasterCoin",
          "SoonCoin",
          "1Credit",
          "MarsCoin ",
          "Anarchists Prime",
          "BowsCoin",
          "Squall Coin",
          "Song Coin",
          "BitZeny",
          "MindCoin",
          "I0coin",
          "Revolution VR",
          "Gamecredits",
          "CarpeDiemCoin",
          "Adzcoin",
          "YoCoin",
          "SibCoin",
          "Francs",
          "BolivarCoin",
          "Omni",
          "PizzaCoin",
          "ZayedCoin",
          "DopeCoin",
          "DollarCoin",
          "Shilling",
          "KiloCoin",
          "ArtexCoin",
          "Kurrent",
          "OsmiumCoin",
          "PacCoin",
          "BeaverCoin",
          "VaultCoin",
          "Canada eCoin",
          "EB3coin",
          "BenjiRolls",
          "ILCoin",
          "EquiTrader",
          "DigitalPrice",
          "Unify",
          "SocialCoin",
          "ArcticCoin",
          "DAS",
          "Bitcore",
          "Onix",
          "Bitcoin Cash",
          "Sojourn Coin",
          "NewYorkCoin",
          "FrazCoin",
          "Kronecoin",
          "AdCoin",
          "Linx",
          "Elements",
          "eBoost",
          "Pura",
          "AC3",
          "PopularCoin",
          "Sucre",
          "IrishCoin",
          "Pioneer Coin",
          "UnitedBitcoin",
          "MUNcoin",
          "ShareChain",
          "LitecoinCash",
          "BitFlip",
          "LottoCoin",
          "Crypto Improvement Fund",
          "Poseidon",
          "FuturoCoin",
          "Bitcoin Incognito",
          "KEYCO",
          "Motion",
          "Axe",
          "HexCoin",
          "Urals Coin",
          "Project Pai",
          "Azart",
          "Xchange",
          "Bitcoin SV",
          "Block-Logic",
          "SLICE",
          "BLAST",
          "Bitcoin Rhodium",
          "GlobalToken",
          "SolarCoin",
          "Crypto Escudo",
          "Crown Coin",
          "SmileyCoin",
          "Bata",
          "Pakcoin"
         ],
         "legendgroup": "1",
         "marker": {
          "color": [
           1,
           1,
           1,
           1,
           1,
           1,
           1,
           1,
           1,
           1,
           1,
           1,
           1,
           1,
           1,
           1,
           1,
           1,
           1,
           1,
           1,
           1,
           1,
           1,
           1,
           1,
           1,
           1,
           1,
           1,
           1,
           1,
           1,
           1,
           1,
           1,
           1,
           1,
           1,
           1,
           1,
           1,
           1,
           1,
           1,
           1,
           1,
           1,
           1,
           1,
           1,
           1,
           1,
           1,
           1,
           1,
           1,
           1,
           1,
           1,
           1,
           1,
           1,
           1,
           1,
           1,
           1,
           1,
           1,
           1,
           1,
           1,
           1,
           1,
           1,
           1,
           1,
           1,
           1,
           1,
           1,
           1,
           1,
           1,
           1,
           1,
           1,
           1,
           1,
           1,
           1,
           1,
           1,
           1,
           1,
           1,
           1,
           1,
           1,
           1,
           1,
           1,
           1,
           1,
           1,
           1,
           1,
           1,
           1,
           1,
           1,
           1,
           1,
           1,
           1,
           1,
           1,
           1,
           1,
           1,
           1,
           1,
           1,
           1,
           1,
           1,
           1,
           1,
           1,
           1,
           1,
           1,
           1,
           1,
           1,
           1,
           1,
           1,
           1,
           1,
           1,
           1,
           1,
           1,
           1
          ],
          "coloraxis": "coloraxis",
          "symbol": "square"
         },
         "mode": "markers",
         "name": "1",
         "scene": "scene",
         "showlegend": true,
         "type": "scatter3d",
         "x": [
          -0.19208254817717044,
          -0.21795407555531654,
          -0.21945572326652074,
          -0.2846395801633709,
          -0.21892381466177005,
          -0.1882790239616871,
          -0.21528083412977927,
          -0.21863307532770773,
          -0.18071144674825435,
          -0.21876322107361568,
          -0.2194338044095951,
          -0.21955125583159774,
          -0.28475270131725383,
          0.30320547245834967,
          0.1060531000857599,
          -0.21922708702610827,
          -0.2134195641009975,
          -0.21913722867465532,
          -0.08070213687288191,
          -0.21962427699937526,
          -0.19204382877187767,
          -0.21805584440298745,
          -0.21839573740368506,
          2.064095506459022,
          -0.1920348015443127,
          -0.21478510254539437,
          -0.21926111620371136,
          -0.21972479692167157,
          -0.21875445323368117,
          -0.2195663854056731,
          -0.032387168917945,
          -0.19213072666529432,
          -0.21129435246952422,
          -0.21952614873356305,
          -0.2168621205696261,
          -0.21885106719940425,
          -0.17508233815169533,
          -0.19143289350400447,
          -0.19179462872773798,
          -0.19172237909472425,
          -0.19255997387119264,
          -0.2849918931876688,
          -0.21917303940698707,
          -0.15323178721983505,
          -0.21526587515103973,
          -0.19151878042925155,
          -0.2176627201924911,
          -0.19650451497972637,
          -0.215996624761268,
          -0.21972580500113037,
          -0.2158384235924972,
          -0.1976788909773863,
          -0.2314104577576482,
          -0.18159358961389355,
          -0.2195679294812909,
          -0.04904751444571543,
          -0.2197395032526323,
          -0.19216505916530652,
          0.7103170932009982,
          -0.28418998693141123,
          -0.19179937748350068,
          -0.28455829100594515,
          -0.08688564464530087,
          -0.21713799195055247,
          -0.2160860265344499,
          -0.28460878009084933,
          -0.19203618874977715,
          -0.21446127739088697,
          -0.2178514477361188,
          0.35432309829930464,
          -0.28347979299264614,
          -0.21804356762993465,
          -0.28994474779786844,
          -0.2194537155749267,
          -0.2845512189085267,
          -0.2197395796352118,
          -0.2847365804879835,
          -0.1923728314536144,
          -0.2159689444602647,
          -0.19232048229199047,
          -0.21928394334614315,
          -0.11569649544554941,
          -0.26751356153347544,
          -0.2817785983715107,
          -0.21971418037791438,
          0.7340445434663015,
          -0.21967411349244392,
          -0.2744418560687454,
          -0.2172366067478901,
          -0.1783494492477155,
          -0.2190898722272231,
          -0.14739479688557372,
          -0.21882077902560634,
          -0.2834686019849712,
          -0.21928644271614223,
          -0.21891887975910104,
          -0.28401033313626145,
          -0.28477945006326555,
          -0.26277736040043315,
          -0.27204041288341885,
          -0.19208151516348143,
          -0.11359839913582366,
          1.9395463479137551,
          -0.21940640591078733,
          -0.21864238487712043,
          -0.2182512299403719,
          -0.21823507677925416,
          -0.22600183892277473,
          -0.21723439329264269,
          -0.27882617172511936,
          -0.2782371973915248,
          -0.10935110133605734,
          -0.28474609972543047,
          -0.21842135122214482,
          -0.28464959151882646,
          -0.1920571747681233,
          -0.24126621655314143,
          0.032332601490012845,
          -0.24591220589393314,
          -0.2191628134160066,
          0.18513388017106358,
          -0.27676494198085844,
          -0.219481363365598,
          -0.283518996127339,
          -0.11914116077358124,
          -0.26850239084380945,
          -0.3118538389336191,
          -0.28472243264439917,
          -0.2195102564963858,
          -0.31529197977196577,
          -0.13962711345163945,
          -0.2846816497506714,
          -0.3110414858767315,
          -0.1920815615938472,
          -0.2180092088589332,
          -0.18048358392541522,
          -0.19112892839471662,
          -0.2958470561138364,
          -0.18958954547322146,
          0.7728224985196049,
          -0.19786501332784467,
          -0.19179385061391166,
          0.7324158929277564,
          -0.2196282821139298,
          -0.21686300978640338
         ],
         "y": [
          0.016265688164446294,
          0.2358241846847131,
          0.2354872797164472,
          0.7617375423991779,
          0.23560327988577853,
          0.017120773686626716,
          0.2364152571549317,
          0.2356646690226319,
          -0.026252268058937205,
          0.23564295180924444,
          0.23549234572608607,
          0.2354664678103105,
          0.7617117198775012,
          0.12735473038719128,
          0.3085460343280933,
          0.2355401234117944,
          0.23683741093934302,
          0.23555911725977818,
          -0.1462162657276434,
          0.2354498979649308,
          0.24159706063392672,
          0.2358029220303751,
          0.23572400172890198,
          0.7486606459030536,
          0.016276723635096257,
          0.23652734546608975,
          0.23553241973484665,
          0.23542826019373267,
          0.2356459730931242,
          0.23546347757990302,
          0.2763069324911647,
          0.016254552880975465,
          0.23732259882093368,
          0.2354710025859348,
          0.23604978132864507,
          0.23562215881788678,
          0.02005499221513875,
          0.016411643286650526,
          0.01632884562668681,
          0.016339413517106313,
          0.016158690617286343,
          0.7616593405931105,
          0.23555229252547052,
          0.04390849494705536,
          0.23641622659421654,
          0.016392117224149308,
          0.23588811691402078,
          0.24052423214120083,
          0.2362633097257904,
          0.23542782101051182,
          0.23630090437650192,
          0.24036251372372203,
          0.5032241647673682,
          -0.07152595013370618,
          0.23546419016100906,
          0.27326299061803283,
          0.23542497904481346,
          0.016246617760244476,
          0.4355418823513912,
          0.7618393575220306,
          0.01632585073028114,
          0.7617561690687854,
          0.18678210665941386,
          0.2359924351884751,
          0.23622915655228235,
          0.7617453064381765,
          0.016276403016357893,
          0.23661113125139713,
          0.23584790460418895,
          0.1390682810296979,
          0.7619952732960928,
          0.23578989168557368,
          0.8056203836127026,
          0.23548790508363399,
          0.7617571582589637,
          0.23542496187969636,
          0.7617143164469387,
          0.016200413572479838,
          0.23626428413056902,
          0.016212367230360028,
          0.23552553041514593,
          0.2578587028253419,
          0.7656183619264015,
          0.7623652302756325,
          0.23543049383766046,
          0.9810509600707261,
          0.2354396501435146,
          0.7639363863797545,
          0.23598742870438932,
          0.24434602854108242,
          0.2355694945735758,
          0.0261942154840263,
          0.23562580335660707,
          0.7619952784136017,
          0.235526682808465,
          0.23560264574807085,
          0.7618765239874028,
          0.761705392352319,
          0.586351713265145,
          0.7644752876313923,
          0.016265926920387083,
          0.2582629575588841,
          0.7344913839670271,
          0.23549883955961318,
          0.2356650987583508,
          0.23575292327874497,
          0.23575665668830176,
          0.7750030453507941,
          0.2359879402906302,
          0.7630279284870068,
          0.7631317879115116,
          0.2601319770438971,
          0.7617129552658171,
          0.23571941206534344,
          0.7617347445037305,
          0.01627168716568323,
          0.4108856127148414,
          0.2920720212689236,
          0.25569000723430774,
          0.23555191326468708,
          0.32603194623418674,
          0.7634801307823798,
          0.23548135363236775,
          0.7619836310356459,
          0.4499815227392644,
          0.6301386427894126,
          0.9809955286960139,
          0.7617182317290154,
          0.23547449736813816,
          1.0252802136404748,
          0.02805406149956596,
          0.7617270123482646,
          0.9811707121426186,
          0.016265916189139498,
          0.23580563378991862,
          -0.07128553318849414,
          0.016479156595846776,
          0.8493693889687772,
          0.016818168272199577,
          0.449004320579266,
          0.2403194960780191,
          0.016329025468735946,
          0.44742568578840464,
          0.2354499783551476,
          0.2360605468054638
         ],
         "z": [
          -0.07291010078361872,
          -0.2737891740434593,
          -0.2739255443555703,
          -0.7563668509688395,
          -0.27383055390357935,
          -0.07258901300892466,
          -0.27342487084478484,
          -0.2737504274447051,
          -0.03221978723444472,
          -0.2738669150838594,
          -0.27392562937243026,
          -0.2739429143024468,
          -0.7563709263243994,
          -0.02748032160962757,
          -0.24476518948306558,
          -0.2739264311689336,
          -0.27331970561469526,
          -0.2739019520457296,
          -0.7047385068912844,
          -0.27394692893850114,
          -0.2708728645417857,
          -0.2738203781486556,
          -0.2738139911235882,
          -0.07834055653992064,
          -0.07291028597889665,
          -0.27339198797572906,
          -0.2739285562394471,
          -0.2739688519219141,
          -0.2738808661223534,
          -0.27394994278694296,
          -0.24084263034573702,
          -0.07290991391330018,
          -0.2732439690449087,
          -0.27392527119570215,
          -0.27341873749539325,
          -0.2738597264349621,
          -0.07101916881689552,
          -0.07285391003807339,
          -0.07286381928391869,
          -0.07277833124759318,
          -0.07295508297886415,
          -0.7564106256448446,
          -0.2739221266843434,
          -0.48934349573680785,
          -0.273390123198865,
          -0.072858118039763,
          -0.2737426350234927,
          -0.27027010323230855,
          -0.2736108162978325,
          -0.27396596348947,
          -0.273625843497823,
          -0.2718003488196886,
          -0.5130154532713788,
          0.007450463803892532,
          -0.27396489808656943,
          -0.2520633086144342,
          -0.2739704437121649,
          -0.07290978074753544,
          -0.0699297608082638,
          -0.7563392530328698,
          -0.07283725784187761,
          -0.7563649092060184,
          -1.402520091381577,
          -0.2735074081674949,
          -0.27342174773804034,
          -0.7563759986724634,
          -0.07291028059833082,
          -0.27351833205775683,
          -0.27378957210686933,
          -0.026265040588728413,
          -0.756226897619514,
          -0.2735984410032391,
          -0.7965615687587192,
          -0.2739278092026001,
          -0.7563559083975078,
          -0.2739704502547902,
          -0.7563551894339463,
          -0.0729343983807143,
          -0.2735350548542441,
          -0.07293256488733582,
          -0.27390589710182234,
          -0.2518047966353476,
          -0.755349889111511,
          -0.7559084794496296,
          -0.2739658138253365,
          -0.5346571931858851,
          -0.27396451181801357,
          -0.7541944863860709,
          -0.27375584393946445,
          -0.2651041427555162,
          -0.2738941899743459,
          -0.06748818035894076,
          -0.27381289707056056,
          -0.7561908280697083,
          -0.2739300903109164,
          -0.27380574538706,
          -0.756279009243566,
          -0.7563687912200054,
          -0.5955520981756043,
          -0.7539780949066252,
          -0.07291010479037793,
          -0.25068440465015157,
          -0.282347082618779,
          -0.27392799270300355,
          -0.2737865042921393,
          -0.2737519085117118,
          -0.2737519711651175,
          -0.7525767232763586,
          -0.2737558525248125,
          -0.7556445697593622,
          -0.7551954422634043,
          -0.2631147074676217,
          -0.7563668892224485,
          -0.27383250281286875,
          -0.7563600409583713,
          -0.07291208158753563,
          -0.4347481717839852,
          -0.25237895837401425,
          0.10403658727811056,
          -0.27388379633174,
          -0.23399657395556656,
          -0.7553140057021499,
          -0.2739254449050963,
          -0.7561906326055122,
          -1.643693522748339,
          -0.6357609868584289,
          -0.957378225951909,
          -0.7563642725484256,
          -0.27392283819239743,
          -0.9971650572548614,
          -0.0684211328514628,
          -0.7563554024942724,
          -0.9572054970294005,
          -0.07291010461028807,
          -0.2737077060453937,
          0.0076718643931276,
          -0.07281674602642037,
          -0.8368124282621493,
          -0.07258798262725692,
          -0.056404136412615734,
          -0.271799626905318,
          -0.07286382230199552,
          -0.1648119863319083,
          -0.2739609880065403,
          -0.2735722141113524
         ]
        },
        {
         "customdata": [
          [
           "Ethash"
          ],
          [
           "CryptoNight-V7"
          ],
          [
           "Ethash"
          ],
          [
           "Equihash"
          ],
          [
           "Multiple"
          ],
          [
           "Multiple"
          ],
          [
           "Groestl"
          ],
          [
           "Groestl"
          ],
          [
           "Multiple"
          ],
          [
           "NeoScrypt"
          ],
          [
           "HybridScryptHash256"
          ],
          [
           "Lyra2REv2"
          ],
          [
           "CryptoNight"
          ],
          [
           "Counterparty"
          ],
          [
           "Groestl"
          ],
          [
           "Multiple"
          ],
          [
           "M7 POW"
          ],
          [
           "Lyra2RE"
          ],
          [
           "Ethash"
          ],
          [
           "Blake2b"
          ],
          [
           "BLAKE256"
          ],
          [
           "1GB AES Pattern Search"
          ],
          [
           "Dagger"
          ],
          [
           "CryptoNight"
          ],
          [
           "Multiple"
          ],
          [
           "Lyra2Z"
          ],
          [
           "Ethash"
          ],
          [
           "Equihash"
          ],
          [
           "CryptoNight"
          ],
          [
           "CryptoNight"
          ],
          [
           "Lyra2RE"
          ],
          [
           "CryptoNight-V7"
          ],
          [
           "Equihash"
          ],
          [
           "Lyra2RE"
          ],
          [
           "Dagger-Hashimoto"
          ],
          [
           "Blake2S"
          ],
          [
           "NIST5"
          ],
          [
           "CryptoNight-V7"
          ],
          [
           "536"
          ],
          [
           "Argon2d"
          ],
          [
           "Blake2b"
          ],
          [
           "Cloverhash"
          ],
          [
           "CryptoNight"
          ],
          [
           "CryptoNight"
          ],
          [
           "Keccak"
          ],
          [
           "CryptoNight"
          ],
          [
           "Equihash"
          ],
          [
           "NeoScrypt"
          ],
          [
           "Equihash"
          ],
          [
           "Dagger"
          ],
          [
           "NeoScrypt"
          ],
          [
           "Ethash"
          ],
          [
           "NeoScrypt"
          ],
          [
           "Multiple"
          ],
          [
           "CryptoNight"
          ],
          [
           "CryptoNight"
          ],
          [
           "Ethash"
          ],
          [
           "CryptoNight-V7"
          ],
          [
           "BLAKE256"
          ],
          [
           "NeoScrypt"
          ],
          [
           "NeoScrypt"
          ],
          [
           "C11"
          ],
          [
           "Ethash"
          ],
          [
           "CryptoNight"
          ],
          [
           "Dagger"
          ],
          [
           "Lyra2REv2"
          ],
          [
           "C11"
          ],
          [
           "Ethash"
          ],
          [
           "CryptoNight"
          ],
          [
           "IMesh"
          ],
          [
           "Equihash"
          ],
          [
           "Lyra2Z"
          ],
          [
           "Green Protocol"
          ],
          [
           "CryptoNight"
          ],
          [
           "NIST5"
          ],
          [
           "Lyra2RE"
          ],
          [
           "Lyra2Z"
          ],
          [
           "CryptoNight"
          ],
          [
           "CryptoNight Heavy"
          ],
          [
           "CryptoNight"
          ],
          [
           "Jump Consistent Hash"
          ],
          [
           "CryptoNight"
          ],
          [
           "DPoS"
          ],
          [
           "HMQ1725"
          ],
          [
           "Lyra2REv2"
          ],
          [
           "CryptoNight-V7"
          ],
          [
           "Cryptonight-GPU"
          ],
          [
           "Keccak"
          ],
          [
           "Equihash"
          ],
          [
           "Lyra2Z"
          ],
          [
           "CryptoNight"
          ],
          [
           "Blake"
          ],
          [
           "Blake"
          ],
          [
           "Equihash"
          ],
          [
           "Exosis"
          ],
          [
           "Equihash"
          ],
          [
           "Equihash"
          ],
          [
           "NeoScrypt"
          ],
          [
           "Blake"
          ],
          [
           "Groestl"
          ],
          [
           "Multiple"
          ],
          [
           "Equihash+Scrypt"
          ],
          [
           "Ethash"
          ],
          [
           "CryptoNight"
          ],
          [
           "Equihash"
          ]
         ],
         "hovertemplate": "<b>%{hovertext}</b><br><br>Class=%{marker.color}<br>PC 1=%{x}<br>PC 2=%{y}<br>PC 3=%{z}<br>Algorithm=%{customdata[0]}<extra></extra>",
         "hovertext": [
          "Ethereum",
          "Monero",
          "Ethereum Classic",
          "ZCash",
          "DigiByte",
          "MyriadCoin",
          "Riecoin",
          "Diamond",
          "Verge",
          "FeatherCoin",
          "MediterraneanCoin",
          "Vertcoin",
          "DigitalNote ",
          "StorjCoin",
          "FairCoin",
          "Unitus",
          "Cryptonite",
          "Crypto",
          "Expanse",
          "Siacoin",
          "Decred",
          "HOdlcoin",
          "SoilCoin",
          "Karbo",
          "Circuits of Value",
          "ZCoin",
          "Elementrem",
          "ZClassic",
          "Cannabis Industry Coin",
          "Bikercoins",
          "HexxCoin",
          "Citadel",
          "Zero",
          "Zoin",
          "DubaiCoin",
          "TajCoin",
          "Coinonat",
          "Quantum Resistant Ledger",
          "Espers",
          "Dynamic",
          "Nano",
          "ChanCoin",
          "Dinastycoin",
          "LeviarCoin",
          "SmartCash",
          "Sumokoin",
          "BitcoinZ",
          "VIVO Coin",
          "Bitcoin Gold",
          "Pirl",
          "Innova",
          "Ellaism",
          "GoByte",
          "SHIELD",
          "UltraNote",
          "BitCoal",
          "DaxxCoin",
          "Lethean",
          "Photon",
          "SparksPay",
          "GunCoin",
          "Interzone",
          "1717 Masonic Commemorative Token",
          "Niobio Cash",
          "Travelflex",
          "KREDS",
          "Stipend",
          "Callisto Network",
          "BitTube",
          "Aidos Kuneen",
          "Bitrolium",
          "Alpenschillling",
          "Bitcoin Green",
          "Monero Classic",
          "Jumpcoin",
          "Infinex",
          "GINcoin",
          "PlatinCoin",
          "Loki",
          "Newton Coin",
          "MassGrid",
          "PluraCoin",
          "Muse",
          "PlusOneCoin",
          "Absolute Coin",
          "Webchain",
          "Ryo",
          "XDNA",
          "CrypticCoin",
          "Actinium",
          "FREDEnergy",
          "Universal Molecule",
          "Lithium",
          "PirateCash",
          "Exosis",
          "Beam",
          "Bithereum",
          "UFO Coin",
          "BlakeCoin",
          "Groestlcoin",
          "JoinCoin",
          "Vollar",
          "Reality Clash",
          "Beldex",
          "Horizen"
         ],
         "legendgroup": "4",
         "marker": {
          "color": [
           4,
           4,
           4,
           4,
           4,
           4,
           4,
           4,
           4,
           4,
           4,
           4,
           4,
           4,
           4,
           4,
           4,
           4,
           4,
           4,
           4,
           4,
           4,
           4,
           4,
           4,
           4,
           4,
           4,
           4,
           4,
           4,
           4,
           4,
           4,
           4,
           4,
           4,
           4,
           4,
           4,
           4,
           4,
           4,
           4,
           4,
           4,
           4,
           4,
           4,
           4,
           4,
           4,
           4,
           4,
           4,
           4,
           4,
           4,
           4,
           4,
           4,
           4,
           4,
           4,
           4,
           4,
           4,
           4,
           4,
           4,
           4,
           4,
           4,
           4,
           4,
           4,
           4,
           4,
           4,
           4,
           4,
           4,
           4,
           4,
           4,
           4,
           4,
           4,
           4,
           4,
           4,
           4,
           4,
           4,
           4,
           4,
           4,
           4,
           4,
           4,
           4,
           4,
           4,
           4
          ],
          "coloraxis": "coloraxis",
          "symbol": "x"
         },
         "mode": "markers",
         "name": "4",
         "scene": "scene",
         "showlegend": true,
         "type": "scatter3d",
         "x": [
          -0.04411582063938073,
          -0.0019787168801872444,
          -0.04190713694535417,
          -0.034542165989834936,
          0.2626521664598677,
          -0.07616221500578789,
          -0.06045818406817432,
          -0.2600808609299696,
          0.2860144545930172,
          -0.1262009095035445,
          -0.07029897613701024,
          -0.10393698106764329,
          0.2140167324084586,
          0.3501018995932378,
          -0.2593718459312166,
          -0.12088944906267333,
          -0.08713532343260869,
          -0.09924834851953865,
          -0.04541239160841506,
          0.5301503670059937,
          -0.1510478933957349,
          0.06401802524971444,
          -0.018162812053331135,
          0.008856599628586101,
          -0.09464194941336575,
          -0.11066616249930333,
          -0.04508116820936356,
          -0.034568884306184634,
          0.008864459760886265,
          0.009031413849638665,
          -0.09999152384176,
          -0.00020256187948300837,
          -0.034589570709494394,
          -0.09962862014624567,
          -0.02393382124457929,
          -0.1617355188638376,
          -0.12666987641528557,
          -0.00013455232051183392,
          0.7092250484390444,
          0.0524394551899573,
          0.03584108925836942,
          0.02009444634920425,
          0.05617802195448557,
          0.009397136228466283,
          -0.004860099750185181,
          0.00967109911308759,
          0.2561236816139287,
          -0.13241258979728812,
          -0.034393901301296666,
          -0.016458835577726472,
          -0.13219726063968232,
          -0.04271851487424603,
          -0.1323389037930282,
          -0.1079265698742894,
          1.1590841316637646,
          0.008831706865431879,
          0.06321798766698702,
          0.014528354594138121,
          1.4108879168661697,
          -0.13241765925740737,
          -0.12316697452082023,
          0.02536359239221411,
          0.2844981899448502,
          0.014056459585438223,
          -0.015920709360252604,
          -0.08471757975583237,
          -0.17280295439390703,
          0.023708528149319858,
          0.019955543355983398,
          -0.07773905996649849,
          -0.03308086299425817,
          -0.10755111843883759,
          0.2739418951771637,
          0.009065249369169744,
          -0.12678010037345955,
          -0.09977829865601183,
          -0.11078514168725494,
          0.014704349427657915,
          0.005005101194027018,
          2.492297747360232,
          -0.08005737770361607,
          0.027203766943103877,
          0.3175424312300623,
          -0.0671506069813625,
          -0.30294631108061404,
          0.015688373659788687,
          -0.006710967413724014,
          -0.2835940042219016,
          0.1059132430936424,
          -0.109941708943756,
          0.11851311057641088,
          0.04235143130445592,
          0.04175921745299267,
          0.29659820616592936,
          -0.05096126410878855,
          -0.031670319328443115,
          -0.03417394339682495,
          -0.0345604948435401,
          0.11238382725114746,
          -0.05988728251917826,
          -0.12179398341289423,
          -0.017564051335571165,
          -0.04512446666883568,
          0.037593575580743506,
          -0.0345434723629165
         ],
         "y": [
          -1.1674924836159688,
          -1.5186306931884028,
          -1.1670158812254112,
          -1.2555024483131931,
          -0.4684435862410752,
          -0.5436868481653917,
          -1.0359542347340847,
          -0.46141464050517084,
          -0.4623268143539462,
          -0.464764312675928,
          -0.9480281156748871,
          -0.6851261248584899,
          -1.5605412842352717,
          -2.6071065573815644,
          -0.4612500623048409,
          -0.5537017819618676,
          -0.5913068474468424,
          -0.7291491703718962,
          -1.1677948820470554,
          -1.6662999035752095,
          -1.338409944192931,
          -2.0447061395381616,
          -1.3870471521932501,
          -1.6063472807720356,
          -0.5478289178819646,
          -0.6415616646083365,
          -1.1677198281367631,
          -1.2555086236009203,
          -1.606347238814199,
          -1.6063092967978798,
          -0.7293119363240872,
          -1.5182500258100367,
          -1.2555127594061388,
          -0.7292298346988122,
          -1.3432668536569248,
          -1.2506634000837056,
          -0.5099359249886379,
          -1.5182214000017924,
          -1.237861633103411,
          -1.9571497266648437,
          -1.7806023478750843,
          -1.6939724466884383,
          -1.5957311501928098,
          -1.6062294477900854,
          -0.7983489970839618,
          -1.6061717568558858,
          -1.1917068349600484,
          -0.4661501376998911,
          -1.255468180543492,
          -1.3866736976559422,
          -0.46610327370005716,
          -1.1672147051352577,
          -0.46613388139901696,
          -0.5508122115412487,
          -1.3542123502021215,
          -1.606353437473128,
          -1.144298271438836,
          -1.5149767404258816,
          -1.612588259931857,
          -0.4661503413528596,
          -0.4640895520032874,
          -1.7378631294004265,
          -2.1259827335033545,
          -1.605198056111352,
          -1.3865402384674326,
          -0.6808479482131299,
          -1.1629992415343917,
          -1.1528652365020722,
          -1.6039417552171173,
          -0.9046098287763571,
          -1.255172609307985,
          -0.6408866469066513,
          -2.038206397277407,
          -1.6063004117099549,
          -0.5099570037818987,
          -0.7292652811045336,
          -0.6415874051618531,
          -1.6050909055311173,
          -1.5621504013425467,
          -1.0620449937554413,
          -0.8600590760052521,
          -1.602266504966524,
          -2.389005899321287,
          -0.992381214112873,
          -0.11045253404627593,
          -1.514829717588656,
          -1.4746290190320364,
          -0.2413592397880272,
          -1.2242623854724666,
          -0.6414043245944683,
          -1.5823048497549321,
          -1.8692789938559038,
          -1.8694029801533971,
          -2.2134220826463653,
          -1.123968382376187,
          -1.2548777025180753,
          -1.2554189376234615,
          -0.4441750071727907,
          -1.8542051196774474,
          -1.0358256728555058,
          -0.5539112947813327,
          -1.2068041461839534,
          -1.1677295584068461,
          -1.5999297250841598,
          -1.255502750249496
         ],
         "z": [
          1.0125253083069312,
          1.3341564565868111,
          1.0129907240199731,
          1.0929842196023678,
          0.49559317482074905,
          0.4540232012917264,
          0.8921053189089909,
          1.538040959329758,
          0.48546992859403915,
          0.370012892879456,
          0.8119566609514963,
          0.5704793746662867,
          1.4363379174165694,
          0.37902388916798424,
          1.5380283233453174,
          0.44968256564333264,
          0.49392895644624096,
          0.6106444089653257,
          1.0125684960766403,
          1.573438422277996,
          2.342142029120769,
          1.81677734655463,
          1.2136139720843533,
          1.4145856466059128,
          0.4522892309742143,
          0.5301398600297575,
          1.012588200076965,
          1.0929843232349323,
          1.4146104437763192,
          1.4146188244491666,
          0.6105213721899024,
          1.3345671234581624,
          1.092975375232348,
          0.610544792252026,
          1.1733493609167,
          2.261770724099427,
          0.4095895706567724,
          1.3343862948865775,
          2.532059518172129,
          1.7361886166379827,
          1.5761237415931992,
          1.4950358459253899,
          1.418893649556039,
          1.414682860652203,
          0.7018637598690775,
          1.414760544335832,
          1.1392076685687837,
          0.3693395547058284,
          1.092983644526838,
          1.2138924447022752,
          0.3693793465827845,
          1.0131518653030942,
          0.3693501027862256,
          0.4511219458658418,
          1.6019517597456854,
          1.4145913858071362,
          1.0346795895262662,
          1.336348319995523,
          1.8938306477211453,
          0.3693260320101133,
          0.37037128293335253,
          1.535223932253191,
          -0.06431408656271481,
          1.4153012793520758,
          1.213763269805774,
          0.5726980009436438,
          2.1813253723711457,
          1.0269331259821355,
          1.4167770862180864,
          0.771366210179087,
          1.0930891475629703,
          0.5307565945358458,
          -0.14467804196991285,
          1.414603796616503,
          0.409528488790295,
          0.6105572900869893,
          0.5301157195637719,
          1.4158946313269536,
          1.3746922505866777,
          1.8202295306838068,
          0.7314736385779562,
          1.4167489724705655,
          0.17694084354416678,
          0.8517647588729664,
          1.2165212458098915,
          1.338037785703172,
          1.2941495359713602,
          1.3378267417763685,
          1.109545690057323,
          0.5302783420276508,
          1.4323747933649515,
          1.656016360813529,
          1.65583833862105,
          0.01632096673647321,
          0.9723749348144981,
          1.0935188376004443,
          1.0930051046671865,
          0.3779273134407234,
          1.6713068818794041,
          0.8921505028035738,
          0.4496923938359219,
          1.0573864704941591,
          1.012584491304483,
          1.4176119997856131,
          1.0929842246694084
         ]
        },
        {
         "customdata": [
          [
           "SHA-512"
          ],
          [
           "SHA-256"
          ],
          [
           "Scrypt"
          ],
          [
           "PoS"
          ],
          [
           "X11"
          ],
          [
           "Scrypt"
          ],
          [
           "Scrypt"
          ],
          [
           "X11"
          ],
          [
           "Multiple"
          ],
          [
           "PHI1612"
          ],
          [
           "Multiple"
          ],
          [
           "Shabal256"
          ],
          [
           "Scrypt"
          ],
          [
           "Scrypt"
          ],
          [
           "X11"
          ],
          [
           "Scrypt"
          ],
          [
           "Scrypt"
          ],
          [
           "Scrypt"
          ],
          [
           "Scrypt"
          ],
          [
           "PoS"
          ],
          [
           "POS 3.0"
          ],
          [
           "X13"
          ],
          [
           "X11"
          ],
          [
           "Scrypt"
          ],
          [
           "PoS"
          ],
          [
           "PoS"
          ],
          [
           "X13"
          ],
          [
           "PoS"
          ],
          [
           "DPoS"
          ],
          [
           "PoS"
          ],
          [
           "PoS"
          ],
          [
           "Scrypt"
          ],
          [
           "Quark"
          ],
          [
           "Scrypt"
          ],
          [
           "X13"
          ],
          [
           "Scrypt"
          ],
          [
           "PoS"
          ],
          [
           "PoS"
          ],
          [
           "SHA-256"
          ],
          [
           "Scrypt"
          ],
          [
           "PoS"
          ],
          [
           "SHA-256"
          ],
          [
           "POS 3.0"
          ],
          [
           "SkunkHash v2 Raptor"
          ],
          [
           "Scrypt"
          ],
          [
           "PoS"
          ],
          [
           "SHA-512"
          ],
          [
           "Ouroboros"
          ],
          [
           "Lyra2REv2"
          ],
          [
           "POS 2.0"
          ],
          [
           "SHA-256"
          ],
          [
           "DPoS"
          ],
          [
           "NIST5"
          ],
          [
           "Quark"
          ],
          [
           "Quark"
          ],
          [
           "X11"
          ],
          [
           "POS 3.0"
          ],
          [
           "X13"
          ],
          [
           "Proof-of-BibleHash"
          ],
          [
           "Proof-of-Authority"
          ],
          [
           "Scrypt"
          ],
          [
           "VBFT"
          ],
          [
           "Scrypt"
          ],
          [
           "PoS"
          ],
          [
           "Semux BFT consensus"
          ],
          [
           "PoS"
          ],
          [
           "X16R"
          ],
          [
           "Scrypt"
          ],
          [
           "Scrypt"
          ],
          [
           "X15"
          ],
          [
           "Scrypt"
          ],
          [
           "Quark"
          ],
          [
           "SHA-256"
          ],
          [
           "Quark"
          ],
          [
           "Scrypt"
          ],
          [
           "Quark"
          ],
          [
           "X11"
          ],
          [
           "Scrypt"
          ],
          [
           "PoS"
          ],
          [
           "X11"
          ],
          [
           "ECC 256K1"
          ],
          [
           "XEVAN"
          ],
          [
           "X11"
          ],
          [
           "Quark"
          ],
          [
           "X11"
          ],
          [
           "DPoS"
          ],
          [
           "SHA-256"
          ],
          [
           "PoS"
          ],
          [
           "DPoS"
          ],
          [
           "Scrypt"
          ],
          [
           "DPoS"
          ],
          [
           "DPoS"
          ],
          [
           "SHA-256"
          ],
          [
           "Leased POS"
          ],
          [
           "PoS"
          ],
          [
           "PoS"
          ],
          [
           "SHA-256"
          ],
          [
           "Scrypt"
          ]
         ],
         "hovertemplate": "<b>%{hovertext}</b><br><br>Class=%{marker.color}<br>PC 1=%{x}<br>PC 2=%{y}<br>PC 3=%{z}<br>Algorithm=%{customdata[0]}<extra></extra>",
         "hovertext": [
          "Bitshares",
          "PayCoin",
          "CasinoCoin",
          "Exclusive Coin",
          "HyperStake",
          "MintCoin",
          "Nautilus Coin",
          "SuperCoin",
          "TeslaCoin",
          "TittieCoin",
          "Crypti",
          "BurstCoin",
          "RubyCoin",
          "Dnotes",
          "Ucoin",
          "Diggits",
          "GPU Coin",
          "ZeitCoin",
          "SafeExchangeCoin",
          "Nebuchadnezzar",
          "Let it Ride",
          "MudraCoin",
          "Lutetium Coin",
          "BitCurrency",
          "Opair",
          "CoffeeCoin",
          "RoyalCoin",
          "TeamUP",
          "ARK",
          "FreeCoin",
          "Creatio",
          "PandaCoin",
          "Allsafe",
          "Zilbercoin",
          "FindCoin",
          "RenosCoin",
          "Atmos",
          "MacronCoin",
          "ProCurrency",
          "GrowthCoin",
          "Phreak",
          "Ultimate Secure Cash",
          "QTUM",
          "Signatum",
          "Draftcoin",
          "Stakecoin",
          "Obsidian",
          "Cardano",
          "Rupee",
          "KekCoin",
          "Infinity Economics",
          "Lamden Tau",
          "Bulwark",
          "Kalkulus",
          "Digiwage",
          "Monkey Project",
          "TokenPay",
          "Tokyo Coin",
          "BiblePay",
          "Poa Network",
          "Velox",
          "Ontology",
          "MedicCoin",
          "Deviant Coin",
          "Semux",
          "Zealium",
          "Proton",
          "HollyWoodCoin",
          "Xt3ch",
          "Dekado",
          "Lynx",
          "Poseidon Quark",
          "BitcoinWSpectrum",
          "Dystem",
          "Peony Coin",
          "Vitae",
          "ARENON",
          "MMOCoin",
          "Ketan",
          "PAXEX",
          "Acute Angle Cloud",
          "Bettex coin",
          "Junson Ming Chan Coin",
          "Crypto Sports",
          "Dash Platinum",
          "ALAX",
          "NeosCoin",
          "Radium",
          "Lisk",
          "HiCoin",
          "EOS",
          "Oxycoin",
          "TigerCash",
          "Waves",
          "Particl",
          "Nxt",
          "ZEPHYR",
          "BitcoinPlus"
         ],
         "legendgroup": "3",
         "marker": {
          "color": [
           3,
           3,
           3,
           3,
           3,
           3,
           3,
           3,
           3,
           3,
           3,
           3,
           3,
           3,
           3,
           3,
           3,
           3,
           3,
           3,
           3,
           3,
           3,
           3,
           3,
           3,
           3,
           3,
           3,
           3,
           3,
           3,
           3,
           3,
           3,
           3,
           3,
           3,
           3,
           3,
           3,
           3,
           3,
           3,
           3,
           3,
           3,
           3,
           3,
           3,
           3,
           3,
           3,
           3,
           3,
           3,
           3,
           3,
           3,
           3,
           3,
           3,
           3,
           3,
           3,
           3,
           3,
           3,
           3,
           3,
           3,
           3,
           3,
           3,
           3,
           3,
           3,
           3,
           3,
           3,
           3,
           3,
           3,
           3,
           3,
           3,
           3,
           3,
           3,
           3,
           3,
           3,
           3,
           3,
           3,
           3,
           3,
           3
          ],
          "coloraxis": "coloraxis",
          "symbol": "cross"
         },
         "mode": "markers",
         "name": "3",
         "scene": "scene",
         "showlegend": true,
         "type": "scatter3d",
         "x": [
          0.1991155431068255,
          0.13794113368146474,
          1.1848347385742692,
          0.17034690532624025,
          0.07053354474787903,
          0.431967555845162,
          0.11085193738978769,
          0.0459547067603702,
          0.21054938816654192,
          0.23432267266396353,
          0.20983649485552638,
          0.21480806015544793,
          0.1108545263962393,
          0.11813582762208298,
          0.04543185987512348,
          0.1129649366673972,
          0.11328995878908894,
          1.6695212094245113,
          0.23061932110558322,
          0.17076532116446153,
          0.17662040909960688,
          0.03641061214143574,
          0.06175121952989599,
          0.11300488085849086,
          0.17212710531712463,
          0.17291104404821198,
          0.03437624744846183,
          0.17357314475179064,
          0.716221377345178,
          0.17152158432752862,
          0.17076532116446153,
          0.9497075150512876,
          0.14338201411692722,
          0.11104420953500742,
          0.03467937606316467,
          0.11133642770607104,
          0.17305419305087533,
          0.18036611673196895,
          0.8973617722508336,
          0.13511933236806933,
          0.1707364142127517,
          0.13981256238757175,
          0.1782199398658444,
          0.08627484021351035,
          0.1109018265618594,
          0.17094428570409037,
          0.12262126942483471,
          1.0384195596626469,
          0.22524532558490978,
          0.181535464994541,
          0.3645125928923327,
          0.722728618390336,
          0.20336886571483354,
          0.1435297706611414,
          0.1446969032100553,
          0.04546790149332722,
          0.17626051762788744,
          0.04587814921026821,
          0.43683139552975353,
          0.30254263586488817,
          0.11208372270592593,
          0.07600171877354385,
          0.1195348019144361,
          0.17148110001809208,
          0.5022746933862399,
          0.17123713166070356,
          0.01852089189079322,
          0.11129135153633722,
          0.11100408367043638,
          0.024804510822646193,
          2.546528179343932,
          0.14968372773413888,
          0.13952014747996536,
          0.14339079905220534,
          0.2811075808126758,
          0.1450798753771449,
          0.04603603312115969,
          0.11469968026014926,
          0.17252496681660445,
          0.04626801979097922,
          0.7882587748068904,
          0.013169513072080665,
          0.30504696098677825,
          0.1432359372707193,
          0.045399018701723165,
          0.7385326898085962,
          0.1379122629625215,
          0.17040982907605373,
          0.7167527073755857,
          0.36262479849547535,
          0.7287334317538116,
          0.7302711112595972,
          0.16284241622543014,
          0.5021963693227117,
          0.17048860120266932,
          0.12943008202674766,
          0.5842902030442212,
          0.11045610657185559
         ],
         "y": [
          -0.7930080966376156,
          -0.9418971181348315,
          -0.6877246722973063,
          -1.2050631776883136,
          -0.19061072761460726,
          -0.6483898251197258,
          -0.722610485528589,
          -0.19629152705504363,
          -1.511555014777793,
          -1.3259767563015608,
          -1.5117036488741644,
          -0.8155981778857717,
          -0.7226072766907613,
          -0.7210050504500992,
          -0.196415597135343,
          -0.7221356406050681,
          -0.7220800500758512,
          -0.37833193778396373,
          -0.90216125596315,
          -1.204969697827664,
          -1.2487282617831743,
          -0.1083103860193145,
          -0.19274654727020715,
          -0.7221102746586837,
          -1.2046636668688264,
          -1.204476993019636,
          -0.10874871556825624,
          -1.2043660738633857,
          -3.5382075575890513,
          -1.2047997461728608,
          -1.204969697827664,
          -0.5339727484954093,
          -0.9857496413398917,
          -0.7225723096566193,
          -0.10868059482378144,
          -0.7225014512435437,
          -1.204455248099443,
          -1.2028120164095455,
          -0.7784738920908428,
          -0.7173217344983402,
          -1.204977992347121,
          -0.9414948474913571,
          -1.2483692982157448,
          -0.5027622222548902,
          -0.7225991526452903,
          -1.204935046198984,
          -0.810121718878276,
          -1.192128143793858,
          -1.643475085615921,
          -1.2926998964439869,
          -0.890980673719391,
          -3.536764069221109,
          -1.4680933086261108,
          -0.9857162977063685,
          -0.9854626772794882,
          -0.19640742833179156,
          -1.2488100705519853,
          -0.10621899845981995,
          -1.6747561124409,
          -1.5432168845948273,
          -0.7223431838548096,
          -0.27972752420971386,
          -0.7206817116339507,
          -1.2048152339860312,
          -1.8283758619118353,
          -1.2048703306209894,
          0.02290878887048045,
          -0.7225105099977986,
          -0.7225798090521885,
          -0.020755812741292907,
          -1.2089448904281448,
          -0.9843956035604625,
          -0.9415463269704024,
          -0.9857485789453825,
          -0.685980820867757,
          -0.9853709358316917,
          -0.1962816040495908,
          -0.7217605110094941,
          -1.204593652873902,
          -0.19623524620313773,
          -3.593258321096499,
          0.06678078815669172,
          -0.1364086662957684,
          -0.9857831404618879,
          -0.1964231391708097,
          -3.533192012341398,
          -0.9419051622726672,
          -1.2050500864407312,
          -3.538090387272282,
          -0.6660315211977449,
          -3.53529553384306,
          -3.5349401366969264,
          -0.9363011149654131,
          -2.497249043656614,
          -1.2050318211560638,
          -1.007793220612981,
          -2.0803843987683037,
          -0.7226995230622965
         ],
         "z": [
          -1.2625895581452062,
          -1.1497778003627568,
          -1.4798195236456981,
          -0.9085857667852447,
          -1.8333580540977354,
          -1.3520680725797678,
          -1.3507860394257403,
          -1.8332627199462377,
          -0.6269457319251601,
          -0.7829697029699164,
          -0.6271686727976084,
          -1.64191554085374,
          -1.350822568694966,
          -1.3497222808515108,
          -1.8332155507799213,
          -1.350605048383639,
          -1.3503330860229248,
          -1.1334192645191687,
          -1.561553792246739,
          -0.9085422485027955,
          -0.8683101651474098,
          -1.9132229356852608,
          -1.8318411017421456,
          -1.3508309092934188,
          -0.9084256492387011,
          -0.9085054301713447,
          -1.9136608140038076,
          -0.9079189054345306,
          -1.1150463338111642,
          -0.9084774700338973,
          -0.9085422485027955,
          -1.280688123889747,
          -1.1095689380747285,
          -1.350699166132752,
          -1.9136348492226327,
          -1.3507467353550568,
          -0.9083473363748212,
          -0.9077218044755856,
          -0.983472101584448,
          -1.3464025652497684,
          -0.9085195657833619,
          -1.1493616703364702,
          -0.8681662747859245,
          -1.5515385016768897,
          -1.3507834660215894,
          -0.908449049046294,
          -1.2702132916914919,
          -0.649487784728695,
          -0.5065013000421802,
          -0.8281331192358725,
          -1.130371280277573,
          -1.114225176086166,
          -0.6673053530351664,
          -1.109558225880419,
          -1.1093370468696317,
          -1.8332134335150785,
          -0.8683279542413669,
          -1.91190542163578,
          -1.6236723874057217,
          -1.3789803991645055,
          -1.3505474609767287,
          -1.750673557315451,
          -1.3497277070651987,
          -0.9083915447354544,
          -2.6830215293669273,
          -0.9084086549315082,
          -2.0341763606240937,
          -1.3507655794581614,
          -1.3507238381537834,
          -1.993874842032553,
          -2.228188786353739,
          -1.1081601476261769,
          -1.1495858403542127,
          -1.1095554297902583,
          -1.3133837616202209,
          -1.1093836735026688,
          -1.8331388970996507,
          -1.3502506473839766,
          -0.9081202322975964,
          -1.8330382292182994,
          -1.4491374780392534,
          -2.0743686421144742,
          -1.8342676633137325,
          -1.109572050492641,
          -1.8332161005165117,
          -1.1131579455851737,
          -1.149758503373528,
          -0.9085656973101264,
          -1.1149695817693621,
          -1.329208571880673,
          -1.115376996897198,
          -1.1153829611079964,
          -1.147645538650982,
          -1.2874100885399566,
          -0.908566828612146,
          -0.691056312797473,
          -2.437705290682012,
          -1.350818766280768
         ]
        },
        {
         "customdata": [
          [
           "TRC10"
          ]
         ],
         "hovertemplate": "<b>%{hovertext}</b><br><br>Class=%{marker.color}<br>PC 1=%{x}<br>PC 2=%{y}<br>PC 3=%{z}<br>Algorithm=%{customdata[0]}<extra></extra>",
         "hovertext": [
          "BitTorrent"
         ],
         "legendgroup": "2",
         "marker": {
          "color": [
           2
          ],
          "coloraxis": "coloraxis",
          "symbol": "circle"
         },
         "mode": "markers",
         "name": "2",
         "scene": "scene",
         "showlegend": true,
         "type": "scatter3d",
         "x": [
          25.425131617698266
         ],
         "y": [
          4.042884368800705
         ],
         "z": [
          -0.7867724942297876
         ]
        }
       ],
       "layout": {
        "coloraxis": {
         "colorbar": {
          "title": {
           "text": "Class"
          }
         },
         "colorscale": [
          [
           0,
           "#0d0887"
          ],
          [
           0.1111111111111111,
           "#46039f"
          ],
          [
           0.2222222222222222,
           "#7201a8"
          ],
          [
           0.3333333333333333,
           "#9c179e"
          ],
          [
           0.4444444444444444,
           "#bd3786"
          ],
          [
           0.5555555555555556,
           "#d8576b"
          ],
          [
           0.6666666666666666,
           "#ed7953"
          ],
          [
           0.7777777777777778,
           "#fb9f3a"
          ],
          [
           0.8888888888888888,
           "#fdca26"
          ],
          [
           1,
           "#f0f921"
          ]
         ]
        },
        "legend": {
         "title": {
          "text": "Class"
         },
         "tracegroupgap": 0,
         "x": 0,
         "y": 1
        },
        "margin": {
         "t": 60
        },
        "scene": {
         "domain": {
          "x": [
           0,
           1
          ],
          "y": [
           0,
           1
          ]
         },
         "xaxis": {
          "title": {
           "text": "PC 1"
          }
         },
         "yaxis": {
          "title": {
           "text": "PC 2"
          }
         },
         "zaxis": {
          "title": {
           "text": "PC 3"
          }
         }
        },
        "template": {
         "data": {
          "bar": [
           {
            "error_x": {
             "color": "#2a3f5f"
            },
            "error_y": {
             "color": "#2a3f5f"
            },
            "marker": {
             "line": {
              "color": "#E5ECF6",
              "width": 0.5
             }
            },
            "type": "bar"
           }
          ],
          "barpolar": [
           {
            "marker": {
             "line": {
              "color": "#E5ECF6",
              "width": 0.5
             }
            },
            "type": "barpolar"
           }
          ],
          "carpet": [
           {
            "aaxis": {
             "endlinecolor": "#2a3f5f",
             "gridcolor": "white",
             "linecolor": "white",
             "minorgridcolor": "white",
             "startlinecolor": "#2a3f5f"
            },
            "baxis": {
             "endlinecolor": "#2a3f5f",
             "gridcolor": "white",
             "linecolor": "white",
             "minorgridcolor": "white",
             "startlinecolor": "#2a3f5f"
            },
            "type": "carpet"
           }
          ],
          "choropleth": [
           {
            "colorbar": {
             "outlinewidth": 0,
             "ticks": ""
            },
            "type": "choropleth"
           }
          ],
          "contour": [
           {
            "colorbar": {
             "outlinewidth": 0,
             "ticks": ""
            },
            "colorscale": [
             [
              0,
              "#0d0887"
             ],
             [
              0.1111111111111111,
              "#46039f"
             ],
             [
              0.2222222222222222,
              "#7201a8"
             ],
             [
              0.3333333333333333,
              "#9c179e"
             ],
             [
              0.4444444444444444,
              "#bd3786"
             ],
             [
              0.5555555555555556,
              "#d8576b"
             ],
             [
              0.6666666666666666,
              "#ed7953"
             ],
             [
              0.7777777777777778,
              "#fb9f3a"
             ],
             [
              0.8888888888888888,
              "#fdca26"
             ],
             [
              1,
              "#f0f921"
             ]
            ],
            "type": "contour"
           }
          ],
          "contourcarpet": [
           {
            "colorbar": {
             "outlinewidth": 0,
             "ticks": ""
            },
            "type": "contourcarpet"
           }
          ],
          "heatmap": [
           {
            "colorbar": {
             "outlinewidth": 0,
             "ticks": ""
            },
            "colorscale": [
             [
              0,
              "#0d0887"
             ],
             [
              0.1111111111111111,
              "#46039f"
             ],
             [
              0.2222222222222222,
              "#7201a8"
             ],
             [
              0.3333333333333333,
              "#9c179e"
             ],
             [
              0.4444444444444444,
              "#bd3786"
             ],
             [
              0.5555555555555556,
              "#d8576b"
             ],
             [
              0.6666666666666666,
              "#ed7953"
             ],
             [
              0.7777777777777778,
              "#fb9f3a"
             ],
             [
              0.8888888888888888,
              "#fdca26"
             ],
             [
              1,
              "#f0f921"
             ]
            ],
            "type": "heatmap"
           }
          ],
          "heatmapgl": [
           {
            "colorbar": {
             "outlinewidth": 0,
             "ticks": ""
            },
            "colorscale": [
             [
              0,
              "#0d0887"
             ],
             [
              0.1111111111111111,
              "#46039f"
             ],
             [
              0.2222222222222222,
              "#7201a8"
             ],
             [
              0.3333333333333333,
              "#9c179e"
             ],
             [
              0.4444444444444444,
              "#bd3786"
             ],
             [
              0.5555555555555556,
              "#d8576b"
             ],
             [
              0.6666666666666666,
              "#ed7953"
             ],
             [
              0.7777777777777778,
              "#fb9f3a"
             ],
             [
              0.8888888888888888,
              "#fdca26"
             ],
             [
              1,
              "#f0f921"
             ]
            ],
            "type": "heatmapgl"
           }
          ],
          "histogram": [
           {
            "marker": {
             "colorbar": {
              "outlinewidth": 0,
              "ticks": ""
             }
            },
            "type": "histogram"
           }
          ],
          "histogram2d": [
           {
            "colorbar": {
             "outlinewidth": 0,
             "ticks": ""
            },
            "colorscale": [
             [
              0,
              "#0d0887"
             ],
             [
              0.1111111111111111,
              "#46039f"
             ],
             [
              0.2222222222222222,
              "#7201a8"
             ],
             [
              0.3333333333333333,
              "#9c179e"
             ],
             [
              0.4444444444444444,
              "#bd3786"
             ],
             [
              0.5555555555555556,
              "#d8576b"
             ],
             [
              0.6666666666666666,
              "#ed7953"
             ],
             [
              0.7777777777777778,
              "#fb9f3a"
             ],
             [
              0.8888888888888888,
              "#fdca26"
             ],
             [
              1,
              "#f0f921"
             ]
            ],
            "type": "histogram2d"
           }
          ],
          "histogram2dcontour": [
           {
            "colorbar": {
             "outlinewidth": 0,
             "ticks": ""
            },
            "colorscale": [
             [
              0,
              "#0d0887"
             ],
             [
              0.1111111111111111,
              "#46039f"
             ],
             [
              0.2222222222222222,
              "#7201a8"
             ],
             [
              0.3333333333333333,
              "#9c179e"
             ],
             [
              0.4444444444444444,
              "#bd3786"
             ],
             [
              0.5555555555555556,
              "#d8576b"
             ],
             [
              0.6666666666666666,
              "#ed7953"
             ],
             [
              0.7777777777777778,
              "#fb9f3a"
             ],
             [
              0.8888888888888888,
              "#fdca26"
             ],
             [
              1,
              "#f0f921"
             ]
            ],
            "type": "histogram2dcontour"
           }
          ],
          "mesh3d": [
           {
            "colorbar": {
             "outlinewidth": 0,
             "ticks": ""
            },
            "type": "mesh3d"
           }
          ],
          "parcoords": [
           {
            "line": {
             "colorbar": {
              "outlinewidth": 0,
              "ticks": ""
             }
            },
            "type": "parcoords"
           }
          ],
          "pie": [
           {
            "automargin": true,
            "type": "pie"
           }
          ],
          "scatter": [
           {
            "marker": {
             "colorbar": {
              "outlinewidth": 0,
              "ticks": ""
             }
            },
            "type": "scatter"
           }
          ],
          "scatter3d": [
           {
            "line": {
             "colorbar": {
              "outlinewidth": 0,
              "ticks": ""
             }
            },
            "marker": {
             "colorbar": {
              "outlinewidth": 0,
              "ticks": ""
             }
            },
            "type": "scatter3d"
           }
          ],
          "scattercarpet": [
           {
            "marker": {
             "colorbar": {
              "outlinewidth": 0,
              "ticks": ""
             }
            },
            "type": "scattercarpet"
           }
          ],
          "scattergeo": [
           {
            "marker": {
             "colorbar": {
              "outlinewidth": 0,
              "ticks": ""
             }
            },
            "type": "scattergeo"
           }
          ],
          "scattergl": [
           {
            "marker": {
             "colorbar": {
              "outlinewidth": 0,
              "ticks": ""
             }
            },
            "type": "scattergl"
           }
          ],
          "scattermapbox": [
           {
            "marker": {
             "colorbar": {
              "outlinewidth": 0,
              "ticks": ""
             }
            },
            "type": "scattermapbox"
           }
          ],
          "scatterpolar": [
           {
            "marker": {
             "colorbar": {
              "outlinewidth": 0,
              "ticks": ""
             }
            },
            "type": "scatterpolar"
           }
          ],
          "scatterpolargl": [
           {
            "marker": {
             "colorbar": {
              "outlinewidth": 0,
              "ticks": ""
             }
            },
            "type": "scatterpolargl"
           }
          ],
          "scatterternary": [
           {
            "marker": {
             "colorbar": {
              "outlinewidth": 0,
              "ticks": ""
             }
            },
            "type": "scatterternary"
           }
          ],
          "surface": [
           {
            "colorbar": {
             "outlinewidth": 0,
             "ticks": ""
            },
            "colorscale": [
             [
              0,
              "#0d0887"
             ],
             [
              0.1111111111111111,
              "#46039f"
             ],
             [
              0.2222222222222222,
              "#7201a8"
             ],
             [
              0.3333333333333333,
              "#9c179e"
             ],
             [
              0.4444444444444444,
              "#bd3786"
             ],
             [
              0.5555555555555556,
              "#d8576b"
             ],
             [
              0.6666666666666666,
              "#ed7953"
             ],
             [
              0.7777777777777778,
              "#fb9f3a"
             ],
             [
              0.8888888888888888,
              "#fdca26"
             ],
             [
              1,
              "#f0f921"
             ]
            ],
            "type": "surface"
           }
          ],
          "table": [
           {
            "cells": {
             "fill": {
              "color": "#EBF0F8"
             },
             "line": {
              "color": "white"
             }
            },
            "header": {
             "fill": {
              "color": "#C8D4E3"
             },
             "line": {
              "color": "white"
             }
            },
            "type": "table"
           }
          ]
         },
         "layout": {
          "annotationdefaults": {
           "arrowcolor": "#2a3f5f",
           "arrowhead": 0,
           "arrowwidth": 1
          },
          "autotypenumbers": "strict",
          "coloraxis": {
           "colorbar": {
            "outlinewidth": 0,
            "ticks": ""
           }
          },
          "colorscale": {
           "diverging": [
            [
             0,
             "#8e0152"
            ],
            [
             0.1,
             "#c51b7d"
            ],
            [
             0.2,
             "#de77ae"
            ],
            [
             0.3,
             "#f1b6da"
            ],
            [
             0.4,
             "#fde0ef"
            ],
            [
             0.5,
             "#f7f7f7"
            ],
            [
             0.6,
             "#e6f5d0"
            ],
            [
             0.7,
             "#b8e186"
            ],
            [
             0.8,
             "#7fbc41"
            ],
            [
             0.9,
             "#4d9221"
            ],
            [
             1,
             "#276419"
            ]
           ],
           "sequential": [
            [
             0,
             "#0d0887"
            ],
            [
             0.1111111111111111,
             "#46039f"
            ],
            [
             0.2222222222222222,
             "#7201a8"
            ],
            [
             0.3333333333333333,
             "#9c179e"
            ],
            [
             0.4444444444444444,
             "#bd3786"
            ],
            [
             0.5555555555555556,
             "#d8576b"
            ],
            [
             0.6666666666666666,
             "#ed7953"
            ],
            [
             0.7777777777777778,
             "#fb9f3a"
            ],
            [
             0.8888888888888888,
             "#fdca26"
            ],
            [
             1,
             "#f0f921"
            ]
           ],
           "sequentialminus": [
            [
             0,
             "#0d0887"
            ],
            [
             0.1111111111111111,
             "#46039f"
            ],
            [
             0.2222222222222222,
             "#7201a8"
            ],
            [
             0.3333333333333333,
             "#9c179e"
            ],
            [
             0.4444444444444444,
             "#bd3786"
            ],
            [
             0.5555555555555556,
             "#d8576b"
            ],
            [
             0.6666666666666666,
             "#ed7953"
            ],
            [
             0.7777777777777778,
             "#fb9f3a"
            ],
            [
             0.8888888888888888,
             "#fdca26"
            ],
            [
             1,
             "#f0f921"
            ]
           ]
          },
          "colorway": [
           "#636efa",
           "#EF553B",
           "#00cc96",
           "#ab63fa",
           "#FFA15A",
           "#19d3f3",
           "#FF6692",
           "#B6E880",
           "#FF97FF",
           "#FECB52"
          ],
          "font": {
           "color": "#2a3f5f"
          },
          "geo": {
           "bgcolor": "white",
           "lakecolor": "white",
           "landcolor": "#E5ECF6",
           "showlakes": true,
           "showland": true,
           "subunitcolor": "white"
          },
          "hoverlabel": {
           "align": "left"
          },
          "hovermode": "closest",
          "mapbox": {
           "style": "light"
          },
          "paper_bgcolor": "white",
          "plot_bgcolor": "#E5ECF6",
          "polar": {
           "angularaxis": {
            "gridcolor": "white",
            "linecolor": "white",
            "ticks": ""
           },
           "bgcolor": "#E5ECF6",
           "radialaxis": {
            "gridcolor": "white",
            "linecolor": "white",
            "ticks": ""
           }
          },
          "scene": {
           "xaxis": {
            "backgroundcolor": "#E5ECF6",
            "gridcolor": "white",
            "gridwidth": 2,
            "linecolor": "white",
            "showbackground": true,
            "ticks": "",
            "zerolinecolor": "white"
           },
           "yaxis": {
            "backgroundcolor": "#E5ECF6",
            "gridcolor": "white",
            "gridwidth": 2,
            "linecolor": "white",
            "showbackground": true,
            "ticks": "",
            "zerolinecolor": "white"
           },
           "zaxis": {
            "backgroundcolor": "#E5ECF6",
            "gridcolor": "white",
            "gridwidth": 2,
            "linecolor": "white",
            "showbackground": true,
            "ticks": "",
            "zerolinecolor": "white"
           }
          },
          "shapedefaults": {
           "line": {
            "color": "#2a3f5f"
           }
          },
          "ternary": {
           "aaxis": {
            "gridcolor": "white",
            "linecolor": "white",
            "ticks": ""
           },
           "baxis": {
            "gridcolor": "white",
            "linecolor": "white",
            "ticks": ""
           },
           "bgcolor": "#E5ECF6",
           "caxis": {
            "gridcolor": "white",
            "linecolor": "white",
            "ticks": ""
           }
          },
          "title": {
           "x": 0.05
          },
          "xaxis": {
           "automargin": true,
           "gridcolor": "white",
           "linecolor": "white",
           "ticks": "",
           "title": {
            "standoff": 15
           },
           "zerolinecolor": "white",
           "zerolinewidth": 2
          },
          "yaxis": {
           "automargin": true,
           "gridcolor": "white",
           "linecolor": "white",
           "ticks": "",
           "title": {
            "standoff": 15
           },
           "zerolinecolor": "white",
           "zerolinewidth": 2
          }
         }
        },
        "width": 800
       }
      },
      "text/html": [
       "<div>                            <div id=\"943be736-db14-491c-9cc3-8c9ec8dbbbe2\" class=\"plotly-graph-div\" style=\"height:525px; width:800px;\"></div>            <script type=\"text/javascript\">                require([\"plotly\"], function(Plotly) {                    window.PLOTLYENV=window.PLOTLYENV || {};                                    if (document.getElementById(\"943be736-db14-491c-9cc3-8c9ec8dbbbe2\")) {                    Plotly.newPlot(                        \"943be736-db14-491c-9cc3-8c9ec8dbbbe2\",                        [{\"customdata\": [[\"Scrypt\"], [\"Scrypt\"], [\"X11\"], [\"SHA-256\"], [\"X15\"], [\"Scrypt\"], [\"Scrypt\"], [\"Scrypt\"], [\"Scrypt\"], [\"Scrypt\"], [\"Scrypt\"], [\"X11\"], [\"SHA3\"], [\"SHA-256\"], [\"X13\"], [\"X13\"], [\"NeoScrypt\"], [\"Scrypt\"], [\"Scrypt\"], [\"Scrypt\"], [\"X11\"], [\"X11\"], [\"Scrypt\"], [\"Scrypt\"], [\"X11\"], [\"X13\"], [\"Scrypt\"], [\"SHA-256\"], [\"X13\"], [\"Scrypt\"], [\"X13\"], [\"Scrypt\"], [\"X11\"], [\"SHA3\"], [\"QUAIT\"], [\"X13\"], [\"SHA-256\"], [\"X15\"], [\"SHA-256\"], [\"X11\"], [\"SHA-256\"], [\"NIST5\"], [\"Scrypt\"], [\"X11\"], [\"SHA-256\"], [\"X11\"], [\"SHA-256\"], [\"SHA-256\"], [\"NIST5\"], [\"X11\"], [\"Scrypt\"], [\"Scrypt\"], [\"Scrypt\"], [\"Equihash\"], [\"X11\"], [\"Scrypt\"], [\"SHA-256\"], [\"X11\"], [\"Scrypt\"], [\"Scrypt\"], [\"Scrypt\"], [\"SHA-256D\"], [\"Scrypt\"], [\"X11\"], [\"X14\"], [\"SHA-256D\"], [\"X11\"], [\"X13\"], [\"X11\"], [\"Scrypt\"], [\"Scrypt\"], [\"X11\"], [\"SHA-256\"], [\"Scrypt\"], [\"X11\"], [\"Scrypt\"], [\"Scrypt\"], [\"X11\"], [\"Scrypt\"], [\"Scrypt\"], [\"Scrypt\"], [\"QuBit\"], [\"Scrypt\"], [\"SHA-256\"], [\"X11\"], [\"Scrypt\"], [\"Scrypt\"], [\"Scrypt\"], [\"Scrypt\"], [\"X11\"], [\"X11\"], [\"X11\"], [\"X11\"], [\"Scrypt\"], [\"Scrypt\"], [\"Scrypt\"], [\"X11\"], [\"Scrypt\"], [\"X15\"], [\"NIST5\"], [\"NIST5\"], [\"Skein\"], [\"X13\"], [\"Scrypt\"], [\"X13\"], [\"Skein\"], [\"X11\"], [\"VeChainThor Authority\"], [\"Scrypt\"], [\"Scrypt\"], [\"X11\"], [\"NeoScrypt\"], [\"Scrypt\"], [\"Scrypt\"], [\"SHA-256\"], [\"NIST5\"], [\"PHI1612\"], [\"Scrypt\"], [\"Quark\"], [\"Scrypt\"], [\"X11\"], [\"NIST5\"], [\"X13\"], [\"Scrypt\"], [\"Scrypt\"], [\"Scrypt\"], [\"X11\"], [\"Scrypt\"], [\"Scrypt\"], [\"Scrypt\"], [\"Scrypt\"], [\"X11\"], [\"XEVAN\"], [\"NIST5\"], [\"Scrypt\"], [\"Scrypt\"], [\"Scrypt\"], [\"Quark\"], [\"Scrypt\"], [\"Scrypt\"], [\"SHA-256D\"], [\"Scrypt\"], [\"X16R\"], [\"Quark\"], [\"Scrypt\"], [\"X11\"], [\"Scrypt\"], [\"SHA-512\"], [\"XEVAN\"], [\"Quark\"], [\"Scrypt\"], [\"Quark\"], [\"Scrypt\"], [\"Scrypt\"], [\"XEVAN\"], [\"SHA-256D\"], [\"X11\"], [\"X11\"], [\"Scrypt\"], [\"X11\"], [\"Scrypt\"], [\"Scrypt\"], [\"Scrypt\"], [\"X11\"], [\"Scrypt\"], [\"SHA-256\"], [\"X11\"], [\"Scrypt\"], [\"Scrypt\"], [\"X11\"], [\"Scrypt\"], [\"X11\"], [\"SHA-256\"], [\"Scrypt\"], [\"NeoScrypt\"], [\"X13\"], [\"Scrypt\"]], \"hovertemplate\": \"<b>%{hovertext}</b><br><br>Class=%{marker.color}<br>PC 1=%{x}<br>PC 2=%{y}<br>PC 3=%{z}<br>Algorithm=%{customdata[0]}<extra></extra>\", \"hovertext\": [\"42 Coin\", \"404Coin\", \"Dash\", \"BitcoinDark\", \"KoboCoin\", \"Aurora Coin\", \"BlueCoin\", \"EnergyCoin\", \"BitBar\", \"CryptoBullion\", \"HoboNickels\", \"IOCoin\", \"MaxCoin\", \"MazaCoin\", \"NavCoin\", \"OpalCoin\", \"Orbitcoin\", \"PotCoin\", \"PhoenixCoin\", \"Reddcoin\", \"SyncCoin\", \"TorCoin\", \"UnitaryStatus Dollar\", \"UltraCoin\", \"X11 Coin\", \"StealthCoin\", \"ZCC Coin\", \"Neutron\", \"Kore\", \"8BIT Coin\", \"Sativa Coin\", \"Vtorrent\", \"IslaCoin\", \"Nexus\", \"Droidz\", \"Paycon\", \"Emercoin\", \"EverGreenCoin\", \"EDRCoin\", \"Hitcoin\", \"DubaiCoin\", \"PWR Coin\", \"BillaryCoin\", \"EuropeCoin\", \"SwingCoin\", \"Ratecoin\", \"Revenu\", \"Clockcoin\", \"VIP Tokens\", \"BitSend\", \"PutinCoin\", \"iBankCoin\", \"Frankywillcoin\", \"Komodo\", \"GoldBlocks\", \"CarterCoin\", \"BitTokens\", \"MustangCoin\", \"ZoneCoin\", \"RootCoin\", \"Swiscoin\", \"BuzzCoin\", \"PesoBit\", \"Halloween Coin\", \"GanjaCoin V2\", \"LanaCoin\", \"InsaneCoin\", \"EmberCoin\", \"XenixCoin\", \"PLNCoin\", \"AquariusCoin\", \"Eternity\", \"Eurocoin\", \"BitcoinFast\", \"Stakenet\", \"BitConnect Coin\", \"MoneyCoin\", \"Enigma\", \"Russiacoin\", \"GameUnits\", \"GAKHcoin\", \"LiteCreed\", \"Klingon Empire Darsek\", \"Internet of People\", \"KushCoin\", \"Printerium\", \"Impeach\", \"FirstCoin\", \"OpenChat\", \"VirtacoinPlus\", \"Impact\", \"HappyCoin\", \"Condensate\", \"Independent Money System\", \"ArgusCoin\", \"LomoCoin\", \"GoldReserve\", \"Degas Coin\", \"HTML5 Coin\", \"Denarius\", \"Virta Unique Coin\", \"Bitcoin Planet\", \"BritCoin\", \"Linda\", \"DeepOnion\", \"Cream\", \"Monoeci\", \"Vechain\", \"CoinonatX\", \"Ethereum Dark\", \"Regalcoin\", \"TrezarCoin\", \"TerraNovaCoin\", \"WomenCoin\", \"Theresa May Coin\", \"NamoCoin\", \"LUXCoin\", \"Xios\", \"Bitcloud 2.0\", \"BlackholeCoin\", \"Magnet\", \"Electra\", \"Bitcoin Diamond\", \"Cash & Back Coin\", \"GermanCoin\", \"LiteCoin Ultra\", \"PhantomX\", \"Trollcoin\", \"Litecoin Plus\", \"My Big Coin\", \"Unified Society USDEX\", \"Pushi\", \"Ellerium\", \"Bitspace\", \"Briacoin\", \"Ignition\", \"Abjcoin\", \"Carebit\", \"iDealCash\", \"Swisscoin\", \"TheVig\", \"EmaratCoin\", \"Trivechain\", \"Giant\", \"TPCash\", \"EUNO\", \"ThunderStake\", \"Kcash\", \"BitMoney\", \"HerbCoin\", \"Oduwa\", \"Galilel\", \"Credit\", \"Nasdacoin\", \"Beetle Coin\", \"Titan Coin\", \"Award\", \"Insane Coin\", \"LiteDoge\", \"TruckCoin\", \"OrangeCoin\", \"BitstarCoin\", \"HyperCoin\", \"PinkCoin\", \"AudioCoin\", \"IncaKoin\", \"Piggy Coin\", \"Genstake\", \"XiaoMiCoin\", \"CapriCoin\", \" ClubCoin\", \"Creditbit \", \"OKCash\", \"WhiteCoin\", \"FriendshipCoin\", \"Triangles Coin\", \"Gapcoin\"], \"legendgroup\": \"0\", \"marker\": {\"color\": [0, 0, 0, 0, 0, 0, 0, 0, 0, 0, 0, 0, 0, 0, 0, 0, 0, 0, 0, 0, 0, 0, 0, 0, 0, 0, 0, 0, 0, 0, 0, 0, 0, 0, 0, 0, 0, 0, 0, 0, 0, 0, 0, 0, 0, 0, 0, 0, 0, 0, 0, 0, 0, 0, 0, 0, 0, 0, 0, 0, 0, 0, 0, 0, 0, 0, 0, 0, 0, 0, 0, 0, 0, 0, 0, 0, 0, 0, 0, 0, 0, 0, 0, 0, 0, 0, 0, 0, 0, 0, 0, 0, 0, 0, 0, 0, 0, 0, 0, 0, 0, 0, 0, 0, 0, 0, 0, 0, 0, 0, 0, 0, 0, 0, 0, 0, 0, 0, 0, 0, 0, 0, 0, 0, 0, 0, 0, 0, 0, 0, 0, 0, 0, 0, 0, 0, 0, 0, 0, 0, 0, 0, 0, 0, 0, 0, 0, 0, 0, 0, 0, 0, 0, 0, 0, 0, 0, 0, 0, 0, 0, 0, 0, 0, 0, 0, 0, 0, 0, 0, 0, 0, 0, 0, 0, 0, 0], \"coloraxis\": \"coloraxis\", \"symbol\": \"circle\"}, \"mode\": \"markers\", \"name\": \"0\", \"scene\": \"scene\", \"showlegend\": true, \"type\": \"scatter3d\", \"x\": [-0.41787462586730256, -0.39656383123363503, -0.48277085559300736, -0.39044317308421744, -0.500957310162906, -0.41743127807040065, -0.4082801670159272, -0.4160164640337749, -0.4178689292724757, -0.4178488275196825, -0.41531362224662893, -0.4826407053190241, -0.4104979743707987, -0.34186041676327034, -0.49300759470218747, -0.4937766134079506, -0.3307812142369016, -0.41026637958966156, -0.4157671655291186, 0.02477009252351025, -0.4831296022431727, -0.48300691550716224, -0.38510605969075246, -0.4161051634911838, -0.48296907533526107, -0.49350577170402316, -0.4055306109414017, -0.3894068881363557, -0.4938536125815684, -0.41785246354564637, -0.4937972120617302, -0.4174972143555644, -0.48310677424462223, -0.6088064991868231, -0.3741907661289345, -0.4931520633571691, -0.37992540314629086, -0.5044111371061615, -0.3904072242058384, -0.04868653336608218, -0.39050144831415395, -0.17338834680848253, -0.4173141545721918, -0.47909045259265476, -0.39021457272159915, -0.48033973393619417, -0.3884153598261398, -0.38512597554184513, -0.32326014394173097, -0.4813561766222072, -0.385378564703287, -0.4173580962480525, -0.41535374971585104, -0.8235720988136246, -0.48238915313867287, -0.41631300588404996, -0.3904637529073751, -0.48308937187381384, -0.41762334218294056, -0.4178453359484446, -0.5085708944096996, 0.09623944654193839, -0.41736845354007834, -0.4639689699462845, -0.49692250371391017, -0.3093393188311519, -0.48254938239514666, 0.9066352241173451, -0.4830324924879633, -0.41722696700282336, -0.4174130424310858, -0.4824314171916103, -0.3902953715897506, -0.4172353438371654, -0.9434937444408652, -0.41742425065745686, -0.4111320032674439, -0.483066781827321, -0.4162923637402216, -0.4176907642337609, -0.41779103995683464, -0.3785558085649743, -0.41245803339297155, -0.3904346014401563, -0.4829496177419851, -0.4174939377155651, -0.417648239350726, -0.48114149779273485, -0.39266585482383787, -0.48191993513864295, -0.48034714677421875, -0.4817937264882814, -0.47623783319198504, -0.417579116530617, -0.41756815730027486, -0.40775761117765535, -0.4824659755293274, -0.4164906304724926, 1.0188936356475569, -0.32526595942736436, -0.32326652147902873, -0.43307468997212584, -0.49338104657877807, 0.22417085796730726, -0.49348348164162076, -0.43246275374668397, -0.4828437295493775, 0.9060555562696831, -0.4170917907495795, -0.4177687500832454, -0.48274701730915925, -0.3240664564664493, -0.41769834702396197, 0.5665664289713815, -0.38828419245314083, -0.3048345641521598, -0.3410118104523478, -0.4176298693411399, -0.3827615090083806, -0.41747806227744955, -0.48109709473434986, 0.4066614031251372, -0.48911123970641784, -0.41407596370617267, 0.16175892336513129, -0.4162310798797231, -0.481942057537319, -0.39985207411115614, -0.41779637305775097, -0.35138958359620703, -0.41198321516033426, -0.4828441607873839, -0.5151442329907567, -0.3247163787206348, -0.41783152998367196, -0.4178062298981542, -0.41742215421439954, -0.3811152611788436, -0.3448926305060079, -0.16074515148325788, -0.4000480560097832, -0.416699296734795, -0.5089271996035134, -0.3851056712795804, -0.4076835671631726, -0.4821595341724638, -0.21989966619492912, -0.9101087073406783, -0.06910540339288894, -0.38416802465938454, -0.417439197397739, -0.3847788925463076, 0.8037602651790108, -0.4167151934572998, -0.5076985707578655, -0.33747911408111947, -0.4786508195244468, -0.4824673456411705, 0.16726125013366133, -0.47946692948041647, -0.41579932519674956, -0.41701543517734824, -0.4177292024901661, -0.47148626017344936, -0.2969168523582982, -0.1178868455641985, -0.4655574729717256, -0.41681702657423425, -0.407725942300048, -0.47798639957798994, -0.41469249393356095, -0.8789466012946767, -0.38849599156398834, -0.4110366779682848, -0.330242771136874, -0.49400212520862147, -0.41512181196732967], \"y\": [0.8102956393790155, 0.8151352783213073, 1.3366086693013612, 0.5910839678621314, 1.5127909817174048, 0.8103954030119682, 0.8125131647424392, 0.8107251082121686, 0.810296875345768, 0.8103014407069677, 0.8108681923797403, 1.3366387503655675, 0.766874792014282, 0.6019259281418475, 1.4244655395226107, 1.424287799588949, 0.10867020232537018, 0.8119863380638815, 0.810766916342767, 0.9126021792565788, 1.3365293030345171, 1.336556045863137, 0.8176111538019065, 0.8106884736740895, 1.336565517718647, 1.4243503980486847, 0.8129873194251723, 0.5913160583174526, 1.4242680670479544, 0.8103007616663721, 1.4242814253300937, 0.8103796420956091, 1.336534579331426, 1.3417088241569852, 0.45951410839384027, 1.424424082203555, 0.5933571053166073, 1.512044939283646, 0.5910922765693324, 1.4326567024341705, 0.5910723543521389, 0.09993868959447677, 0.8104184024631594, 1.3374009003389107, 0.5911338991775988, 1.3371620129038553, 0.591520262870847, 0.5922317553848953, 0.06528495546685167, 1.3369167613018131, 0.8174836356288748, 0.81040786995985, 0.8108621446570958, 1.044762293579762, 1.336692373052391, 0.8106420493518798, 0.5910793726757173, 1.3365381174507607, 0.8103503293837132, 0.8103024090367734, 1.2026097024268747, 0.7905648744518162, 0.8104126287843457, 1.3407158091267017, 1.468654216670442, 0.6988409858350465, 1.3366585667283775, 1.7478217318023435, 1.3365511260605032, 0.810439111975322, 0.8103955469443688, 1.3366809913644837, 0.591118451252211, 0.810438069687827, 2.6783325611123203, 0.8103952151707774, 0.8117490560028046, 1.3365430159131118, 0.8106381080175924, 0.8103360371252714, 0.8103144232686686, 0.5036029792319481, 0.8114668836395306, 0.5910861103269743, 1.3365693930697486, 0.8103803994110967, 0.8103444244278313, 1.002543518366468, 0.8159606943011997, 1.3367927544487446, 1.3371546527699851, 1.3368219245027038, 1.3380414985668343, 0.8103605168422949, 0.8103618578542231, 0.8124726025902106, 1.336676230810873, 0.8105985756837834, 1.849603521035942, 0.06483426715296563, 0.06527864130851586, 0.9420953215085817, 1.424374385075962, 0.9506218969969089, 1.4243525008538476, 0.9422367556548514, 1.3365938418166192, 2.6329470018590064, 0.8104687877555572, 0.810319432372757, 1.3366133722487583, 0.11015822791741081, 0.8103338435570743, 1.0337917444180675, 0.5915703792433136, 0.06936449382112926, 0.19651587083941569, 0.8103488207901556, 0.5477210323358886, 0.8103849094819204, 1.336975835075638, 0.2291629080872764, 1.425332206007795, 0.8111397265529228, 0.9361968992266816, 0.810651304259323, 1.3367957083053954, 0.8143159086535369, 0.8103130802629827, 0.6187689747090854, 0.8116198649408145, 1.3365912425774509, 1.5997781018715271, 0.06495483581261917, 0.8103051159344935, 0.8103106407563244, 0.8103953770361018, 0.5481015224043617, 0.826337282728364, 0.868079201774258, 0.6790707424225432, 0.8105537356644316, 1.556101733230688, 0.5472106729386179, 0.8124897160597838, 1.336745443880858, 0.8531486392709717, 2.261252869961584, 2.519138001646248, 0.5474195058956792, 0.8103928899633983, 0.5472839596988134, 1.080578677128178, 0.8105500615244109, 1.6014279964456704, 0.6927414714296445, 1.337496702634028, 1.3366775275249096, 0.939888700974977, 1.3373758407494918, 0.8107430269228799, 0.8104854667916207, 0.8103292504556046, 1.3391397088792425, 0.8365580300177884, 0.6540516162403307, 1.3404293344625704, 0.8105376576168047, 0.8125767249995987, 1.3376844708118616, 0.8110052975250592, 2.4863725180163807, 0.5915206203491618, 0.8118276629490355, 0.10878555115144681, 1.4242356586711244, 0.8108915506855716], \"z\": [0.3721377359145993, 0.373255833258763, -0.11025277404054512, 0.5732026086646982, -0.2703392113887371, 0.37217386389936596, 0.37210052170926894, 0.3721305285514275, 0.37213884225426136, 0.37213989281530846, 0.37239864960638863, -0.11025327885553847, 0.41255915314432645, 0.5784247940097565, -0.19071137048433162, -0.190708387684826, 1.0153976066235566, 0.37305619075633867, 0.37235075345350305, 0.3704208459219103, -0.11030103562488831, -0.11027894315026235, 0.3756219317451417, 0.3723565785686804, -0.11028924669026982, -0.19070943820088557, 0.3743469167613404, 0.5733024139671415, -0.19068100431011728, 0.37213764985861497, -0.19068573719085932, 0.37218141314608844, -0.11030112642510356, 1.058619748136653, 0.6937743054063703, -0.19059795714355995, 0.5753692177633281, -0.2710564297648802, 0.5732024692294728, -0.05206117883848182, 0.5731768785098782, 1.0550029396605072, 0.3722303584256613, -0.10944999361149847, 0.5732423490665162, -0.11014257948485655, 0.5736477916920144, 0.5743172858734363, 1.055787384076479, -0.10999418517396248, 0.37652581262429086, 0.37223579533468487, 0.3723536640535704, 3.6778129277959297, -0.1101910568793444, 0.3723348141309772, 0.5732004314280572, -0.11029442274449262, 0.3721841594189625, 0.3721376222127418, 0.8097137850806353, 0.5359578023860639, 0.3721357725248197, -0.10698976672366861, -0.23069480294357284, 0.5093312193725579, -0.11023557659232139, -0.1942216763797954, -0.11029271735351166, 0.37222221082364654, 0.3722307419828549, -0.11016832235160656, 0.573197521266205, 0.372209739203771, 1.397453073977719, 0.3721991866193936, 0.37358016129008015, -0.11028999624514343, 0.37245661529418134, 0.3721663644512222, 0.37214489554839725, 0.653733427942243, 0.3732452563252222, 0.5732003183580093, -0.11028062345221704, 0.3721814004369564, 0.37218636257619725, 0.5877450959311877, 0.37429701812051314, -0.11008002385030946, -0.11006355364035253, -0.11008051337689331, -0.10919923915667766, 0.37218446665031973, 0.3722010990272012, 0.3743555546464194, -0.11021332950546325, 0.3723693589816897, -0.07388886121090495, 1.0556145992680326, 1.0558551206064584, 0.25174942873205874, -0.19064221017993774, 0.48250041739825966, -0.1906668703183666, 0.2517470552097285, -0.11028068821985604, 1.195819089302489, 0.37224360707891757, 0.3721468048095559, -0.1102415812034079, 1.016265876830746, 0.372172563158633, 0.42474587026044386, 0.5733702852706122, 1.0582212529754669, 0.9351155561397864, 0.3721841847359074, 0.6137988935970535, 0.37216957568811754, -0.10998390477822675, 1.1204648890482793, -0.19025250075656547, 0.3725969844696124, 0.4827424951088352, 0.37246991995061557, -0.11019279103292036, 0.3740991853935202, 0.3721464605390704, 0.15683388173232385, 0.3726385226228645, -0.11024571853171664, -0.3513873782415389, 1.0557027499957516, 0.3721443398427639, 0.37214875583066126, 0.3722036926074596, 0.6137925082813578, 0.38341521001179735, 0.39416241524926005, 0.4929672674127671, 0.3723227700819672, -0.3111362801313663, 0.6133682000786523, 0.37435526745125974, -0.1101919475044147, 0.4119969246533311, 2.1776621928240085, 0.6651960871246434, 0.613474818333741, 0.3721834451749914, 0.6133982718719275, 0.5362274414705291, 0.3723228317407223, -0.3504231514932829, 0.5037841736336162, -0.10937044466803861, -0.11023589478898851, 0.44886525650140574, -0.11031524432247344, 0.37258109828894215, 0.3722568625734022, 0.3721371717648928, -0.10921766912404356, 0.3953677035369658, 0.572524628122533, -0.10811213527274396, 0.37216748959696283, 0.37300119594466963, -0.10985151843257991, 0.37248652282178807, 1.181953610836067, 0.5733823920765505, 0.37278833134584255, 1.015522812144337, -0.19070724214308063, 0.37269132340146915]}, {\"customdata\": [[\"X13\"], [\"Scrypt\"], [\"CryptoNight\"], [\"Scrypt\"], [\"CryptoNight\"], [\"CryptoNight Heavy\"]], \"hovertemplate\": \"<b>%{hovertext}</b><br><br>Class=%{marker.color}<br>PC 1=%{x}<br>PC 2=%{y}<br>PC 3=%{z}<br>Algorithm=%{customdata[0]}<extra></extra>\", \"hovertext\": [\"EliteCoin\", \"MoonCoin\", \"ByteCoin\", \"gCn Coin\", \"TurtleCoin\", \"Qwertycoin\"], \"legendgroup\": \"5\", \"marker\": {\"color\": [5, 5, 5, 5, 5, 5], \"coloraxis\": \"coloraxis\", \"symbol\": \"diamond\"}, \"mode\": \"markers\", \"name\": \"5\", \"scene\": \"scene\", \"showlegend\": true, \"type\": \"scatter3d\", \"x\": [3.124075969795501, 3.6622798624361335, 4.652786103448566, 4.264156912675371, 10.92047812012298, 3.371275565155649], \"y\": [2.2097803705211123, 1.0707053858065012, -0.5627761751166058, 1.2395008276802373, 0.7542715422460904, -0.8138568731053872], \"z\": [0.5043352582499488, 0.5776818911336001, 1.812904667491863, 0.16004838607688118, 3.629299854236136, 1.7776567266867171]}, {\"customdata\": [[\"SHA-256\"], [\"Scrypt\"], [\"Scrypt\"], [\"X11\"], [\"Scrypt\"], [\"SHA-256\"], [\"Scrypt\"], [\"Scrypt\"], [\"Quark\"], [\"Scrypt\"], [\"Scrypt\"], [\"Scrypt\"], [\"X11\"], [\"SHA-256\"], [\"Scrypt\"], [\"Scrypt\"], [\"Scrypt\"], [\"Scrypt\"], [\"Scrypt\"], [\"Scrypt\"], [\"Scrypt\"], [\"Scrypt\"], [\"Scrypt\"], [\"Scrypt\"], [\"SHA-256\"], [\"Scrypt\"], [\"Scrypt\"], [\"Scrypt\"], [\"Scrypt\"], [\"Scrypt\"], [\"Scrypt\"], [\"SHA-256\"], [\"Scrypt\"], [\"Scrypt\"], [\"Scrypt\"], [\"Scrypt\"], [\"SHA-256\"], [\"SHA-256\"], [\"SHA-256\"], [\"SHA-256\"], [\"SHA-256\"], [\"X11\"], [\"Scrypt\"], [\"Scrypt\"], [\"Scrypt\"], [\"SHA-256\"], [\"Scrypt\"], [\"Scrypt\"], [\"Scrypt\"], [\"Scrypt\"], [\"Scrypt\"], [\"Scrypt\"], [\"Stanford Folding\"], [\"QuBit\"], [\"Scrypt\"], [\"Scrypt\"], [\"Scrypt\"], [\"SHA-256\"], [\"Scrypt\"], [\"X11\"], [\"SHA-256\"], [\"X11\"], [\"X11\"], [\"Scrypt\"], [\"Scrypt\"], [\"X11\"], [\"SHA-256\"], [\"Scrypt\"], [\"Scrypt\"], [\"SHA-256\"], [\"X11\"], [\"Scrypt\"], [\"X11GOST\"], [\"Scrypt\"], [\"X11\"], [\"Scrypt\"], [\"X11\"], [\"SHA-256\"], [\"Scrypt\"], [\"SHA-256\"], [\"Scrypt\"], [\"Scrypt\"], [\"X11\"], [\"X11\"], [\"Scrypt\"], [\"X11\"], [\"Scrypt\"], [\"X11\"], [\"Scrypt\"], [\"Scrypt\"], [\"Scrypt\"], [\"SHA-256\"], [\"Scrypt\"], [\"X11\"], [\"Scrypt\"], [\"Scrypt\"], [\"X11\"], [\"X11\"], [\"Time Travel\"], [\"X11\"], [\"SHA-256\"], [\"Scrypt\"], [\"Scrypt\"], [\"Scrypt\"], [\"Scrypt\"], [\"Scrypt\"], [\"Scrypt\"], [\"X11\"], [\"Scrypt\"], [\"X11\"], [\"X11\"], [\"Scrypt\"], [\"X11\"], [\"Scrypt\"], [\"X11\"], [\"SHA-256\"], [\"SkunkHash\"], [\"Scrypt\"], [\"SHA-256 + Hive\"], [\"Scrypt\"], [\"Scrypt\"], [\"X11\"], [\"Scrypt\"], [\"X11\"], [\"XEVAN\"], [\"Tribus\"], [\"X16R\"], [\"X11\"], [\"Scrypt\"], [\"XEVAN\"], [\"SHA-256\"], [\"X11\"], [\"X16R\"], [\"SHA-256\"], [\"Scrypt\"], [\"QuBit\"], [\"SHA-256\"], [\"X13\"], [\"SHA-256\"], [\"Scrypt\"], [\"Scrypt\"], [\"SHA-256\"], [\"Scrypt\"], [\"Scrypt\"], [\"Scrypt\"]], \"hovertemplate\": \"<b>%{hovertext}</b><br><br>Class=%{marker.color}<br>PC 1=%{x}<br>PC 2=%{y}<br>PC 3=%{z}<br>Algorithm=%{customdata[0]}<extra></extra>\", \"hovertext\": [\"Bitcoin\", \"Litecoin\", \"ProsperCoin\", \"Spreadcoin\", \"Argentum\", \"ZetaCoin\", \"SexCoin\", \"Quatloo\", \"QuarkCoin\", \"Digitalcoin \", \"Catcoin\", \"CannaCoin\", \"CryptCoin\", \"DevCoin\", \"EarthCoin\", \"E-Gulden\", \"Einsteinium\", \"Emerald\", \"FlutterCoin\", \"Franko\", \"GrandCoin\", \"GlobalCoin\", \"GoldCoin\", \"Infinite Coin\", \"IXcoin\", \"KrugerCoin\", \"LuckyCoin\", \"Litebar \", \"MegaCoin\", \"MinCoin\", \"NobleCoin\", \"Namecoin\", \"NyanCoin\", \"RonPaulCoin\", \"StableCoin\", \"SmartCoin\", \"SysCoin\", \"TigerCoin\", \"TerraCoin\", \"UnbreakableCoin\", \"Unobtanium\", \"UroCoin\", \"ViaCoin\", \"VeriCoin\", \"WorldCoin\", \"JouleCoin\", \"MonaCoin\", \"Gulden\", \"PesetaCoin\", \"Wild Beast Coin\", \"Flo\", \"ArtByte\", \"Folding Coin\", \"CypherPunkCoin\", \"OmniCron\", \"GreenCoin\", \"MasterCoin\", \"SoonCoin\", \"1Credit\", \"MarsCoin \", \"Anarchists Prime\", \"BowsCoin\", \"Squall Coin\", \"Song Coin\", \"BitZeny\", \"MindCoin\", \"I0coin\", \"Revolution VR\", \"Gamecredits\", \"CarpeDiemCoin\", \"Adzcoin\", \"YoCoin\", \"SibCoin\", \"Francs\", \"BolivarCoin\", \"Omni\", \"PizzaCoin\", \"ZayedCoin\", \"DopeCoin\", \"DollarCoin\", \"Shilling\", \"KiloCoin\", \"ArtexCoin\", \"Kurrent\", \"OsmiumCoin\", \"PacCoin\", \"BeaverCoin\", \"VaultCoin\", \"Canada eCoin\", \"EB3coin\", \"BenjiRolls\", \"ILCoin\", \"EquiTrader\", \"DigitalPrice\", \"Unify\", \"SocialCoin\", \"ArcticCoin\", \"DAS\", \"Bitcore\", \"Onix\", \"Bitcoin Cash\", \"Sojourn Coin\", \"NewYorkCoin\", \"FrazCoin\", \"Kronecoin\", \"AdCoin\", \"Linx\", \"Elements\", \"eBoost\", \"Pura\", \"AC3\", \"PopularCoin\", \"Sucre\", \"IrishCoin\", \"Pioneer Coin\", \"UnitedBitcoin\", \"MUNcoin\", \"ShareChain\", \"LitecoinCash\", \"BitFlip\", \"LottoCoin\", \"Crypto Improvement Fund\", \"Poseidon\", \"FuturoCoin\", \"Bitcoin Incognito\", \"KEYCO\", \"Motion\", \"Axe\", \"HexCoin\", \"Urals Coin\", \"Project Pai\", \"Azart\", \"Xchange\", \"Bitcoin SV\", \"Block-Logic\", \"SLICE\", \"BLAST\", \"Bitcoin Rhodium\", \"GlobalToken\", \"SolarCoin\", \"Crypto Escudo\", \"Crown Coin\", \"SmileyCoin\", \"Bata\", \"Pakcoin\"], \"legendgroup\": \"1\", \"marker\": {\"color\": [1, 1, 1, 1, 1, 1, 1, 1, 1, 1, 1, 1, 1, 1, 1, 1, 1, 1, 1, 1, 1, 1, 1, 1, 1, 1, 1, 1, 1, 1, 1, 1, 1, 1, 1, 1, 1, 1, 1, 1, 1, 1, 1, 1, 1, 1, 1, 1, 1, 1, 1, 1, 1, 1, 1, 1, 1, 1, 1, 1, 1, 1, 1, 1, 1, 1, 1, 1, 1, 1, 1, 1, 1, 1, 1, 1, 1, 1, 1, 1, 1, 1, 1, 1, 1, 1, 1, 1, 1, 1, 1, 1, 1, 1, 1, 1, 1, 1, 1, 1, 1, 1, 1, 1, 1, 1, 1, 1, 1, 1, 1, 1, 1, 1, 1, 1, 1, 1, 1, 1, 1, 1, 1, 1, 1, 1, 1, 1, 1, 1, 1, 1, 1, 1, 1, 1, 1, 1, 1, 1, 1, 1, 1, 1, 1], \"coloraxis\": \"coloraxis\", \"symbol\": \"square\"}, \"mode\": \"markers\", \"name\": \"1\", \"scene\": \"scene\", \"showlegend\": true, \"type\": \"scatter3d\", \"x\": [-0.19208254817717044, -0.21795407555531654, -0.21945572326652074, -0.2846395801633709, -0.21892381466177005, -0.1882790239616871, -0.21528083412977927, -0.21863307532770773, -0.18071144674825435, -0.21876322107361568, -0.2194338044095951, -0.21955125583159774, -0.28475270131725383, 0.30320547245834967, 0.1060531000857599, -0.21922708702610827, -0.2134195641009975, -0.21913722867465532, -0.08070213687288191, -0.21962427699937526, -0.19204382877187767, -0.21805584440298745, -0.21839573740368506, 2.064095506459022, -0.1920348015443127, -0.21478510254539437, -0.21926111620371136, -0.21972479692167157, -0.21875445323368117, -0.2195663854056731, -0.032387168917945, -0.19213072666529432, -0.21129435246952422, -0.21952614873356305, -0.2168621205696261, -0.21885106719940425, -0.17508233815169533, -0.19143289350400447, -0.19179462872773798, -0.19172237909472425, -0.19255997387119264, -0.2849918931876688, -0.21917303940698707, -0.15323178721983505, -0.21526587515103973, -0.19151878042925155, -0.2176627201924911, -0.19650451497972637, -0.215996624761268, -0.21972580500113037, -0.2158384235924972, -0.1976788909773863, -0.2314104577576482, -0.18159358961389355, -0.2195679294812909, -0.04904751444571543, -0.2197395032526323, -0.19216505916530652, 0.7103170932009982, -0.28418998693141123, -0.19179937748350068, -0.28455829100594515, -0.08688564464530087, -0.21713799195055247, -0.2160860265344499, -0.28460878009084933, -0.19203618874977715, -0.21446127739088697, -0.2178514477361188, 0.35432309829930464, -0.28347979299264614, -0.21804356762993465, -0.28994474779786844, -0.2194537155749267, -0.2845512189085267, -0.2197395796352118, -0.2847365804879835, -0.1923728314536144, -0.2159689444602647, -0.19232048229199047, -0.21928394334614315, -0.11569649544554941, -0.26751356153347544, -0.2817785983715107, -0.21971418037791438, 0.7340445434663015, -0.21967411349244392, -0.2744418560687454, -0.2172366067478901, -0.1783494492477155, -0.2190898722272231, -0.14739479688557372, -0.21882077902560634, -0.2834686019849712, -0.21928644271614223, -0.21891887975910104, -0.28401033313626145, -0.28477945006326555, -0.26277736040043315, -0.27204041288341885, -0.19208151516348143, -0.11359839913582366, 1.9395463479137551, -0.21940640591078733, -0.21864238487712043, -0.2182512299403719, -0.21823507677925416, -0.22600183892277473, -0.21723439329264269, -0.27882617172511936, -0.2782371973915248, -0.10935110133605734, -0.28474609972543047, -0.21842135122214482, -0.28464959151882646, -0.1920571747681233, -0.24126621655314143, 0.032332601490012845, -0.24591220589393314, -0.2191628134160066, 0.18513388017106358, -0.27676494198085844, -0.219481363365598, -0.283518996127339, -0.11914116077358124, -0.26850239084380945, -0.3118538389336191, -0.28472243264439917, -0.2195102564963858, -0.31529197977196577, -0.13962711345163945, -0.2846816497506714, -0.3110414858767315, -0.1920815615938472, -0.2180092088589332, -0.18048358392541522, -0.19112892839471662, -0.2958470561138364, -0.18958954547322146, 0.7728224985196049, -0.19786501332784467, -0.19179385061391166, 0.7324158929277564, -0.2196282821139298, -0.21686300978640338], \"y\": [0.016265688164446294, 0.2358241846847131, 0.2354872797164472, 0.7617375423991779, 0.23560327988577853, 0.017120773686626716, 0.2364152571549317, 0.2356646690226319, -0.026252268058937205, 0.23564295180924444, 0.23549234572608607, 0.2354664678103105, 0.7617117198775012, 0.12735473038719128, 0.3085460343280933, 0.2355401234117944, 0.23683741093934302, 0.23555911725977818, -0.1462162657276434, 0.2354498979649308, 0.24159706063392672, 0.2358029220303751, 0.23572400172890198, 0.7486606459030536, 0.016276723635096257, 0.23652734546608975, 0.23553241973484665, 0.23542826019373267, 0.2356459730931242, 0.23546347757990302, 0.2763069324911647, 0.016254552880975465, 0.23732259882093368, 0.2354710025859348, 0.23604978132864507, 0.23562215881788678, 0.02005499221513875, 0.016411643286650526, 0.01632884562668681, 0.016339413517106313, 0.016158690617286343, 0.7616593405931105, 0.23555229252547052, 0.04390849494705536, 0.23641622659421654, 0.016392117224149308, 0.23588811691402078, 0.24052423214120083, 0.2362633097257904, 0.23542782101051182, 0.23630090437650192, 0.24036251372372203, 0.5032241647673682, -0.07152595013370618, 0.23546419016100906, 0.27326299061803283, 0.23542497904481346, 0.016246617760244476, 0.4355418823513912, 0.7618393575220306, 0.01632585073028114, 0.7617561690687854, 0.18678210665941386, 0.2359924351884751, 0.23622915655228235, 0.7617453064381765, 0.016276403016357893, 0.23661113125139713, 0.23584790460418895, 0.1390682810296979, 0.7619952732960928, 0.23578989168557368, 0.8056203836127026, 0.23548790508363399, 0.7617571582589637, 0.23542496187969636, 0.7617143164469387, 0.016200413572479838, 0.23626428413056902, 0.016212367230360028, 0.23552553041514593, 0.2578587028253419, 0.7656183619264015, 0.7623652302756325, 0.23543049383766046, 0.9810509600707261, 0.2354396501435146, 0.7639363863797545, 0.23598742870438932, 0.24434602854108242, 0.2355694945735758, 0.0261942154840263, 0.23562580335660707, 0.7619952784136017, 0.235526682808465, 0.23560264574807085, 0.7618765239874028, 0.761705392352319, 0.586351713265145, 0.7644752876313923, 0.016265926920387083, 0.2582629575588841, 0.7344913839670271, 0.23549883955961318, 0.2356650987583508, 0.23575292327874497, 0.23575665668830176, 0.7750030453507941, 0.2359879402906302, 0.7630279284870068, 0.7631317879115116, 0.2601319770438971, 0.7617129552658171, 0.23571941206534344, 0.7617347445037305, 0.01627168716568323, 0.4108856127148414, 0.2920720212689236, 0.25569000723430774, 0.23555191326468708, 0.32603194623418674, 0.7634801307823798, 0.23548135363236775, 0.7619836310356459, 0.4499815227392644, 0.6301386427894126, 0.9809955286960139, 0.7617182317290154, 0.23547449736813816, 1.0252802136404748, 0.02805406149956596, 0.7617270123482646, 0.9811707121426186, 0.016265916189139498, 0.23580563378991862, -0.07128553318849414, 0.016479156595846776, 0.8493693889687772, 0.016818168272199577, 0.449004320579266, 0.2403194960780191, 0.016329025468735946, 0.44742568578840464, 0.2354499783551476, 0.2360605468054638], \"z\": [-0.07291010078361872, -0.2737891740434593, -0.2739255443555703, -0.7563668509688395, -0.27383055390357935, -0.07258901300892466, -0.27342487084478484, -0.2737504274447051, -0.03221978723444472, -0.2738669150838594, -0.27392562937243026, -0.2739429143024468, -0.7563709263243994, -0.02748032160962757, -0.24476518948306558, -0.2739264311689336, -0.27331970561469526, -0.2739019520457296, -0.7047385068912844, -0.27394692893850114, -0.2708728645417857, -0.2738203781486556, -0.2738139911235882, -0.07834055653992064, -0.07291028597889665, -0.27339198797572906, -0.2739285562394471, -0.2739688519219141, -0.2738808661223534, -0.27394994278694296, -0.24084263034573702, -0.07290991391330018, -0.2732439690449087, -0.27392527119570215, -0.27341873749539325, -0.2738597264349621, -0.07101916881689552, -0.07285391003807339, -0.07286381928391869, -0.07277833124759318, -0.07295508297886415, -0.7564106256448446, -0.2739221266843434, -0.48934349573680785, -0.273390123198865, -0.072858118039763, -0.2737426350234927, -0.27027010323230855, -0.2736108162978325, -0.27396596348947, -0.273625843497823, -0.2718003488196886, -0.5130154532713788, 0.007450463803892532, -0.27396489808656943, -0.2520633086144342, -0.2739704437121649, -0.07290978074753544, -0.0699297608082638, -0.7563392530328698, -0.07283725784187761, -0.7563649092060184, -1.402520091381577, -0.2735074081674949, -0.27342174773804034, -0.7563759986724634, -0.07291028059833082, -0.27351833205775683, -0.27378957210686933, -0.026265040588728413, -0.756226897619514, -0.2735984410032391, -0.7965615687587192, -0.2739278092026001, -0.7563559083975078, -0.2739704502547902, -0.7563551894339463, -0.0729343983807143, -0.2735350548542441, -0.07293256488733582, -0.27390589710182234, -0.2518047966353476, -0.755349889111511, -0.7559084794496296, -0.2739658138253365, -0.5346571931858851, -0.27396451181801357, -0.7541944863860709, -0.27375584393946445, -0.2651041427555162, -0.2738941899743459, -0.06748818035894076, -0.27381289707056056, -0.7561908280697083, -0.2739300903109164, -0.27380574538706, -0.756279009243566, -0.7563687912200054, -0.5955520981756043, -0.7539780949066252, -0.07291010479037793, -0.25068440465015157, -0.282347082618779, -0.27392799270300355, -0.2737865042921393, -0.2737519085117118, -0.2737519711651175, -0.7525767232763586, -0.2737558525248125, -0.7556445697593622, -0.7551954422634043, -0.2631147074676217, -0.7563668892224485, -0.27383250281286875, -0.7563600409583713, -0.07291208158753563, -0.4347481717839852, -0.25237895837401425, 0.10403658727811056, -0.27388379633174, -0.23399657395556656, -0.7553140057021499, -0.2739254449050963, -0.7561906326055122, -1.643693522748339, -0.6357609868584289, -0.957378225951909, -0.7563642725484256, -0.27392283819239743, -0.9971650572548614, -0.0684211328514628, -0.7563554024942724, -0.9572054970294005, -0.07291010461028807, -0.2737077060453937, 0.0076718643931276, -0.07281674602642037, -0.8368124282621493, -0.07258798262725692, -0.056404136412615734, -0.271799626905318, -0.07286382230199552, -0.1648119863319083, -0.2739609880065403, -0.2735722141113524]}, {\"customdata\": [[\"Ethash\"], [\"CryptoNight-V7\"], [\"Ethash\"], [\"Equihash\"], [\"Multiple\"], [\"Multiple\"], [\"Groestl\"], [\"Groestl\"], [\"Multiple\"], [\"NeoScrypt\"], [\"HybridScryptHash256\"], [\"Lyra2REv2\"], [\"CryptoNight\"], [\"Counterparty\"], [\"Groestl\"], [\"Multiple\"], [\"M7 POW\"], [\"Lyra2RE\"], [\"Ethash\"], [\"Blake2b\"], [\"BLAKE256\"], [\"1GB AES Pattern Search\"], [\"Dagger\"], [\"CryptoNight\"], [\"Multiple\"], [\"Lyra2Z\"], [\"Ethash\"], [\"Equihash\"], [\"CryptoNight\"], [\"CryptoNight\"], [\"Lyra2RE\"], [\"CryptoNight-V7\"], [\"Equihash\"], [\"Lyra2RE\"], [\"Dagger-Hashimoto\"], [\"Blake2S\"], [\"NIST5\"], [\"CryptoNight-V7\"], [\"536\"], [\"Argon2d\"], [\"Blake2b\"], [\"Cloverhash\"], [\"CryptoNight\"], [\"CryptoNight\"], [\"Keccak\"], [\"CryptoNight\"], [\"Equihash\"], [\"NeoScrypt\"], [\"Equihash\"], [\"Dagger\"], [\"NeoScrypt\"], [\"Ethash\"], [\"NeoScrypt\"], [\"Multiple\"], [\"CryptoNight\"], [\"CryptoNight\"], [\"Ethash\"], [\"CryptoNight-V7\"], [\"BLAKE256\"], [\"NeoScrypt\"], [\"NeoScrypt\"], [\"C11\"], [\"Ethash\"], [\"CryptoNight\"], [\"Dagger\"], [\"Lyra2REv2\"], [\"C11\"], [\"Ethash\"], [\"CryptoNight\"], [\"IMesh\"], [\"Equihash\"], [\"Lyra2Z\"], [\"Green Protocol\"], [\"CryptoNight\"], [\"NIST5\"], [\"Lyra2RE\"], [\"Lyra2Z\"], [\"CryptoNight\"], [\"CryptoNight Heavy\"], [\"CryptoNight\"], [\"Jump Consistent Hash\"], [\"CryptoNight\"], [\"DPoS\"], [\"HMQ1725\"], [\"Lyra2REv2\"], [\"CryptoNight-V7\"], [\"Cryptonight-GPU\"], [\"Keccak\"], [\"Equihash\"], [\"Lyra2Z\"], [\"CryptoNight\"], [\"Blake\"], [\"Blake\"], [\"Equihash\"], [\"Exosis\"], [\"Equihash\"], [\"Equihash\"], [\"NeoScrypt\"], [\"Blake\"], [\"Groestl\"], [\"Multiple\"], [\"Equihash+Scrypt\"], [\"Ethash\"], [\"CryptoNight\"], [\"Equihash\"]], \"hovertemplate\": \"<b>%{hovertext}</b><br><br>Class=%{marker.color}<br>PC 1=%{x}<br>PC 2=%{y}<br>PC 3=%{z}<br>Algorithm=%{customdata[0]}<extra></extra>\", \"hovertext\": [\"Ethereum\", \"Monero\", \"Ethereum Classic\", \"ZCash\", \"DigiByte\", \"MyriadCoin\", \"Riecoin\", \"Diamond\", \"Verge\", \"FeatherCoin\", \"MediterraneanCoin\", \"Vertcoin\", \"DigitalNote \", \"StorjCoin\", \"FairCoin\", \"Unitus\", \"Cryptonite\", \"Crypto\", \"Expanse\", \"Siacoin\", \"Decred\", \"HOdlcoin\", \"SoilCoin\", \"Karbo\", \"Circuits of Value\", \"ZCoin\", \"Elementrem\", \"ZClassic\", \"Cannabis Industry Coin\", \"Bikercoins\", \"HexxCoin\", \"Citadel\", \"Zero\", \"Zoin\", \"DubaiCoin\", \"TajCoin\", \"Coinonat\", \"Quantum Resistant Ledger\", \"Espers\", \"Dynamic\", \"Nano\", \"ChanCoin\", \"Dinastycoin\", \"LeviarCoin\", \"SmartCash\", \"Sumokoin\", \"BitcoinZ\", \"VIVO Coin\", \"Bitcoin Gold\", \"Pirl\", \"Innova\", \"Ellaism\", \"GoByte\", \"SHIELD\", \"UltraNote\", \"BitCoal\", \"DaxxCoin\", \"Lethean\", \"Photon\", \"SparksPay\", \"GunCoin\", \"Interzone\", \"1717 Masonic Commemorative Token\", \"Niobio Cash\", \"Travelflex\", \"KREDS\", \"Stipend\", \"Callisto Network\", \"BitTube\", \"Aidos Kuneen\", \"Bitrolium\", \"Alpenschillling\", \"Bitcoin Green\", \"Monero Classic\", \"Jumpcoin\", \"Infinex\", \"GINcoin\", \"PlatinCoin\", \"Loki\", \"Newton Coin\", \"MassGrid\", \"PluraCoin\", \"Muse\", \"PlusOneCoin\", \"Absolute Coin\", \"Webchain\", \"Ryo\", \"XDNA\", \"CrypticCoin\", \"Actinium\", \"FREDEnergy\", \"Universal Molecule\", \"Lithium\", \"PirateCash\", \"Exosis\", \"Beam\", \"Bithereum\", \"UFO Coin\", \"BlakeCoin\", \"Groestlcoin\", \"JoinCoin\", \"Vollar\", \"Reality Clash\", \"Beldex\", \"Horizen\"], \"legendgroup\": \"4\", \"marker\": {\"color\": [4, 4, 4, 4, 4, 4, 4, 4, 4, 4, 4, 4, 4, 4, 4, 4, 4, 4, 4, 4, 4, 4, 4, 4, 4, 4, 4, 4, 4, 4, 4, 4, 4, 4, 4, 4, 4, 4, 4, 4, 4, 4, 4, 4, 4, 4, 4, 4, 4, 4, 4, 4, 4, 4, 4, 4, 4, 4, 4, 4, 4, 4, 4, 4, 4, 4, 4, 4, 4, 4, 4, 4, 4, 4, 4, 4, 4, 4, 4, 4, 4, 4, 4, 4, 4, 4, 4, 4, 4, 4, 4, 4, 4, 4, 4, 4, 4, 4, 4, 4, 4, 4, 4, 4, 4], \"coloraxis\": \"coloraxis\", \"symbol\": \"x\"}, \"mode\": \"markers\", \"name\": \"4\", \"scene\": \"scene\", \"showlegend\": true, \"type\": \"scatter3d\", \"x\": [-0.04411582063938073, -0.0019787168801872444, -0.04190713694535417, -0.034542165989834936, 0.2626521664598677, -0.07616221500578789, -0.06045818406817432, -0.2600808609299696, 0.2860144545930172, -0.1262009095035445, -0.07029897613701024, -0.10393698106764329, 0.2140167324084586, 0.3501018995932378, -0.2593718459312166, -0.12088944906267333, -0.08713532343260869, -0.09924834851953865, -0.04541239160841506, 0.5301503670059937, -0.1510478933957349, 0.06401802524971444, -0.018162812053331135, 0.008856599628586101, -0.09464194941336575, -0.11066616249930333, -0.04508116820936356, -0.034568884306184634, 0.008864459760886265, 0.009031413849638665, -0.09999152384176, -0.00020256187948300837, -0.034589570709494394, -0.09962862014624567, -0.02393382124457929, -0.1617355188638376, -0.12666987641528557, -0.00013455232051183392, 0.7092250484390444, 0.0524394551899573, 0.03584108925836942, 0.02009444634920425, 0.05617802195448557, 0.009397136228466283, -0.004860099750185181, 0.00967109911308759, 0.2561236816139287, -0.13241258979728812, -0.034393901301296666, -0.016458835577726472, -0.13219726063968232, -0.04271851487424603, -0.1323389037930282, -0.1079265698742894, 1.1590841316637646, 0.008831706865431879, 0.06321798766698702, 0.014528354594138121, 1.4108879168661697, -0.13241765925740737, -0.12316697452082023, 0.02536359239221411, 0.2844981899448502, 0.014056459585438223, -0.015920709360252604, -0.08471757975583237, -0.17280295439390703, 0.023708528149319858, 0.019955543355983398, -0.07773905996649849, -0.03308086299425817, -0.10755111843883759, 0.2739418951771637, 0.009065249369169744, -0.12678010037345955, -0.09977829865601183, -0.11078514168725494, 0.014704349427657915, 0.005005101194027018, 2.492297747360232, -0.08005737770361607, 0.027203766943103877, 0.3175424312300623, -0.0671506069813625, -0.30294631108061404, 0.015688373659788687, -0.006710967413724014, -0.2835940042219016, 0.1059132430936424, -0.109941708943756, 0.11851311057641088, 0.04235143130445592, 0.04175921745299267, 0.29659820616592936, -0.05096126410878855, -0.031670319328443115, -0.03417394339682495, -0.0345604948435401, 0.11238382725114746, -0.05988728251917826, -0.12179398341289423, -0.017564051335571165, -0.04512446666883568, 0.037593575580743506, -0.0345434723629165], \"y\": [-1.1674924836159688, -1.5186306931884028, -1.1670158812254112, -1.2555024483131931, -0.4684435862410752, -0.5436868481653917, -1.0359542347340847, -0.46141464050517084, -0.4623268143539462, -0.464764312675928, -0.9480281156748871, -0.6851261248584899, -1.5605412842352717, -2.6071065573815644, -0.4612500623048409, -0.5537017819618676, -0.5913068474468424, -0.7291491703718962, -1.1677948820470554, -1.6662999035752095, -1.338409944192931, -2.0447061395381616, -1.3870471521932501, -1.6063472807720356, -0.5478289178819646, -0.6415616646083365, -1.1677198281367631, -1.2555086236009203, -1.606347238814199, -1.6063092967978798, -0.7293119363240872, -1.5182500258100367, -1.2555127594061388, -0.7292298346988122, -1.3432668536569248, -1.2506634000837056, -0.5099359249886379, -1.5182214000017924, -1.237861633103411, -1.9571497266648437, -1.7806023478750843, -1.6939724466884383, -1.5957311501928098, -1.6062294477900854, -0.7983489970839618, -1.6061717568558858, -1.1917068349600484, -0.4661501376998911, -1.255468180543492, -1.3866736976559422, -0.46610327370005716, -1.1672147051352577, -0.46613388139901696, -0.5508122115412487, -1.3542123502021215, -1.606353437473128, -1.144298271438836, -1.5149767404258816, -1.612588259931857, -0.4661503413528596, -0.4640895520032874, -1.7378631294004265, -2.1259827335033545, -1.605198056111352, -1.3865402384674326, -0.6808479482131299, -1.1629992415343917, -1.1528652365020722, -1.6039417552171173, -0.9046098287763571, -1.255172609307985, -0.6408866469066513, -2.038206397277407, -1.6063004117099549, -0.5099570037818987, -0.7292652811045336, -0.6415874051618531, -1.6050909055311173, -1.5621504013425467, -1.0620449937554413, -0.8600590760052521, -1.602266504966524, -2.389005899321287, -0.992381214112873, -0.11045253404627593, -1.514829717588656, -1.4746290190320364, -0.2413592397880272, -1.2242623854724666, -0.6414043245944683, -1.5823048497549321, -1.8692789938559038, -1.8694029801533971, -2.2134220826463653, -1.123968382376187, -1.2548777025180753, -1.2554189376234615, -0.4441750071727907, -1.8542051196774474, -1.0358256728555058, -0.5539112947813327, -1.2068041461839534, -1.1677295584068461, -1.5999297250841598, -1.255502750249496], \"z\": [1.0125253083069312, 1.3341564565868111, 1.0129907240199731, 1.0929842196023678, 0.49559317482074905, 0.4540232012917264, 0.8921053189089909, 1.538040959329758, 0.48546992859403915, 0.370012892879456, 0.8119566609514963, 0.5704793746662867, 1.4363379174165694, 0.37902388916798424, 1.5380283233453174, 0.44968256564333264, 0.49392895644624096, 0.6106444089653257, 1.0125684960766403, 1.573438422277996, 2.342142029120769, 1.81677734655463, 1.2136139720843533, 1.4145856466059128, 0.4522892309742143, 0.5301398600297575, 1.012588200076965, 1.0929843232349323, 1.4146104437763192, 1.4146188244491666, 0.6105213721899024, 1.3345671234581624, 1.092975375232348, 0.610544792252026, 1.1733493609167, 2.261770724099427, 0.4095895706567724, 1.3343862948865775, 2.532059518172129, 1.7361886166379827, 1.5761237415931992, 1.4950358459253899, 1.418893649556039, 1.414682860652203, 0.7018637598690775, 1.414760544335832, 1.1392076685687837, 0.3693395547058284, 1.092983644526838, 1.2138924447022752, 0.3693793465827845, 1.0131518653030942, 0.3693501027862256, 0.4511219458658418, 1.6019517597456854, 1.4145913858071362, 1.0346795895262662, 1.336348319995523, 1.8938306477211453, 0.3693260320101133, 0.37037128293335253, 1.535223932253191, -0.06431408656271481, 1.4153012793520758, 1.213763269805774, 0.5726980009436438, 2.1813253723711457, 1.0269331259821355, 1.4167770862180864, 0.771366210179087, 1.0930891475629703, 0.5307565945358458, -0.14467804196991285, 1.414603796616503, 0.409528488790295, 0.6105572900869893, 0.5301157195637719, 1.4158946313269536, 1.3746922505866777, 1.8202295306838068, 0.7314736385779562, 1.4167489724705655, 0.17694084354416678, 0.8517647588729664, 1.2165212458098915, 1.338037785703172, 1.2941495359713602, 1.3378267417763685, 1.109545690057323, 0.5302783420276508, 1.4323747933649515, 1.656016360813529, 1.65583833862105, 0.01632096673647321, 0.9723749348144981, 1.0935188376004443, 1.0930051046671865, 0.3779273134407234, 1.6713068818794041, 0.8921505028035738, 0.4496923938359219, 1.0573864704941591, 1.012584491304483, 1.4176119997856131, 1.0929842246694084]}, {\"customdata\": [[\"SHA-512\"], [\"SHA-256\"], [\"Scrypt\"], [\"PoS\"], [\"X11\"], [\"Scrypt\"], [\"Scrypt\"], [\"X11\"], [\"Multiple\"], [\"PHI1612\"], [\"Multiple\"], [\"Shabal256\"], [\"Scrypt\"], [\"Scrypt\"], [\"X11\"], [\"Scrypt\"], [\"Scrypt\"], [\"Scrypt\"], [\"Scrypt\"], [\"PoS\"], [\"POS 3.0\"], [\"X13\"], [\"X11\"], [\"Scrypt\"], [\"PoS\"], [\"PoS\"], [\"X13\"], [\"PoS\"], [\"DPoS\"], [\"PoS\"], [\"PoS\"], [\"Scrypt\"], [\"Quark\"], [\"Scrypt\"], [\"X13\"], [\"Scrypt\"], [\"PoS\"], [\"PoS\"], [\"SHA-256\"], [\"Scrypt\"], [\"PoS\"], [\"SHA-256\"], [\"POS 3.0\"], [\"SkunkHash v2 Raptor\"], [\"Scrypt\"], [\"PoS\"], [\"SHA-512\"], [\"Ouroboros\"], [\"Lyra2REv2\"], [\"POS 2.0\"], [\"SHA-256\"], [\"DPoS\"], [\"NIST5\"], [\"Quark\"], [\"Quark\"], [\"X11\"], [\"POS 3.0\"], [\"X13\"], [\"Proof-of-BibleHash\"], [\"Proof-of-Authority\"], [\"Scrypt\"], [\"VBFT\"], [\"Scrypt\"], [\"PoS\"], [\"Semux BFT consensus\"], [\"PoS\"], [\"X16R\"], [\"Scrypt\"], [\"Scrypt\"], [\"X15\"], [\"Scrypt\"], [\"Quark\"], [\"SHA-256\"], [\"Quark\"], [\"Scrypt\"], [\"Quark\"], [\"X11\"], [\"Scrypt\"], [\"PoS\"], [\"X11\"], [\"ECC 256K1\"], [\"XEVAN\"], [\"X11\"], [\"Quark\"], [\"X11\"], [\"DPoS\"], [\"SHA-256\"], [\"PoS\"], [\"DPoS\"], [\"Scrypt\"], [\"DPoS\"], [\"DPoS\"], [\"SHA-256\"], [\"Leased POS\"], [\"PoS\"], [\"PoS\"], [\"SHA-256\"], [\"Scrypt\"]], \"hovertemplate\": \"<b>%{hovertext}</b><br><br>Class=%{marker.color}<br>PC 1=%{x}<br>PC 2=%{y}<br>PC 3=%{z}<br>Algorithm=%{customdata[0]}<extra></extra>\", \"hovertext\": [\"Bitshares\", \"PayCoin\", \"CasinoCoin\", \"Exclusive Coin\", \"HyperStake\", \"MintCoin\", \"Nautilus Coin\", \"SuperCoin\", \"TeslaCoin\", \"TittieCoin\", \"Crypti\", \"BurstCoin\", \"RubyCoin\", \"Dnotes\", \"Ucoin\", \"Diggits\", \"GPU Coin\", \"ZeitCoin\", \"SafeExchangeCoin\", \"Nebuchadnezzar\", \"Let it Ride\", \"MudraCoin\", \"Lutetium Coin\", \"BitCurrency\", \"Opair\", \"CoffeeCoin\", \"RoyalCoin\", \"TeamUP\", \"ARK\", \"FreeCoin\", \"Creatio\", \"PandaCoin\", \"Allsafe\", \"Zilbercoin\", \"FindCoin\", \"RenosCoin\", \"Atmos\", \"MacronCoin\", \"ProCurrency\", \"GrowthCoin\", \"Phreak\", \"Ultimate Secure Cash\", \"QTUM\", \"Signatum\", \"Draftcoin\", \"Stakecoin\", \"Obsidian\", \"Cardano\", \"Rupee\", \"KekCoin\", \"Infinity Economics\", \"Lamden Tau\", \"Bulwark\", \"Kalkulus\", \"Digiwage\", \"Monkey Project\", \"TokenPay\", \"Tokyo Coin\", \"BiblePay\", \"Poa Network\", \"Velox\", \"Ontology\", \"MedicCoin\", \"Deviant Coin\", \"Semux\", \"Zealium\", \"Proton\", \"HollyWoodCoin\", \"Xt3ch\", \"Dekado\", \"Lynx\", \"Poseidon Quark\", \"BitcoinWSpectrum\", \"Dystem\", \"Peony Coin\", \"Vitae\", \"ARENON\", \"MMOCoin\", \"Ketan\", \"PAXEX\", \"Acute Angle Cloud\", \"Bettex coin\", \"Junson Ming Chan Coin\", \"Crypto Sports\", \"Dash Platinum\", \"ALAX\", \"NeosCoin\", \"Radium\", \"Lisk\", \"HiCoin\", \"EOS\", \"Oxycoin\", \"TigerCash\", \"Waves\", \"Particl\", \"Nxt\", \"ZEPHYR\", \"BitcoinPlus\"], \"legendgroup\": \"3\", \"marker\": {\"color\": [3, 3, 3, 3, 3, 3, 3, 3, 3, 3, 3, 3, 3, 3, 3, 3, 3, 3, 3, 3, 3, 3, 3, 3, 3, 3, 3, 3, 3, 3, 3, 3, 3, 3, 3, 3, 3, 3, 3, 3, 3, 3, 3, 3, 3, 3, 3, 3, 3, 3, 3, 3, 3, 3, 3, 3, 3, 3, 3, 3, 3, 3, 3, 3, 3, 3, 3, 3, 3, 3, 3, 3, 3, 3, 3, 3, 3, 3, 3, 3, 3, 3, 3, 3, 3, 3, 3, 3, 3, 3, 3, 3, 3, 3, 3, 3, 3, 3], \"coloraxis\": \"coloraxis\", \"symbol\": \"cross\"}, \"mode\": \"markers\", \"name\": \"3\", \"scene\": \"scene\", \"showlegend\": true, \"type\": \"scatter3d\", \"x\": [0.1991155431068255, 0.13794113368146474, 1.1848347385742692, 0.17034690532624025, 0.07053354474787903, 0.431967555845162, 0.11085193738978769, 0.0459547067603702, 0.21054938816654192, 0.23432267266396353, 0.20983649485552638, 0.21480806015544793, 0.1108545263962393, 0.11813582762208298, 0.04543185987512348, 0.1129649366673972, 0.11328995878908894, 1.6695212094245113, 0.23061932110558322, 0.17076532116446153, 0.17662040909960688, 0.03641061214143574, 0.06175121952989599, 0.11300488085849086, 0.17212710531712463, 0.17291104404821198, 0.03437624744846183, 0.17357314475179064, 0.716221377345178, 0.17152158432752862, 0.17076532116446153, 0.9497075150512876, 0.14338201411692722, 0.11104420953500742, 0.03467937606316467, 0.11133642770607104, 0.17305419305087533, 0.18036611673196895, 0.8973617722508336, 0.13511933236806933, 0.1707364142127517, 0.13981256238757175, 0.1782199398658444, 0.08627484021351035, 0.1109018265618594, 0.17094428570409037, 0.12262126942483471, 1.0384195596626469, 0.22524532558490978, 0.181535464994541, 0.3645125928923327, 0.722728618390336, 0.20336886571483354, 0.1435297706611414, 0.1446969032100553, 0.04546790149332722, 0.17626051762788744, 0.04587814921026821, 0.43683139552975353, 0.30254263586488817, 0.11208372270592593, 0.07600171877354385, 0.1195348019144361, 0.17148110001809208, 0.5022746933862399, 0.17123713166070356, 0.01852089189079322, 0.11129135153633722, 0.11100408367043638, 0.024804510822646193, 2.546528179343932, 0.14968372773413888, 0.13952014747996536, 0.14339079905220534, 0.2811075808126758, 0.1450798753771449, 0.04603603312115969, 0.11469968026014926, 0.17252496681660445, 0.04626801979097922, 0.7882587748068904, 0.013169513072080665, 0.30504696098677825, 0.1432359372707193, 0.045399018701723165, 0.7385326898085962, 0.1379122629625215, 0.17040982907605373, 0.7167527073755857, 0.36262479849547535, 0.7287334317538116, 0.7302711112595972, 0.16284241622543014, 0.5021963693227117, 0.17048860120266932, 0.12943008202674766, 0.5842902030442212, 0.11045610657185559], \"y\": [-0.7930080966376156, -0.9418971181348315, -0.6877246722973063, -1.2050631776883136, -0.19061072761460726, -0.6483898251197258, -0.722610485528589, -0.19629152705504363, -1.511555014777793, -1.3259767563015608, -1.5117036488741644, -0.8155981778857717, -0.7226072766907613, -0.7210050504500992, -0.196415597135343, -0.7221356406050681, -0.7220800500758512, -0.37833193778396373, -0.90216125596315, -1.204969697827664, -1.2487282617831743, -0.1083103860193145, -0.19274654727020715, -0.7221102746586837, -1.2046636668688264, -1.204476993019636, -0.10874871556825624, -1.2043660738633857, -3.5382075575890513, -1.2047997461728608, -1.204969697827664, -0.5339727484954093, -0.9857496413398917, -0.7225723096566193, -0.10868059482378144, -0.7225014512435437, -1.204455248099443, -1.2028120164095455, -0.7784738920908428, -0.7173217344983402, -1.204977992347121, -0.9414948474913571, -1.2483692982157448, -0.5027622222548902, -0.7225991526452903, -1.204935046198984, -0.810121718878276, -1.192128143793858, -1.643475085615921, -1.2926998964439869, -0.890980673719391, -3.536764069221109, -1.4680933086261108, -0.9857162977063685, -0.9854626772794882, -0.19640742833179156, -1.2488100705519853, -0.10621899845981995, -1.6747561124409, -1.5432168845948273, -0.7223431838548096, -0.27972752420971386, -0.7206817116339507, -1.2048152339860312, -1.8283758619118353, -1.2048703306209894, 0.02290878887048045, -0.7225105099977986, -0.7225798090521885, -0.020755812741292907, -1.2089448904281448, -0.9843956035604625, -0.9415463269704024, -0.9857485789453825, -0.685980820867757, -0.9853709358316917, -0.1962816040495908, -0.7217605110094941, -1.204593652873902, -0.19623524620313773, -3.593258321096499, 0.06678078815669172, -0.1364086662957684, -0.9857831404618879, -0.1964231391708097, -3.533192012341398, -0.9419051622726672, -1.2050500864407312, -3.538090387272282, -0.6660315211977449, -3.53529553384306, -3.5349401366969264, -0.9363011149654131, -2.497249043656614, -1.2050318211560638, -1.007793220612981, -2.0803843987683037, -0.7226995230622965], \"z\": [-1.2625895581452062, -1.1497778003627568, -1.4798195236456981, -0.9085857667852447, -1.8333580540977354, -1.3520680725797678, -1.3507860394257403, -1.8332627199462377, -0.6269457319251601, -0.7829697029699164, -0.6271686727976084, -1.64191554085374, -1.350822568694966, -1.3497222808515108, -1.8332155507799213, -1.350605048383639, -1.3503330860229248, -1.1334192645191687, -1.561553792246739, -0.9085422485027955, -0.8683101651474098, -1.9132229356852608, -1.8318411017421456, -1.3508309092934188, -0.9084256492387011, -0.9085054301713447, -1.9136608140038076, -0.9079189054345306, -1.1150463338111642, -0.9084774700338973, -0.9085422485027955, -1.280688123889747, -1.1095689380747285, -1.350699166132752, -1.9136348492226327, -1.3507467353550568, -0.9083473363748212, -0.9077218044755856, -0.983472101584448, -1.3464025652497684, -0.9085195657833619, -1.1493616703364702, -0.8681662747859245, -1.5515385016768897, -1.3507834660215894, -0.908449049046294, -1.2702132916914919, -0.649487784728695, -0.5065013000421802, -0.8281331192358725, -1.130371280277573, -1.114225176086166, -0.6673053530351664, -1.109558225880419, -1.1093370468696317, -1.8332134335150785, -0.8683279542413669, -1.91190542163578, -1.6236723874057217, -1.3789803991645055, -1.3505474609767287, -1.750673557315451, -1.3497277070651987, -0.9083915447354544, -2.6830215293669273, -0.9084086549315082, -2.0341763606240937, -1.3507655794581614, -1.3507238381537834, -1.993874842032553, -2.228188786353739, -1.1081601476261769, -1.1495858403542127, -1.1095554297902583, -1.3133837616202209, -1.1093836735026688, -1.8331388970996507, -1.3502506473839766, -0.9081202322975964, -1.8330382292182994, -1.4491374780392534, -2.0743686421144742, -1.8342676633137325, -1.109572050492641, -1.8332161005165117, -1.1131579455851737, -1.149758503373528, -0.9085656973101264, -1.1149695817693621, -1.329208571880673, -1.115376996897198, -1.1153829611079964, -1.147645538650982, -1.2874100885399566, -0.908566828612146, -0.691056312797473, -2.437705290682012, -1.350818766280768]}, {\"customdata\": [[\"TRC10\"]], \"hovertemplate\": \"<b>%{hovertext}</b><br><br>Class=%{marker.color}<br>PC 1=%{x}<br>PC 2=%{y}<br>PC 3=%{z}<br>Algorithm=%{customdata[0]}<extra></extra>\", \"hovertext\": [\"BitTorrent\"], \"legendgroup\": \"2\", \"marker\": {\"color\": [2], \"coloraxis\": \"coloraxis\", \"symbol\": \"circle\"}, \"mode\": \"markers\", \"name\": \"2\", \"scene\": \"scene\", \"showlegend\": true, \"type\": \"scatter3d\", \"x\": [25.425131617698266], \"y\": [4.042884368800705], \"z\": [-0.7867724942297876]}],                        {\"coloraxis\": {\"colorbar\": {\"title\": {\"text\": \"Class\"}}, \"colorscale\": [[0.0, \"#0d0887\"], [0.1111111111111111, \"#46039f\"], [0.2222222222222222, \"#7201a8\"], [0.3333333333333333, \"#9c179e\"], [0.4444444444444444, \"#bd3786\"], [0.5555555555555556, \"#d8576b\"], [0.6666666666666666, \"#ed7953\"], [0.7777777777777778, \"#fb9f3a\"], [0.8888888888888888, \"#fdca26\"], [1.0, \"#f0f921\"]]}, \"legend\": {\"title\": {\"text\": \"Class\"}, \"tracegroupgap\": 0, \"x\": 0, \"y\": 1}, \"margin\": {\"t\": 60}, \"scene\": {\"domain\": {\"x\": [0.0, 1.0], \"y\": [0.0, 1.0]}, \"xaxis\": {\"title\": {\"text\": \"PC 1\"}}, \"yaxis\": {\"title\": {\"text\": \"PC 2\"}}, \"zaxis\": {\"title\": {\"text\": \"PC 3\"}}}, \"template\": {\"data\": {\"bar\": [{\"error_x\": {\"color\": \"#2a3f5f\"}, \"error_y\": {\"color\": \"#2a3f5f\"}, \"marker\": {\"line\": {\"color\": \"#E5ECF6\", \"width\": 0.5}}, \"type\": \"bar\"}], \"barpolar\": [{\"marker\": {\"line\": {\"color\": \"#E5ECF6\", \"width\": 0.5}}, \"type\": \"barpolar\"}], \"carpet\": [{\"aaxis\": {\"endlinecolor\": \"#2a3f5f\", \"gridcolor\": \"white\", \"linecolor\": \"white\", \"minorgridcolor\": \"white\", \"startlinecolor\": \"#2a3f5f\"}, \"baxis\": {\"endlinecolor\": \"#2a3f5f\", \"gridcolor\": \"white\", \"linecolor\": \"white\", \"minorgridcolor\": \"white\", \"startlinecolor\": \"#2a3f5f\"}, \"type\": \"carpet\"}], \"choropleth\": [{\"colorbar\": {\"outlinewidth\": 0, \"ticks\": \"\"}, \"type\": \"choropleth\"}], \"contour\": [{\"colorbar\": {\"outlinewidth\": 0, \"ticks\": \"\"}, \"colorscale\": [[0.0, \"#0d0887\"], [0.1111111111111111, \"#46039f\"], [0.2222222222222222, \"#7201a8\"], [0.3333333333333333, \"#9c179e\"], [0.4444444444444444, \"#bd3786\"], [0.5555555555555556, \"#d8576b\"], [0.6666666666666666, \"#ed7953\"], [0.7777777777777778, \"#fb9f3a\"], [0.8888888888888888, \"#fdca26\"], [1.0, \"#f0f921\"]], \"type\": \"contour\"}], \"contourcarpet\": [{\"colorbar\": {\"outlinewidth\": 0, \"ticks\": \"\"}, \"type\": \"contourcarpet\"}], \"heatmap\": [{\"colorbar\": {\"outlinewidth\": 0, \"ticks\": \"\"}, \"colorscale\": [[0.0, \"#0d0887\"], [0.1111111111111111, \"#46039f\"], [0.2222222222222222, \"#7201a8\"], [0.3333333333333333, \"#9c179e\"], [0.4444444444444444, \"#bd3786\"], [0.5555555555555556, \"#d8576b\"], [0.6666666666666666, \"#ed7953\"], [0.7777777777777778, \"#fb9f3a\"], [0.8888888888888888, \"#fdca26\"], [1.0, \"#f0f921\"]], \"type\": \"heatmap\"}], \"heatmapgl\": [{\"colorbar\": {\"outlinewidth\": 0, \"ticks\": \"\"}, \"colorscale\": [[0.0, \"#0d0887\"], [0.1111111111111111, \"#46039f\"], [0.2222222222222222, \"#7201a8\"], [0.3333333333333333, \"#9c179e\"], [0.4444444444444444, \"#bd3786\"], [0.5555555555555556, \"#d8576b\"], [0.6666666666666666, \"#ed7953\"], [0.7777777777777778, \"#fb9f3a\"], [0.8888888888888888, \"#fdca26\"], [1.0, \"#f0f921\"]], \"type\": \"heatmapgl\"}], \"histogram\": [{\"marker\": {\"colorbar\": {\"outlinewidth\": 0, \"ticks\": \"\"}}, \"type\": \"histogram\"}], \"histogram2d\": [{\"colorbar\": {\"outlinewidth\": 0, \"ticks\": \"\"}, \"colorscale\": [[0.0, \"#0d0887\"], [0.1111111111111111, \"#46039f\"], [0.2222222222222222, \"#7201a8\"], [0.3333333333333333, \"#9c179e\"], [0.4444444444444444, \"#bd3786\"], [0.5555555555555556, \"#d8576b\"], [0.6666666666666666, \"#ed7953\"], [0.7777777777777778, \"#fb9f3a\"], [0.8888888888888888, \"#fdca26\"], [1.0, \"#f0f921\"]], \"type\": \"histogram2d\"}], \"histogram2dcontour\": [{\"colorbar\": {\"outlinewidth\": 0, \"ticks\": \"\"}, \"colorscale\": [[0.0, \"#0d0887\"], [0.1111111111111111, \"#46039f\"], [0.2222222222222222, \"#7201a8\"], [0.3333333333333333, \"#9c179e\"], [0.4444444444444444, \"#bd3786\"], [0.5555555555555556, \"#d8576b\"], [0.6666666666666666, \"#ed7953\"], [0.7777777777777778, \"#fb9f3a\"], [0.8888888888888888, \"#fdca26\"], [1.0, \"#f0f921\"]], \"type\": \"histogram2dcontour\"}], \"mesh3d\": [{\"colorbar\": {\"outlinewidth\": 0, \"ticks\": \"\"}, \"type\": \"mesh3d\"}], \"parcoords\": [{\"line\": {\"colorbar\": {\"outlinewidth\": 0, \"ticks\": \"\"}}, \"type\": \"parcoords\"}], \"pie\": [{\"automargin\": true, \"type\": \"pie\"}], \"scatter\": [{\"marker\": {\"colorbar\": {\"outlinewidth\": 0, \"ticks\": \"\"}}, \"type\": \"scatter\"}], \"scatter3d\": [{\"line\": {\"colorbar\": {\"outlinewidth\": 0, \"ticks\": \"\"}}, \"marker\": {\"colorbar\": {\"outlinewidth\": 0, \"ticks\": \"\"}}, \"type\": \"scatter3d\"}], \"scattercarpet\": [{\"marker\": {\"colorbar\": {\"outlinewidth\": 0, \"ticks\": \"\"}}, \"type\": \"scattercarpet\"}], \"scattergeo\": [{\"marker\": {\"colorbar\": {\"outlinewidth\": 0, \"ticks\": \"\"}}, \"type\": \"scattergeo\"}], \"scattergl\": [{\"marker\": {\"colorbar\": {\"outlinewidth\": 0, \"ticks\": \"\"}}, \"type\": \"scattergl\"}], \"scattermapbox\": [{\"marker\": {\"colorbar\": {\"outlinewidth\": 0, \"ticks\": \"\"}}, \"type\": \"scattermapbox\"}], \"scatterpolar\": [{\"marker\": {\"colorbar\": {\"outlinewidth\": 0, \"ticks\": \"\"}}, \"type\": \"scatterpolar\"}], \"scatterpolargl\": [{\"marker\": {\"colorbar\": {\"outlinewidth\": 0, \"ticks\": \"\"}}, \"type\": \"scatterpolargl\"}], \"scatterternary\": [{\"marker\": {\"colorbar\": {\"outlinewidth\": 0, \"ticks\": \"\"}}, \"type\": \"scatterternary\"}], \"surface\": [{\"colorbar\": {\"outlinewidth\": 0, \"ticks\": \"\"}, \"colorscale\": [[0.0, \"#0d0887\"], [0.1111111111111111, \"#46039f\"], [0.2222222222222222, \"#7201a8\"], [0.3333333333333333, \"#9c179e\"], [0.4444444444444444, \"#bd3786\"], [0.5555555555555556, \"#d8576b\"], [0.6666666666666666, \"#ed7953\"], [0.7777777777777778, \"#fb9f3a\"], [0.8888888888888888, \"#fdca26\"], [1.0, \"#f0f921\"]], \"type\": \"surface\"}], \"table\": [{\"cells\": {\"fill\": {\"color\": \"#EBF0F8\"}, \"line\": {\"color\": \"white\"}}, \"header\": {\"fill\": {\"color\": \"#C8D4E3\"}, \"line\": {\"color\": \"white\"}}, \"type\": \"table\"}]}, \"layout\": {\"annotationdefaults\": {\"arrowcolor\": \"#2a3f5f\", \"arrowhead\": 0, \"arrowwidth\": 1}, \"autotypenumbers\": \"strict\", \"coloraxis\": {\"colorbar\": {\"outlinewidth\": 0, \"ticks\": \"\"}}, \"colorscale\": {\"diverging\": [[0, \"#8e0152\"], [0.1, \"#c51b7d\"], [0.2, \"#de77ae\"], [0.3, \"#f1b6da\"], [0.4, \"#fde0ef\"], [0.5, \"#f7f7f7\"], [0.6, \"#e6f5d0\"], [0.7, \"#b8e186\"], [0.8, \"#7fbc41\"], [0.9, \"#4d9221\"], [1, \"#276419\"]], \"sequential\": [[0.0, \"#0d0887\"], [0.1111111111111111, \"#46039f\"], [0.2222222222222222, \"#7201a8\"], [0.3333333333333333, \"#9c179e\"], [0.4444444444444444, \"#bd3786\"], [0.5555555555555556, \"#d8576b\"], [0.6666666666666666, \"#ed7953\"], [0.7777777777777778, \"#fb9f3a\"], [0.8888888888888888, \"#fdca26\"], [1.0, \"#f0f921\"]], \"sequentialminus\": [[0.0, \"#0d0887\"], [0.1111111111111111, \"#46039f\"], [0.2222222222222222, \"#7201a8\"], [0.3333333333333333, \"#9c179e\"], [0.4444444444444444, \"#bd3786\"], [0.5555555555555556, \"#d8576b\"], [0.6666666666666666, \"#ed7953\"], [0.7777777777777778, \"#fb9f3a\"], [0.8888888888888888, \"#fdca26\"], [1.0, \"#f0f921\"]]}, \"colorway\": [\"#636efa\", \"#EF553B\", \"#00cc96\", \"#ab63fa\", \"#FFA15A\", \"#19d3f3\", \"#FF6692\", \"#B6E880\", \"#FF97FF\", \"#FECB52\"], \"font\": {\"color\": \"#2a3f5f\"}, \"geo\": {\"bgcolor\": \"white\", \"lakecolor\": \"white\", \"landcolor\": \"#E5ECF6\", \"showlakes\": true, \"showland\": true, \"subunitcolor\": \"white\"}, \"hoverlabel\": {\"align\": \"left\"}, \"hovermode\": \"closest\", \"mapbox\": {\"style\": \"light\"}, \"paper_bgcolor\": \"white\", \"plot_bgcolor\": \"#E5ECF6\", \"polar\": {\"angularaxis\": {\"gridcolor\": \"white\", \"linecolor\": \"white\", \"ticks\": \"\"}, \"bgcolor\": \"#E5ECF6\", \"radialaxis\": {\"gridcolor\": \"white\", \"linecolor\": \"white\", \"ticks\": \"\"}}, \"scene\": {\"xaxis\": {\"backgroundcolor\": \"#E5ECF6\", \"gridcolor\": \"white\", \"gridwidth\": 2, \"linecolor\": \"white\", \"showbackground\": true, \"ticks\": \"\", \"zerolinecolor\": \"white\"}, \"yaxis\": {\"backgroundcolor\": \"#E5ECF6\", \"gridcolor\": \"white\", \"gridwidth\": 2, \"linecolor\": \"white\", \"showbackground\": true, \"ticks\": \"\", \"zerolinecolor\": \"white\"}, \"zaxis\": {\"backgroundcolor\": \"#E5ECF6\", \"gridcolor\": \"white\", \"gridwidth\": 2, \"linecolor\": \"white\", \"showbackground\": true, \"ticks\": \"\", \"zerolinecolor\": \"white\"}}, \"shapedefaults\": {\"line\": {\"color\": \"#2a3f5f\"}}, \"ternary\": {\"aaxis\": {\"gridcolor\": \"white\", \"linecolor\": \"white\", \"ticks\": \"\"}, \"baxis\": {\"gridcolor\": \"white\", \"linecolor\": \"white\", \"ticks\": \"\"}, \"bgcolor\": \"#E5ECF6\", \"caxis\": {\"gridcolor\": \"white\", \"linecolor\": \"white\", \"ticks\": \"\"}}, \"title\": {\"x\": 0.05}, \"xaxis\": {\"automargin\": true, \"gridcolor\": \"white\", \"linecolor\": \"white\", \"ticks\": \"\", \"title\": {\"standoff\": 15}, \"zerolinecolor\": \"white\", \"zerolinewidth\": 2}, \"yaxis\": {\"automargin\": true, \"gridcolor\": \"white\", \"linecolor\": \"white\", \"ticks\": \"\", \"title\": {\"standoff\": 15}, \"zerolinecolor\": \"white\", \"zerolinewidth\": 2}}}, \"width\": 800},                        {\"responsive\": true}                    ).then(function(){\n",
       "                            \n",
       "var gd = document.getElementById('943be736-db14-491c-9cc3-8c9ec8dbbbe2');\n",
       "var x = new MutationObserver(function (mutations, observer) {{\n",
       "        var display = window.getComputedStyle(gd).display;\n",
       "        if (!display || display === 'none') {{\n",
       "            console.log([gd, 'removed!']);\n",
       "            Plotly.purge(gd);\n",
       "            observer.disconnect();\n",
       "        }}\n",
       "}});\n",
       "\n",
       "// Listen for the removal of the full notebook cells\n",
       "var notebookContainer = gd.closest('#notebook-container');\n",
       "if (notebookContainer) {{\n",
       "    x.observe(notebookContainer, {childList: true});\n",
       "}}\n",
       "\n",
       "// Listen for the clearing of the current output cell\n",
       "var outputEl = gd.closest('.output');\n",
       "if (outputEl) {{\n",
       "    x.observe(outputEl, {childList: true});\n",
       "}}\n",
       "\n",
       "                        })                };                });            </script>        </div>"
      ]
     },
     "metadata": {},
     "output_type": "display_data"
    }
   ],
   "source": [
    "# Create a 3D-Scatter with the PCA data and the clusters\n",
    "fig = px.scatter_3d(\n",
    "    clustered_df,\n",
    "    x=\"PC 1\",\n",
    "    y=\"PC 2\",\n",
    "    z=\"PC 3\",\n",
    "    hover_name=\"CoinName\",\n",
    "    hover_data=[\"Algorithm\"],\n",
    "    color=\"Class\",\n",
    "    symbol=\"Class\",\n",
    "    width=800)\n",
    "fig.update_layout(legend=dict(x=0, y=1))\n",
    "fig.show()"
   ]
  },
  {
   "cell_type": "markdown",
   "metadata": {},
   "source": [
    "#### Table of Tradable Cryptocurrencies"
   ]
  },
  {
   "cell_type": "code",
   "execution_count": 31,
   "metadata": {},
   "outputs": [
    {
     "data": {},
     "metadata": {},
     "output_type": "display_data"
    },
    {
     "data": {
      "application/vnd.holoviews_exec.v0+json": "",
      "text/html": [
       "<div id='1173'>\n",
       "\n",
       "\n",
       "\n",
       "\n",
       "\n",
       "  <div class=\"bk-root\" id=\"616772aa-5782-4440-acd0-159b83e4dd5a\" data-root-id=\"1173\"></div>\n",
       "</div>\n",
       "<script type=\"application/javascript\">(function(root) {\n",
       "  function embed_document(root) {\n",
       "    var docs_json = {\"d3f72b21-6a3f-490f-8a7a-38e60df58b99\":{\"defs\":[{\"extends\":null,\"module\":null,\"name\":\"ReactiveHTML1\",\"overrides\":[],\"properties\":[]},{\"extends\":null,\"module\":null,\"name\":\"FlexBox1\",\"overrides\":[],\"properties\":[{\"default\":\"flex-start\",\"kind\":null,\"name\":\"align_content\"},{\"default\":\"flex-start\",\"kind\":null,\"name\":\"align_items\"},{\"default\":\"row\",\"kind\":null,\"name\":\"flex_direction\"},{\"default\":\"wrap\",\"kind\":null,\"name\":\"flex_wrap\"},{\"default\":\"flex-start\",\"kind\":null,\"name\":\"justify_content\"}]},{\"extends\":null,\"module\":null,\"name\":\"TemplateActions1\",\"overrides\":[],\"properties\":[{\"default\":0,\"kind\":null,\"name\":\"open_modal\"},{\"default\":0,\"kind\":null,\"name\":\"close_modal\"}]},{\"extends\":null,\"module\":null,\"name\":\"MaterialTemplateActions1\",\"overrides\":[],\"properties\":[{\"default\":0,\"kind\":null,\"name\":\"open_modal\"},{\"default\":0,\"kind\":null,\"name\":\"close_modal\"}]}],\"roots\":{\"references\":[{\"attributes\":{\"editor\":{\"id\":\"1198\"},\"field\":\"TotalCoinsMined\",\"formatter\":{\"id\":\"1197\"},\"title\":\"TotalCoinsMined\"},\"id\":\"1199\",\"type\":\"TableColumn\"},{\"attributes\":{\"editor\":{\"id\":\"1183\"},\"field\":\"Algorithm\",\"formatter\":{\"id\":\"1182\"},\"title\":\"Algorithm\"},\"id\":\"1184\",\"type\":\"TableColumn\"},{\"attributes\":{},\"id\":\"1202\",\"type\":\"NumberFormatter\"},{\"attributes\":{\"source\":{\"id\":\"1175\"}},\"id\":\"1209\",\"type\":\"CDSView\"},{\"attributes\":{},\"id\":\"1187\",\"type\":\"StringFormatter\"},{\"attributes\":{\"children\":[{\"id\":\"1174\"},{\"id\":\"1207\"},{\"id\":\"1214\"}],\"margin\":[0,0,0,0],\"name\":\"Row01933\",\"tags\":[\"embedded\"]},\"id\":\"1173\",\"type\":\"Row\"},{\"attributes\":{},\"id\":\"1176\",\"type\":\"Selection\"},{\"attributes\":{},\"id\":\"1203\",\"type\":\"IntEditor\"},{\"attributes\":{},\"id\":\"1188\",\"type\":\"StringEditor\"},{\"attributes\":{\"margin\":[5,5,5,5],\"name\":\"HSpacer01937\",\"sizing_mode\":\"stretch_width\"},\"id\":\"1174\",\"type\":\"Spacer\"},{\"attributes\":{\"editor\":{\"id\":\"1188\"},\"field\":\"ProofType\",\"formatter\":{\"id\":\"1187\"},\"title\":\"ProofType\"},\"id\":\"1189\",\"type\":\"TableColumn\"},{\"attributes\":{\"editor\":{\"id\":\"1203\"},\"field\":\"Class\",\"formatter\":{\"id\":\"1202\"},\"title\":\"Class\"},\"id\":\"1204\",\"type\":\"TableColumn\"},{\"attributes\":{\"columns\":[{\"id\":\"1179\"},{\"id\":\"1184\"},{\"id\":\"1189\"},{\"id\":\"1194\"},{\"id\":\"1199\"},{\"id\":\"1204\"}],\"height\":300,\"reorderable\":false,\"source\":{\"id\":\"1175\"},\"view\":{\"id\":\"1209\"},\"width\":1200},\"id\":\"1207\",\"type\":\"DataTable\"},{\"attributes\":{},\"id\":\"1177\",\"type\":\"StringFormatter\"},{\"attributes\":{},\"id\":\"1192\",\"type\":\"StringFormatter\"},{\"attributes\":{},\"id\":\"1178\",\"type\":\"StringEditor\"},{\"attributes\":{},\"id\":\"1193\",\"type\":\"StringEditor\"},{\"attributes\":{},\"id\":\"1210\",\"type\":\"UnionRenderers\"},{\"attributes\":{\"editor\":{\"id\":\"1178\"},\"field\":\"CoinName\",\"formatter\":{\"id\":\"1177\"},\"title\":\"CoinName\"},\"id\":\"1179\",\"type\":\"TableColumn\"},{\"attributes\":{\"margin\":[5,5,5,5],\"name\":\"HSpacer01938\",\"sizing_mode\":\"stretch_width\"},\"id\":\"1214\",\"type\":\"Spacer\"},{\"attributes\":{\"editor\":{\"id\":\"1193\"},\"field\":\"TotalCoinSupply\",\"formatter\":{\"id\":\"1192\"},\"title\":\"TotalCoinSupply\"},\"id\":\"1194\",\"type\":\"TableColumn\"},{\"attributes\":{},\"id\":\"1182\",\"type\":\"StringFormatter\"},{\"attributes\":{\"format\":\"0,0.0[00000]\"},\"id\":\"1197\",\"type\":\"NumberFormatter\"},{\"attributes\":{},\"id\":\"1183\",\"type\":\"StringEditor\"},{\"attributes\":{},\"id\":\"1198\",\"type\":\"NumberEditor\"},{\"attributes\":{\"data\":{\"Algorithm\":[\"Scrypt\",\"Scrypt\",\"X13\",\"SHA-256\",\"Ethash\",\"Scrypt\",\"X11\",\"CryptoNight-V7\",\"Ethash\",\"Equihash\",\"SHA-512\",\"Multiple\",\"SHA-256\",\"SHA-256\",\"Scrypt\",\"X15\",\"X11\",\"Scrypt\",\"Scrypt\",\"Scrypt\",\"Multiple\",\"Scrypt\",\"SHA-256\",\"Scrypt\",\"Scrypt\",\"Scrypt\",\"Quark\",\"Groestl\",\"Scrypt\",\"Scrypt\",\"Scrypt\",\"Scrypt\",\"Scrypt\",\"X11\",\"Scrypt\",\"Groestl\",\"Multiple\",\"SHA-256\",\"Scrypt\",\"Scrypt\",\"Scrypt\",\"Scrypt\",\"PoS\",\"Scrypt\",\"Scrypt\",\"NeoScrypt\",\"Scrypt\",\"Scrypt\",\"Scrypt\",\"Scrypt\",\"X11\",\"Scrypt\",\"X11\",\"SHA-256\",\"Scrypt\",\"Scrypt\",\"Scrypt\",\"SHA3\",\"Scrypt\",\"HybridScryptHash256\",\"Scrypt\",\"Scrypt\",\"SHA-256\",\"Scrypt\",\"X13\",\"Scrypt\",\"SHA-256\",\"Scrypt\",\"X13\",\"NeoScrypt\",\"Scrypt\",\"Scrypt\",\"Scrypt\",\"Scrypt\",\"Scrypt\",\"Scrypt\",\"X11\",\"X11\",\"SHA-256\",\"Multiple\",\"SHA-256\",\"PHI1612\",\"X11\",\"SHA-256\",\"SHA-256\",\"SHA-256\",\"X11\",\"Scrypt\",\"Scrypt\",\"Scrypt\",\"Scrypt\",\"Lyra2REv2\",\"Scrypt\",\"X11\",\"Multiple\",\"SHA-256\",\"X13\",\"Scrypt\",\"CryptoNight\",\"CryptoNight\",\"Shabal256\",\"Counterparty\",\"Scrypt\",\"SHA-256\",\"Groestl\",\"Scrypt\",\"Scrypt\",\"Scrypt\",\"X13\",\"Scrypt\",\"Scrypt\",\"Scrypt\",\"Scrypt\",\"X13\",\"Scrypt\",\"Stanford Folding\",\"X11\",\"Multiple\",\"QuBit\",\"Scrypt\",\"Scrypt\",\"Scrypt\",\"M7 POW\",\"Scrypt\",\"SHA-256\",\"Scrypt\",\"X11\",\"SHA3\",\"X11\",\"Lyra2RE\",\"SHA-256\",\"QUAIT\",\"X11\",\"X11\",\"Scrypt\",\"Scrypt\",\"Scrypt\",\"Ethash\",\"X13\",\"Blake2b\",\"SHA-256\",\"X15\",\"X11\",\"SHA-256\",\"BLAKE256\",\"Scrypt\",\"1GB AES Pattern Search\",\"SHA-256\",\"X11\",\"Scrypt\",\"SHA-256\",\"SHA-256\",\"NIST5\",\"Scrypt\",\"Scrypt\",\"X11\",\"Dagger\",\"Scrypt\",\"X11GOST\",\"X11\",\"Scrypt\",\"SHA-256\",\"Scrypt\",\"PoS\",\"Scrypt\",\"X11\",\"X11\",\"SHA-256\",\"SHA-256\",\"NIST5\",\"X11\",\"Scrypt\",\"POS 3.0\",\"Scrypt\",\"Scrypt\",\"Scrypt\",\"X13\",\"X11\",\"X11\",\"Equihash\",\"X11\",\"Scrypt\",\"CryptoNight\",\"SHA-256\",\"SHA-256\",\"X11\",\"Scrypt\",\"Multiple\",\"Scrypt\",\"Scrypt\",\"Scrypt\",\"SHA-256\",\"Scrypt\",\"Scrypt\",\"SHA-256D\",\"PoS\",\"Scrypt\",\"X11\",\"Lyra2Z\",\"PoS\",\"X13\",\"X14\",\"PoS\",\"SHA-256D\",\"Ethash\",\"Equihash\",\"DPoS\",\"X11\",\"Scrypt\",\"X11\",\"X13\",\"X11\",\"PoS\",\"Scrypt\",\"Scrypt\",\"X11\",\"PoS\",\"X11\",\"SHA-256\",\"Scrypt\",\"X11\",\"Scrypt\",\"Scrypt\",\"X11\",\"CryptoNight\",\"Scrypt\",\"Scrypt\",\"Scrypt\",\"Scrypt\",\"Quark\",\"QuBit\",\"Scrypt\",\"CryptoNight\",\"Lyra2RE\",\"Scrypt\",\"SHA-256\",\"X11\",\"Scrypt\",\"X11\",\"Scrypt\",\"CryptoNight-V7\",\"Scrypt\",\"Scrypt\",\"Scrypt\",\"X13\",\"X11\",\"Equihash\",\"Scrypt\",\"Scrypt\",\"Lyra2RE\",\"Scrypt\",\"Dagger-Hashimoto\",\"X11\",\"Blake2S\",\"X11\",\"Scrypt\",\"PoS\",\"X11\",\"NIST5\",\"PoS\",\"X11\",\"Scrypt\",\"Scrypt\",\"Scrypt\",\"SHA-256\",\"X11\",\"Scrypt\",\"Scrypt\",\"SHA-256\",\"PoS\",\"Scrypt\",\"X15\",\"SHA-256\",\"Scrypt\",\"POS 3.0\",\"CryptoNight-V7\",\"536\",\"Argon2d\",\"Blake2b\",\"Cloverhash\",\"CryptoNight\",\"NIST5\",\"X11\",\"NIST5\",\"Skein\",\"Scrypt\",\"X13\",\"Scrypt\",\"X11\",\"X11\",\"Scrypt\",\"CryptoNight\",\"X13\",\"Time Travel\",\"Scrypt\",\"Keccak\",\"SkunkHash v2 Raptor\",\"X11\",\"Skein\",\"SHA-256\",\"X11\",\"Scrypt\",\"VeChainThor Authority\",\"Scrypt\",\"PoS\",\"Scrypt\",\"Scrypt\",\"Scrypt\",\"Scrypt\",\"Scrypt\",\"Scrypt\",\"Scrypt\",\"CryptoNight\",\"SHA-512\",\"Ouroboros\",\"X11\",\"Equihash\",\"NeoScrypt\",\"X11\",\"Scrypt\",\"NeoScrypt\",\"Lyra2REv2\",\"Equihash\",\"Scrypt\",\"SHA-256\",\"NIST5\",\"PHI1612\",\"Dagger\",\"Scrypt\",\"Quark\",\"Scrypt\",\"POS 2.0\",\"Scrypt\",\"SHA-256\",\"X11\",\"NeoScrypt\",\"Ethash\",\"NeoScrypt\",\"X11\",\"DPoS\",\"NIST5\",\"X13\",\"Multiple\",\"Scrypt\",\"CryptoNight\",\"CryptoNight\",\"Ethash\",\"NIST5\",\"Quark\",\"X11\",\"CryptoNight-V7\",\"Scrypt\",\"Scrypt\",\"Scrypt\",\"X11\",\"BLAKE256\",\"X11\",\"NeoScrypt\",\"Quark\",\"NeoScrypt\",\"Scrypt\",\"Scrypt\",\"Scrypt\",\"X11\",\"X11\",\"SHA-256\",\"C11\",\"POS 3.0\",\"Ethash\",\"Scrypt\",\"CryptoNight\",\"SkunkHash\",\"Scrypt\",\"CryptoNight\",\"Scrypt\",\"Dagger\",\"Lyra2REv2\",\"X13\",\"Proof-of-BibleHash\",\"SHA-256 + Hive\",\"Scrypt\",\"Scrypt\",\"X11\",\"C11\",\"Proof-of-Authority\",\"X11\",\"XEVAN\",\"Scrypt\",\"VBFT\",\"Ethash\",\"CryptoNight\",\"Scrypt\",\"IMesh\",\"NIST5\",\"Scrypt\",\"Scrypt\",\"Equihash\",\"Scrypt\",\"Lyra2Z\",\"Green Protocol\",\"PoS\",\"Scrypt\",\"Semux BFT consensus\",\"X11\",\"Quark\",\"PoS\",\"CryptoNight\",\"X16R\",\"Scrypt\",\"NIST5\",\"Lyra2RE\",\"XEVAN\",\"Tribus\",\"Scrypt\",\"Lyra2Z\",\"CryptoNight\",\"CryptoNight Heavy\",\"CryptoNight\",\"Scrypt\",\"Scrypt\",\"Jump Consistent Hash\",\"SHA-256D\",\"CryptoNight\",\"Scrypt\",\"X15\",\"Scrypt\",\"Quark\",\"SHA-256\",\"DPoS\",\"X16R\",\"HMQ1725\",\"X11\",\"X16R\",\"Quark\",\"Quark\",\"Scrypt\",\"Lyra2REv2\",\"Quark\",\"Scrypt\",\"Scrypt\",\"CryptoNight-V7\",\"Cryptonight-GPU\",\"XEVAN\",\"CryptoNight Heavy\",\"X11\",\"X11\",\"Scrypt\",\"PoS\",\"SHA-256\",\"Keccak\",\"X11\",\"X11\",\"Scrypt\",\"SHA-512\",\"X16R\",\"ECC 256K1\",\"Equihash\",\"XEVAN\",\"Lyra2Z\",\"SHA-256\",\"XEVAN\",\"X11\",\"CryptoNight\",\"Quark\",\"Blake\",\"Blake\",\"Equihash\",\"Exosis\",\"Scrypt\",\"Scrypt\",\"Equihash\",\"Quark\",\"Equihash\",\"Quark\",\"Scrypt\",\"QuBit\",\"X11\",\"Scrypt\",\"XEVAN\",\"SHA-256D\",\"X11\",\"SHA-256\",\"X13\",\"SHA-256\",\"X11\",\"DPoS\",\"Scrypt\",\"Scrypt\",\"X11\",\"NeoScrypt\",\"Scrypt\",\"Blake\",\"Scrypt\",\"SHA-256\",\"Scrypt\",\"X11\",\"Scrypt\",\"Scrypt\",\"SHA-256\",\"X11\",\"SHA-256\",\"Scrypt\",\"Scrypt\",\"Scrypt\",\"Groestl\",\"X11\",\"Scrypt\",\"PoS\",\"Scrypt\",\"Scrypt\",\"X11\",\"SHA-256\",\"DPoS\",\"Scrypt\",\"Scrypt\",\"NeoScrypt\",\"Multiple\",\"X13\",\"Equihash+Scrypt\",\"DPoS\",\"Ethash\",\"DPoS\",\"SHA-256\",\"Leased POS\",\"PoS\",\"TRC10\",\"PoS\",\"SHA-256\",\"Scrypt\",\"CryptoNight\",\"Equihash\",\"Scrypt\"],\"Class\":{\"__ndarray__\":\"AAAAAAAAAAAFAAAAAQAAAAQAAAABAAAAAAAAAAQAAAAEAAAABAAAAAMAAAAEAAAAAAAAAAMAAAABAAAAAAAAAAEAAAABAAAAAAAAAAAAAAAEAAAABQAAAAEAAAABAAAAAQAAAAAAAAABAAAABAAAAAEAAAAAAAAAAQAAAAAAAAABAAAAAQAAAAMAAAAEAAAABAAAAAEAAAABAAAAAQAAAAEAAAABAAAAAwAAAAEAAAABAAAABAAAAAEAAAABAAAAAQAAAAAAAAADAAAAAQAAAAAAAAABAAAAAQAAAAEAAAABAAAAAAAAAAEAAAAEAAAAAwAAAAEAAAAAAAAAAwAAAAAAAAABAAAAAQAAAAEAAAAAAAAAAAAAAAAAAAAAAAAAAAAAAAEAAAABAAAAAQAAAAMAAAAAAAAAAQAAAAMAAAABAAAAAwAAAAAAAAABAAAAAQAAAAEAAAABAAAAAAAAAAAAAAABAAAAAQAAAAQAAAABAAAAAAAAAAMAAAABAAAAAAAAAAAAAAAFAAAABAAAAAMAAAAEAAAAAQAAAAAAAAAEAAAAAQAAAAMAAAABAAAAAAAAAAEAAAADAAAAAQAAAAAAAAAAAAAAAQAAAAEAAAADAAAABAAAAAEAAAABAAAAAAAAAAEAAAAEAAAAAQAAAAEAAAABAAAAAAAAAAAAAAABAAAABAAAAAEAAAAAAAAAAQAAAAEAAAABAAAAAQAAAAMAAAAEAAAAAAAAAAQAAAAAAAAAAAAAAAEAAAABAAAABAAAAAEAAAAEAAAAAAAAAAAAAAABAAAAAAAAAAEAAAAAAAAAAAAAAAMAAAABAAAABAAAAAEAAAABAAAAAAAAAAMAAAAAAAAAAwAAAAMAAAABAAAAAQAAAAAAAAAAAAAAAAAAAAAAAAAAAAAAAQAAAAMAAAAAAAAAAAAAAAAAAAADAAAAAQAAAAMAAAAAAAAAAAAAAAAAAAAEAAAAAAAAAAEAAAAAAAAAAAAAAAQAAAAAAAAAAQAAAAMAAAABAAAAAAAAAAEAAAAAAAAAAwAAAAAAAAAAAAAABAAAAAMAAAADAAAAAAAAAAMAAAAAAAAABAAAAAQAAAADAAAAAAAAAAEAAAABAAAAAAAAAAAAAAADAAAAAAAAAAAAAAABAAAAAwAAAAAAAAAAAAAAAAAAAAAAAAAAAAAAAAAAAAAAAAAEAAAAAAAAAAMAAAAAAAAAAAAAAAMAAAAAAAAAAQAAAAQAAAAEAAAAAAAAAAAAAAAAAAAAAAAAAAEAAAAAAAAABAAAAAMAAAAAAAAAAQAAAAMAAAABAAAABAAAAAAAAAABAAAABAAAAAMAAAAEAAAAAAAAAAQAAAAAAAAAAQAAAAMAAAAAAAAABAAAAAMAAAAAAAAAAAAAAAAAAAAAAAAAAwAAAAAAAAABAAAAAwAAAAEAAAADAAAAAAAAAAAAAAADAAAAAQAAAAMAAAAEAAAABAAAAAQAAAAEAAAABAAAAAQAAAAAAAAAAQAAAAAAAAAAAAAAAQAAAAAAAAABAAAAAQAAAAEAAAAAAAAABAAAAAAAAAABAAAABQAAAAQAAAADAAAAAQAAAAAAAAABAAAAAAAAAAMAAAAAAAAAAQAAAAMAAAABAAAAAQAAAAEAAAABAAAAAQAAAAAAAAAAAAAABAAAAAMAAAADAAAAAAAAAAQAAAAAAAAAAQAAAAAAAAAEAAAAAwAAAAQAAAAAAAAAAAAAAAAAAAAAAAAABAAAAAAAAAAAAAAAAQAAAAMAAAAAAAAAAwAAAAEAAAAEAAAABAAAAAQAAAAAAAAAAwAAAAAAAAAAAAAABAAAAAAAAAAEAAAABAAAAAQAAAADAAAAAwAAAAEAAAAEAAAAAAAAAAAAAAABAAAAAAAAAAQAAAABAAAABAAAAAMAAAAEAAAAAQAAAAAAAAAAAAAAAwAAAAEAAAABAAAABAAAAAMAAAAEAAAAAAAAAAUAAAABAAAAAAAAAAQAAAABAAAABAAAAAQAAAADAAAAAwAAAAEAAAABAAAAAQAAAAEAAAAEAAAAAwAAAAAAAAAAAAAAAwAAAAMAAAAEAAAABAAAAAEAAAAEAAAAAAAAAAAAAAAAAAAABAAAAAMAAAAEAAAABAAAAAMAAAAAAAAAAwAAAAEAAAAAAAAAAwAAAAQAAAADAAAAAAAAAAQAAAAEAAAAAQAAAAEAAAADAAAABAAAAAQAAAAEAAAABAAAAAAAAAADAAAABAAAAAAAAAAEAAAAAAAAAAMAAAADAAAAAwAAAAMAAAAEAAAAAQAAAAQAAAABAAAAAAAAAAMAAAAAAAAAAwAAAAQAAAADAAAAAQAAAAAAAAAEAAAABAAAAAEAAAAFAAAAAwAAAAAAAAADAAAAAwAAAAEAAAAEAAAAAwAAAAEAAAAAAAAAAAAAAAEAAAADAAAABAAAAAMAAAAEAAAAAQAAAAAAAAADAAAABAAAAAAAAAAEAAAABAAAAAQAAAAEAAAAAQAAAAAAAAAEAAAAAAAAAAQAAAADAAAAAAAAAAEAAAADAAAAAAAAAAAAAAAAAAAAAAAAAAEAAAABAAAAAQAAAAAAAAADAAAAAAAAAAEAAAAAAAAABAAAAAAAAAAEAAAAAAAAAAMAAAAAAAAAAAAAAAEAAAAAAAAAAAAAAAAAAAABAAAAAAAAAAEAAAAAAAAABAAAAAAAAAAAAAAAAwAAAAEAAAABAAAAAAAAAAAAAAADAAAAAwAAAAAAAAAAAAAABAAAAAAAAAAEAAAAAwAAAAQAAAADAAAAAwAAAAMAAAADAAAAAgAAAAMAAAADAAAAAAAAAAQAAAAEAAAAAwAAAA==\",\"dtype\":\"int32\",\"order\":\"little\",\"shape\":[532]},\"CoinName\":[\"42 Coin\",\"404Coin\",\"EliteCoin\",\"Bitcoin\",\"Ethereum\",\"Litecoin\",\"Dash\",\"Monero\",\"Ethereum Classic\",\"ZCash\",\"Bitshares\",\"DigiByte\",\"BitcoinDark\",\"PayCoin\",\"ProsperCoin\",\"KoboCoin\",\"Spreadcoin\",\"Argentum\",\"Aurora Coin\",\"BlueCoin\",\"MyriadCoin\",\"MoonCoin\",\"ZetaCoin\",\"SexCoin\",\"Quatloo\",\"EnergyCoin\",\"QuarkCoin\",\"Riecoin\",\"Digitalcoin \",\"BitBar\",\"Catcoin\",\"CryptoBullion\",\"CannaCoin\",\"CryptCoin\",\"CasinoCoin\",\"Diamond\",\"Verge\",\"DevCoin\",\"EarthCoin\",\"E-Gulden\",\"Einsteinium\",\"Emerald\",\"Exclusive Coin\",\"FlutterCoin\",\"Franko\",\"FeatherCoin\",\"GrandCoin\",\"GlobalCoin\",\"GoldCoin\",\"HoboNickels\",\"HyperStake\",\"Infinite Coin\",\"IOCoin\",\"IXcoin\",\"KrugerCoin\",\"LuckyCoin\",\"Litebar \",\"MaxCoin\",\"MegaCoin\",\"MediterraneanCoin\",\"MintCoin\",\"MinCoin\",\"MazaCoin\",\"Nautilus Coin\",\"NavCoin\",\"NobleCoin\",\"Namecoin\",\"NyanCoin\",\"OpalCoin\",\"Orbitcoin\",\"PotCoin\",\"PhoenixCoin\",\"Reddcoin\",\"RonPaulCoin\",\"StableCoin\",\"SmartCoin\",\"SuperCoin\",\"SyncCoin\",\"SysCoin\",\"TeslaCoin\",\"TigerCoin\",\"TittieCoin\",\"TorCoin\",\"TerraCoin\",\"UnbreakableCoin\",\"Unobtanium\",\"UroCoin\",\"UnitaryStatus Dollar\",\"UltraCoin\",\"ViaCoin\",\"VeriCoin\",\"Vertcoin\",\"WorldCoin\",\"X11 Coin\",\"Crypti\",\"JouleCoin\",\"StealthCoin\",\"ZCC Coin\",\"ByteCoin\",\"DigitalNote \",\"BurstCoin\",\"StorjCoin\",\"MonaCoin\",\"Neutron\",\"FairCoin\",\"Gulden\",\"RubyCoin\",\"PesetaCoin\",\"Kore\",\"Wild Beast Coin\",\"Dnotes\",\"Flo\",\"8BIT Coin\",\"Sativa Coin\",\"ArtByte\",\"Folding Coin\",\"Ucoin\",\"Unitus\",\"CypherPunkCoin\",\"OmniCron\",\"Vtorrent\",\"GreenCoin\",\"Cryptonite\",\"MasterCoin\",\"SoonCoin\",\"1Credit\",\"IslaCoin\",\"Nexus\",\"MarsCoin \",\"Crypto\",\"Anarchists Prime\",\"Droidz\",\"BowsCoin\",\"Squall Coin\",\"Song Coin\",\"BitZeny\",\"Diggits\",\"Expanse\",\"Paycon\",\"Siacoin\",\"Emercoin\",\"EverGreenCoin\",\"MindCoin\",\"I0coin\",\"Decred\",\"Revolution VR\",\"HOdlcoin\",\"EDRCoin\",\"Hitcoin\",\"Gamecredits\",\"DubaiCoin\",\"CarpeDiemCoin\",\"PWR Coin\",\"BillaryCoin\",\"GPU Coin\",\"Adzcoin\",\"SoilCoin\",\"YoCoin\",\"SibCoin\",\"EuropeCoin\",\"ZeitCoin\",\"SwingCoin\",\"SafeExchangeCoin\",\"Nebuchadnezzar\",\"Francs\",\"BolivarCoin\",\"Ratecoin\",\"Revenu\",\"Clockcoin\",\"VIP Tokens\",\"BitSend\",\"Omni\",\"Let it Ride\",\"PutinCoin\",\"iBankCoin\",\"Frankywillcoin\",\"MudraCoin\",\"PizzaCoin\",\"Lutetium Coin\",\"Komodo\",\"GoldBlocks\",\"CarterCoin\",\"Karbo\",\"BitTokens\",\"ZayedCoin\",\"MustangCoin\",\"ZoneCoin\",\"Circuits of Value\",\"RootCoin\",\"DopeCoin\",\"BitCurrency\",\"DollarCoin\",\"Swiscoin\",\"Shilling\",\"BuzzCoin\",\"Opair\",\"PesoBit\",\"Halloween Coin\",\"ZCoin\",\"CoffeeCoin\",\"RoyalCoin\",\"GanjaCoin V2\",\"TeamUP\",\"LanaCoin\",\"Elementrem\",\"ZClassic\",\"ARK\",\"InsaneCoin\",\"KiloCoin\",\"ArtexCoin\",\"EmberCoin\",\"XenixCoin\",\"FreeCoin\",\"PLNCoin\",\"AquariusCoin\",\"Kurrent\",\"Creatio\",\"Eternity\",\"Eurocoin\",\"BitcoinFast\",\"Stakenet\",\"BitConnect Coin\",\"MoneyCoin\",\"Enigma\",\"Cannabis Industry Coin\",\"Russiacoin\",\"PandaCoin\",\"GameUnits\",\"GAKHcoin\",\"Allsafe\",\"LiteCreed\",\"OsmiumCoin\",\"Bikercoins\",\"HexxCoin\",\"Klingon Empire Darsek\",\"Internet of People\",\"KushCoin\",\"Printerium\",\"PacCoin\",\"Impeach\",\"Citadel\",\"Zilbercoin\",\"FirstCoin\",\"BeaverCoin\",\"FindCoin\",\"VaultCoin\",\"Zero\",\"OpenChat\",\"Canada eCoin\",\"Zoin\",\"RenosCoin\",\"DubaiCoin\",\"VirtacoinPlus\",\"TajCoin\",\"Impact\",\"EB3coin\",\"Atmos\",\"HappyCoin\",\"Coinonat\",\"MacronCoin\",\"Condensate\",\"Independent Money System\",\"ArgusCoin\",\"LomoCoin\",\"ProCurrency\",\"GoldReserve\",\"BenjiRolls\",\"GrowthCoin\",\"ILCoin\",\"Phreak\",\"Degas Coin\",\"HTML5 Coin\",\"Ultimate Secure Cash\",\"EquiTrader\",\"QTUM\",\"Quantum Resistant Ledger\",\"Espers\",\"Dynamic\",\"Nano\",\"ChanCoin\",\"Dinastycoin\",\"Denarius\",\"DigitalPrice\",\"Virta Unique Coin\",\"Bitcoin Planet\",\"Unify\",\"BritCoin\",\"SocialCoin\",\"ArcticCoin\",\"DAS\",\"Linda\",\"LeviarCoin\",\"DeepOnion\",\"Bitcore\",\"gCn Coin\",\"SmartCash\",\"Signatum\",\"Onix\",\"Cream\",\"Bitcoin Cash\",\"Monoeci\",\"Draftcoin\",\"Vechain\",\"Sojourn Coin\",\"Stakecoin\",\"NewYorkCoin\",\"FrazCoin\",\"Kronecoin\",\"AdCoin\",\"Linx\",\"CoinonatX\",\"Ethereum Dark\",\"Sumokoin\",\"Obsidian\",\"Cardano\",\"Regalcoin\",\"BitcoinZ\",\"TrezarCoin\",\"Elements\",\"TerraNovaCoin\",\"VIVO Coin\",\"Rupee\",\"Bitcoin Gold\",\"WomenCoin\",\"Theresa May Coin\",\"NamoCoin\",\"LUXCoin\",\"Pirl\",\"Xios\",\"Bitcloud 2.0\",\"eBoost\",\"KekCoin\",\"BlackholeCoin\",\"Infinity Economics\",\"Pura\",\"Innova\",\"Ellaism\",\"GoByte\",\"Magnet\",\"Lamden Tau\",\"Electra\",\"Bitcoin Diamond\",\"SHIELD\",\"Cash & Back Coin\",\"UltraNote\",\"BitCoal\",\"DaxxCoin\",\"Bulwark\",\"Kalkulus\",\"AC3\",\"Lethean\",\"GermanCoin\",\"LiteCoin Ultra\",\"PopularCoin\",\"PhantomX\",\"Photon\",\"Sucre\",\"SparksPay\",\"Digiwage\",\"GunCoin\",\"IrishCoin\",\"Trollcoin\",\"Litecoin Plus\",\"Monkey Project\",\"Pioneer Coin\",\"UnitedBitcoin\",\"Interzone\",\"TokenPay\",\"1717 Masonic Commemorative Token\",\"My Big Coin\",\"TurtleCoin\",\"MUNcoin\",\"Unified Society USDEX\",\"Niobio Cash\",\"ShareChain\",\"Travelflex\",\"KREDS\",\"Tokyo Coin\",\"BiblePay\",\"LitecoinCash\",\"BitFlip\",\"LottoCoin\",\"Crypto Improvement Fund\",\"Stipend\",\"Poa Network\",\"Pushi\",\"Ellerium\",\"Velox\",\"Ontology\",\"Callisto Network\",\"BitTube\",\"Poseidon\",\"Aidos Kuneen\",\"Bitspace\",\"Briacoin\",\"Ignition\",\"Bitrolium\",\"MedicCoin\",\"Alpenschillling\",\"Bitcoin Green\",\"Deviant Coin\",\"Abjcoin\",\"Semux\",\"FuturoCoin\",\"Carebit\",\"Zealium\",\"Monero Classic\",\"Proton\",\"iDealCash\",\"Jumpcoin\",\"Infinex\",\"Bitcoin Incognito\",\"KEYCO\",\"HollyWoodCoin\",\"GINcoin\",\"PlatinCoin\",\"Loki\",\"Newton Coin\",\"Swisscoin\",\"Xt3ch\",\"MassGrid\",\"TheVig\",\"PluraCoin\",\"EmaratCoin\",\"Dekado\",\"Lynx\",\"Poseidon Quark\",\"BitcoinWSpectrum\",\"Muse\",\"Motion\",\"PlusOneCoin\",\"Axe\",\"Trivechain\",\"Dystem\",\"Giant\",\"Peony Coin\",\"Absolute Coin\",\"Vitae\",\"HexCoin\",\"TPCash\",\"Webchain\",\"Ryo\",\"Urals Coin\",\"Qwertycoin\",\"ARENON\",\"EUNO\",\"MMOCoin\",\"Ketan\",\"Project Pai\",\"XDNA\",\"PAXEX\",\"Azart\",\"ThunderStake\",\"Kcash\",\"Xchange\",\"Acute Angle Cloud\",\"CrypticCoin\",\"Bettex coin\",\"Actinium\",\"Bitcoin SV\",\"BitMoney\",\"Junson Ming Chan Coin\",\"FREDEnergy\",\"HerbCoin\",\"Universal Molecule\",\"Lithium\",\"PirateCash\",\"Exosis\",\"Block-Logic\",\"Oduwa\",\"Beam\",\"Galilel\",\"Bithereum\",\"Crypto Sports\",\"Credit\",\"SLICE\",\"Dash Platinum\",\"Nasdacoin\",\"Beetle Coin\",\"Titan Coin\",\"Award\",\"BLAST\",\"Bitcoin Rhodium\",\"GlobalToken\",\"Insane Coin\",\"ALAX\",\"LiteDoge\",\"SolarCoin\",\"TruckCoin\",\"UFO Coin\",\"OrangeCoin\",\"BlakeCoin\",\"BitstarCoin\",\"NeosCoin\",\"HyperCoin\",\"PinkCoin\",\"Crypto Escudo\",\"AudioCoin\",\"IncaKoin\",\"Piggy Coin\",\"Crown Coin\",\"Genstake\",\"SmileyCoin\",\"XiaoMiCoin\",\"Groestlcoin\",\"CapriCoin\",\" ClubCoin\",\"Radium\",\"Bata\",\"Pakcoin\",\"Creditbit \",\"OKCash\",\"Lisk\",\"HiCoin\",\"WhiteCoin\",\"FriendshipCoin\",\"JoinCoin\",\"Triangles Coin\",\"Vollar\",\"EOS\",\"Reality Clash\",\"Oxycoin\",\"TigerCash\",\"Waves\",\"Particl\",\"BitTorrent\",\"Nxt\",\"ZEPHYR\",\"Gapcoin\",\"Beldex\",\"Horizen\",\"BitcoinPlus\"],\"ProofType\":[\"PoW/PoS\",\"PoW/PoS\",\"PoW/PoS\",\"PoW\",\"PoW\",\"PoW\",\"PoW/PoS\",\"PoW\",\"PoW\",\"PoW\",\"PoS\",\"PoW\",\"PoW/PoS\",\"PoS\",\"PoW\",\"PoW/PoS\",\"PoW\",\"PoW\",\"PoW/PoS\",\"PoW/PoS\",\"PoW\",\"PoW\",\"PoW\",\"PoW\",\"PoW\",\"PoW/PoS\",\"PoW\",\"PoW\",\"PoW\",\"PoW/PoS\",\"PoW\",\"PoW/PoS\",\"PoW\",\"PoW\",\"PoC\",\"PoW/PoS\",\"PoW\",\"PoW\",\"PoW\",\"PoW\",\"PoW\",\"PoW\",\"PoS\",\"PoS/PoW/PoT\",\"PoW\",\"PoW\",\"PoW\",\"PoW\",\"PoW\",\"PoW/PoS\",\"PoS\",\"PoW\",\"PoW/PoS\",\"PoW\",\"PoW\",\"PoW\",\"PoW\",\"PoW/PoS\",\"PoW\",\"PoW\",\"PoS\",\"PoW\",\"PoW/PoS\",\"PoS\",\"PoW/PoS\",\"PoW\",\"PoW\",\"PoW\",\"PoW/PoS\",\"PoW/PoS\",\"PoW/PoS\",\"PoW/PoS\",\"PoW/PoS\",\"PoW\",\"PoW\",\"PoW\",\"PoS\",\"PoW/PoS\",\"PoW\",\"PoS\",\"PoW\",\"PoS\",\"PoW/PoS\",\"PoW\",\"PoW\",\"PoW\",\"PoW\",\"PoW/PoS\",\"PoW/PoS\",\"PoW\",\"PoST\",\"PoW\",\"PoW\",\"PoW/PoS\",\"PoS\",\"PoW\",\"PoW/PoS\",\"PoW/PoS\",\"PoW\",\"PoW\",\"PoC\",\"PoS\",\"PoW\",\"PoW/PoS\",\"PoW/PoS\",\"PoW\",\"PoS\",\"PoW\",\"PoW/PoS\",\"PoW\",\"PoS\",\"PoW\",\"PoW/PoS\",\"PoW/PoS\",\"PoW\",\"PoW\",\"PoS\",\"PoW\",\"PoW\",\"PoW\",\"PoW/PoS\",\"PoW\",\"PoW\",\"PoW\",\"PoW\",\"PoW\",\"PoW/PoS\",\"PoW/nPoS\",\"PoW\",\"PoW\",\"PoW\",\"PoW/PoS\",\"PoW\",\"PoS/PoW\",\"PoW\",\"PoW\",\"PoS\",\"PoW\",\"PoW/PoS\",\"PoW\",\"PoW/PoS\",\"PoW/PoS\",\"PoW\",\"PoW\",\"PoW/PoS\",\"PoW\",\"PoW\",\"PoW/PoS\",\"PoW/PoS\",\"PoW\",\"PoW/PoS\",\"PoW\",\"PoW/PoS\",\"PoW/PoS\",\"PoS\",\"PoW\",\"PoW\",\"PoW\",\"PoW\",\"PoW/PoS\",\"PoS\",\"PoW/PoS\",\"PoC\",\"PoS\",\"PoW\",\"PoW\",\"PoW/PoS\",\"PoW/PoS\",\"PoW/PoS\",\"PoW/PoS\",\"PoW/PoS\",\"PoW\",\"PoS\",\"PoW/PoS\",\"PoW/PoS\",\"PoW/PoS\",\"PoS\",\"PoW\",\"PoS\",\"dPoW/PoW\",\"PoW/PoS\",\"PoW/PoS\",\"PoW\",\"PoW/PoS\",\"PoW\",\"PoW/PoS\",\"PoW/PoS\",\"PoW\",\"PoW/PoS\",\"PoW\",\"PoS\",\"PoW\",\"PoW/PoW\",\"PoW\",\"PoW/PoS\",\"PoS\",\"PoW/PoS\",\"PoW/PoS\",\"PoW\",\"PoS\",\"PoS\",\"PoW/PoS\",\"PoS\",\"PoW/PoS\",\"PoW\",\"PoW\",\"DPoS\",\"PoW/PoS\",\"PoW\",\"PoW\",\"PoW/PoS\",\"PoW/PoS\",\"PoS\",\"PoW/PoS\",\"PoW/PoS\",\"PoW\",\"PoS\",\"PoW/PoS\",\"PoW/PoS\",\"PoW/PoS\",\"TPoS\",\"PoW/PoS\",\"PoW/PoS\",\"PoW/PoS\",\"PoW\",\"PoW/PoS\",\"PoS\",\"PoW/PoS\",\"PoW/PoS\",\"PoS\",\"PoW/PoS\",\"PoW\",\"PoW\",\"PoW\",\"PoW/PoS\",\"PoW/PoS\",\"PoW/PoS\",\"PoW/PoS\",\"PoW\",\"PoW/PoS\",\"PoW\",\"PoS\",\"PoW/PoS \",\"PoW\",\"PoS\",\"PoW\",\"PoW\",\"PoW/PoS\",\"PoW\",\"PoW\",\"PoS\",\"PoW\",\"PoW/PoS\",\"PoW/PoS\",\"PoW/PoS\",\"PoW\",\"PoS\",\"PoW/PoS\",\"PoW\",\"PoS\",\"PoW/PoS\",\"PoW/PoS\",\"PoW/PoS\",\"PoW/PoS\",\"PoS\",\"PoW/PoS\",\"PoW\",\"PoS\",\"PoW\",\"PoS\",\"PoW/PoS\",\"PoW/PoS\",\"PoS\",\"PoW\",\"PoS\",\"PoW\",\"PoW/PoS\",\"PoW\",\"PoW\",\"PoW\",\"PoW\",\"PoW/PoS\",\"PoW\",\"PoW/PoS\",\"PoW/PoS\",\"PoW\",\"PoW/PoS\",\"PoW\",\"PoW\",\"PoW\",\"PoW/PoS\",\"PoW\",\"PoW/PoS\",\"PoW\",\"PoW\",\"PoW\",\"PoS\",\"PoW\",\"PoW/PoS\",\"PoW\",\"PoW/PoS\",\"PoS\",\"Proof of Authority\",\"PoW\",\"PoS\",\"PoW\",\"PoW\",\"PoW\",\"PoW\",\"PoW\",\"PoW/PoS\",\"PoW/PoS\",\"PoW\",\"PoS\",\"PoS\",\"PoW/PoS\",\"PoW\",\"PoW/PoS\",\"PoW\",\"PoW/PoS\",\"PoW\",\"PoS\",\"PoW\",\"PoW/PoS\",\"PoW/PoS\",\"PoW/PoS\",\"PoW/PoS\",\"PoW\",\"PoW/PoS\",\"PoW/PoS\",\"PoW\",\"PoS\",\"PoW/PoS\",\"PoS\",\"PoW\",\"PoW\",\"PoW\",\"PoW\",\"PoW/PoS\",\"DPoS\",\"PoW/PoS\",\"PoW/PoS\",\"PoW\",\"PoW/PoS\",\"PoW\",\"PoW\",\"PoW\",\"PoS\",\"PoS\",\"PoW\",\"PoW\",\"PoW/PoS\",\"PoW/PoS\",\"PoW\",\"PoW/PoS\",\"PoW\",\"PoW\",\"PoW\",\"PoS\",\"PoW\",\"PoW\",\"PoW/PoS\",\"PoW/PoS\",\"PoS\",\"PoW\",\"PoW\",\"PoW\",\"PoS\",\"PoS\",\"PoW and PoS\",\"PoW\",\"PoW\",\"PoW/PoS\",\"PoW\",\"PoW\",\"PoW\",\"PoW\",\"PoS\",\"POBh\",\"PoW + Hive\",\"PoW\",\"PoW\",\"PoW\",\"PoW/PoS\",\"PoA\",\"PoW/PoS\",\"PoW/PoS\",\"PoS\",\"PoS\",\"PoW\",\"PoW\",\"PoW\",\"PoW\",\"PoW/PoS\",\"PoW/PoS\",\"PoW/PoS\",\"PoW\",\"PoS\",\"PoW\",\"PoS\",\"PoS\",\"PoW/PoS\",\"DPoS\",\"PoW\",\"PoW/PoS\",\"PoS\",\"PoW\",\"PoS\",\"PoW/PoS\",\"PoW\",\"PoW\",\"PoS/PoW\",\"PoW\",\"PoS\",\"PoW\",\"PoW\",\"PoW\",\"PoW\",\"PoW/PoS\",\"PoS\",\"PoW\",\"PoW/PoS\",\"PoW\",\"PoW/PoS\",\"PoS\",\"HPoW\",\"PoS\",\"PoS\",\"PoS\",\"PoW\",\"PoW\",\"PoW\",\"PoW/PoS\",\"PoS\",\"PoW/PoS\",\"PoS\",\"PoW/PoS\",\"PoS\",\"PoW\",\"PoW/PoS\",\"PoW\",\"PoW\",\"PoW\",\"PoW\",\"PoS\",\"PoW/PoS\",\"PoS\",\"PoS\",\"PoW\",\"PoW/PoS\",\"PoS\",\"PoW\",\"PoW/PoS\",\"Zero-Knowledge Proof\",\"PoW\",\"DPOS\",\"PoW\",\"PoS\",\"PoW\",\"PoW\",\"Pos\",\"PoS\",\"PoW\",\"PoW/PoS\",\"PoW\",\"PoW\",\"PoS\",\"PoW\",\"PoW\",\"PoW/PoS\",\"PoW\",\"PoW/PoS\",\"PoW\",\"PoS\",\"PoW/PoS\",\"PoW\",\"PoS\",\"PoW/PoS\",\"PoW/PoS\",\"PoW/PoS\",\"PoW/PoS\",\"PoW\",\"PoW\",\"PoW\",\"PoW/PoS\",\"DPoS\",\"PoW/PoS\",\"PoW\",\"PoW/PoS\",\"PoW\",\"PoW/PoS\",\"PoW\",\"PoW/PoS\",\"PoS\",\"PoW/PoS\",\"PoW/PoS\",\"PoW\",\"PoW/PoS\",\"PoW/PoS\",\"PoW/PoS\",\"PoW\",\"PoW/PoS\",\"PoW\",\"PoW/PoS\",\"PoW\",\"PoW/PoS\",\"PoW/PoS\",\"PoS\",\"PoW\",\"PoW\",\"Proof of Trust\",\"PoW/PoS\",\"DPoS\",\"PoS\",\"PoW/PoS\",\"PoW/PoS\",\"PoW\",\"PoW/PoS\",\"PoW\",\"DPoS\",\"PoW\",\"DPoS\",\"PoS\",\"LPoS\",\"PoS\",\"DPoS\",\"PoS/LPoS\",\"DPoS\",\"PoW/PoS\",\"PoW\",\"PoW\",\"PoS\"],\"TotalCoinSupply\":[\"42\",\"532000000\",\"314159265359\",\"21000000\",\"0\",\"84000000\",\"22000000\",\"0\",\"210000000\",\"21000000\",\"3600570502\",\"21000000000\",\"22000000\",\"12500000\",\"21000000\",\"350000000\",\"20000000\",\"64000000\",\"16768584\",\"0\",\"2000000000\",\"384000000000\",\"169795588\",\"250000000\",\"100000000\",\"0\",\"247000000\",\"84000000\",\"48166000\",\"500000\",\"21000000 \",\"1000000\",\"13140000\",\"18000000\",\"40000000000\",\"4380000\",\"16555000000\",\"21000000000\",\"13500000000\",\"21000000 \",\"299792458\",\"32000000\",\"0\",\"0\",\"11235813\",\"336000000\",\"1420609614\",\"70000000\",\"72245700\",\"120000000\",\"0\",\"90600000000\",\"22000000\",\"21000000\",\"265420800\",\"20000000\",\"1350000\",\"100000000\",\"42000000\",\"200000000\",\"0\",\"10000000\",\"2419200000\",\"16180000\",\"0\",\"15000000000\",\"21000000\",\"337000000\",\"0\",\"3770000\",\"420000000\",\"98000000\",\"0\",\"21000000\",\"250000000\",\"51200000\",\"0\",\"1000\",\"888000000\",\"100000000\",\"47011968\",\"2300000000\",\"10000000\",\"42000000\",\"80000000\",\"250000\",\"0\",\"1600000000\",\"100000000\",\"23000000\",\"0\",\"84000000\",\"265420800\",\"5500000\",\"0\",\"45000000\",\"0\",\"1000000000\",\"184467440735\",\"10000000000\",\"2158812800\",\"500000000\",\"105120000\",\"68000000\",\"0\",\"1680000000\",\"0\",\"166386000\",\"12000000\",\"2628000\",\"500000000\",\"160000000\",\"0\",\"10000000\",\"1000000000\",\"1000000000\",\"20000000\",\"0\",\"0\",\"3371337\",\"20000000\",\"10000000000\",\"1840000000\",\"619478\",\"21000000\",\"92000000000\",\"0\",\"78000000\",\"33000000\",\"65789100\",\"53760000\",\"5060000\",\"21000000\",\"0\",\"210240000\",\"250000000\",\"100000000\",\"16906397\",\"50000000\",\"0\",\"1000000000\",\"26298000\",\"16000000\",\"21000000\",\"21000000\",\"210000000\",\"81962100\",\"22000000\",\"26550000000\",\"84000000\",\"10500000\",\"21626280000 \",\"0\",\"42000000\",\"221052632\",\"84000000\",\"30000000\",\"168351300\",\"24000000\",\"384000000\",\" 99000000000\",\"40000000\",\"2147483647\",\"20000000\",\"20000000\",\"25000000\",\"75000000\",\"222725000\",\"525000000\",\"90000000\",\"139000000\",\"616448\",\"33500000\",\"2000000000\",\"44333333\",\"100000000\",\"200000000\",\"25000000\",\"657000000\",\"200000000\",\"50000000\",\"90000000\",\"10000000\",\"21000000\",\"9736000\",\"3000000\",\"21000000\",\"1200000000\",\"0\",\"200000000\",\"0\",\"10638298\",\"3100000000\",\"30000000\",\"20000000000\",\"74000000\",\"0\",\"1500000000\",\"21400000\",\"39999898\",\"2500124\",\"100000000\",\"301000000\",\"7506000000\",\"26205539\",\"21000000\",\"125000000\",\"30000000\",\"10000000000\",\"500000000\",\"850000000\",\"3853326.77707314\",\"50000000\",\"38540000 \",\"42000000\",\"228000000\",\"20000000\",\"60000000\",\"20000000\",\"33000000\",\"76500000\",\"28000000\",\"650659833\",\"5000000\",\"21000000\",\"144000000\",\"32514916898\",\"13000000\",\"3315789\",\"15000000\",\"78835200\",\"2714286\",\"25000000\",\"9999999\",\"500000000\",\"21000000\",\"9354000\",\"20000000\",\"100000000000\",\"21933333\",\"185000000\",\"55000000\",\"110000000\",\"3360000\",\"14524851.4827\",\"1000000000\",\"17000000\",\"1000000000\",\"100000000 \",\"21000000\",\"34426423\",\"2232901\",\"100000000\",\"36900000\",\"110000000\",\"4000000000\",\"110290030\",\"100000000\",\"48252000\",\"400000000\",\"500000000\",\"21212121\",\"28600000\",\"1000000000\",\"75000000000\",\"40000000\",\"35520400\",\"2000000000\",\"2500000000\",\"30000000\",\"105000000\",\"90000000000\",\"200084200\",\"72000000\",\"100000000\",\"105000000\",\"50000000000\",\"0\",\"340282367\",\"30000000\",\"2000000000\",\"10000000\",\"100000000\",\"120000000\",\"100000000\",\"19276800\",\"30000000\",\" 75000000\",\"60000000\",\"18900000\",\"50000000000\",\"54000000\",\"18898187.6216583\",\"21000000\",\"200000000000\",\"5000000000\",\"137500000\",\"1100000000\",\"100000000\",\"21000000\",\"9507271\",\"17405891.19707116\",\"86712634466\",\"10500000000\",\"61599965\",\"0\",\"20000000\",\"84000000\",\"100000000\",\"100000000\",\"48252000\",\"4200000\",\"88888888\",\"91388946\",\"45000000000\",\"27000000\",\"21000000000\",\"400000000\",\"1800000000\",\"15733333\",\"27000000\",\"24000000\",\"21000000\",\"25000000000\",\"100000000\",\"1200000000\",\"60000000\",\"156306732.71\",\"21000000\",\"200000000\",\"100000000\",\"21000000\",\"14788275.991\",\"9000000000\",\"350000000\",\"45000000\",\"280000000\",\"31800000\",\"144000000\",\"500000000\",\"30000000000\",\"210000000\",\"660000000\",\"210000000\",\"85000000000\",\"12500000\",\"10000000000\",\"27716121\",\"20000000\",\"550000000\",\"999481516\",\"50000000000\",\"150000000\",\"4999999999\",\"50000000\",\" 90000000000\",\"19800000\",\"21000000\",\"120000000\",\"500000000\",\"64000000\",\"900000000\",\"4000000\",\"21000000\",\"23000000\",\"20166000\",\"23000000\",\"25000000\",\"1618033\",\"30000000\",\"1000000000000\",\"16600000\",\"232000000\",\"336000000\",\"10000000000\",\"100000000\",\"1100000000\",\"800000000\",\"5200000000\",\"840000000\",\"40000000\",\"18406979840\",\"500000000\",\"19340594\",\"252460800\",\"25000000\",\"60000000\",\"124000000\",\"1000000000\",\"6500000000\",\"1000000000\",\"21000000\",\"25000000\",\"50000000\",\"3000000\",\"5000000\",\"70000000\",\"500000000\",\"300000000\",\"21000000\",\"88000000\",\"30000000\",\"100000000\",\"100000000\",\"200000000\",\"80000000\",\"18400000\",\"45000000\",\"5121951220\",\"21000000\",\"26280000\",\"21000000\",\"18000000\",\"26000000\",\"10500000\",\"600000518\",\"150000000\",\"184000000000\",\"10200000000\",\"44000000\",\"168000000\",\"100000000\",\"1000000000\",\"84000000\",\"90000000\",\"92000000000\",\"650000000 \",\"100262205\",\"18081806 \",\"22075700\",\"21000000\",\"21000000\",\"82546564\",\"21000000\",\"5151000\",\"16880000000\",\"52500000\",\"100000000\",\"22105263\",\"1000000000\",\"1750000000\",\"88188888\",\"210000000\",\"184470000000\",\"55000000\",\"50000000\",\"260000000\",\"210000000\",\"2100000000\",\"366000000\",\"100000000\",\"25000000\",\"18000000000\",\"1000000000\",\"100000000\",\"1000000000\",\"7600000000\",\"50000000\",\"84000000\",\"21000000\",\"70000000000\",\"0\",\"8080000000\",\"54000000\",\"105120001.44\",\"25228800\",\"105000000\",\"21000000\",\"120000000\",\"21000000\",\"262800000\",\"19035999\",\"30886000\",\"13370000\",\"74800000000\",\"100000000\",\"19700000\",\"84000000\",\"500000000\",\"5000000000\",\"420000000\",\"64000000\",\"2100000\",\"168000000\",\"30000000\",\"1000000000\",\"35000000000\",\"98100000000\",\"0\",\"4000000000\",\"200000000\",\"7000000000\",\"54256119\",\"21000000\",\"0\",\"500000000\",\"1000000000\",\"10500000000\",\"190000000\",\"1000000000\",\"42000000\",\"15000000\",\"50000000000\",\"400000000\",\"105000000\",\"208000000\",\"160000000\",\"9000000\",\"5000000\",\"182000000\",\"16504333\",\"105000000\",\"159918400\",\"10008835635\",\"300000000\",\"60168145\",\"2800000\",\"120000\",\"2100000000\",\"0\",\"24487944\",\"0\",\"1000000000\",\"100000000\",\"8634140\",\"990000000000\",\"1000000000\",\"2000000000\",\"250000000\",\"1400222610\",\"21000000\",\"1000000\"],\"TotalCoinsMined\":{\"__ndarray__\":\"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\",\"dtype\":\"float64\",\"order\":\"little\",\"shape\":[532]}},\"selected\":{\"id\":\"1176\"},\"selection_policy\":{\"id\":\"1210\"}},\"id\":\"1175\",\"type\":\"ColumnDataSource\"}],\"root_ids\":[\"1173\"]},\"title\":\"Bokeh Application\",\"version\":\"2.3.3\"}};\n",
       "    var render_items = [{\"docid\":\"d3f72b21-6a3f-490f-8a7a-38e60df58b99\",\"root_ids\":[\"1173\"],\"roots\":{\"1173\":\"616772aa-5782-4440-acd0-159b83e4dd5a\"}}];\n",
       "    root.Bokeh.embed.embed_items_notebook(docs_json, render_items);\n",
       "  }\n",
       "  if (root.Bokeh !== undefined && root.Bokeh.Panel !== undefined) {\n",
       "    embed_document(root);\n",
       "  } else {\n",
       "    var attempts = 0;\n",
       "    var timer = setInterval(function(root) {\n",
       "      if (root.Bokeh !== undefined && root.Bokeh.Panel !== undefined) {\n",
       "        clearInterval(timer);\n",
       "        embed_document(root);\n",
       "      } else if (document.readyState == \"complete\") {\n",
       "        attempts++;\n",
       "        if (attempts > 200) {\n",
       "          clearInterval(timer);\n",
       "          console.log(\"Bokeh: ERROR: Unable to run BokehJS code because BokehJS library is missing\");\n",
       "        }\n",
       "      }\n",
       "    }, 25, root)\n",
       "  }\n",
       "})(window);</script>"
      ],
      "text/plain": [
       ":Table   [CoinName,Algorithm,ProofType,TotalCoinSupply,TotalCoinsMined,Class]"
      ]
     },
     "execution_count": 31,
     "metadata": {
      "application/vnd.holoviews_exec.v0+json": {
       "id": "1173"
      }
     },
     "output_type": "execute_result"
    }
   ],
   "source": [
    "# Table with tradable cryptos\n",
    "clustered_df.hvplot.table(columns=['CoinName', 'Algorithm', 'ProofType', 'TotalCoinSupply', \"TotalCoinsMined\", 'Class'], width=1200)"
   ]
  },
  {
   "cell_type": "code",
   "execution_count": 35,
   "metadata": {},
   "outputs": [
    {
     "name": "stdout",
     "output_type": "stream",
     "text": [
      "The total number of tradable cryptocurrencies is 532.\n"
     ]
    }
   ],
   "source": [
    "# Print the total number of tradable cryptocurrencies\n",
    "print(f\"The total number of tradable cryptocurrencies is {len(clustered_df.index)}.\")"
   ]
  },
  {
   "cell_type": "markdown",
   "metadata": {},
   "source": [
    "#### Scatter Plot with Tradable Cryptocurrencies"
   ]
  },
  {
   "cell_type": "code",
   "execution_count": 41,
   "metadata": {},
   "outputs": [
    {
     "data": {
      "text/html": [
       "<div>\n",
       "<style scoped>\n",
       "    .dataframe tbody tr th:only-of-type {\n",
       "        vertical-align: middle;\n",
       "    }\n",
       "\n",
       "    .dataframe tbody tr th {\n",
       "        vertical-align: top;\n",
       "    }\n",
       "\n",
       "    .dataframe thead th {\n",
       "        text-align: right;\n",
       "    }\n",
       "</style>\n",
       "<table border=\"1\" class=\"dataframe\">\n",
       "  <thead>\n",
       "    <tr style=\"text-align: right;\">\n",
       "      <th></th>\n",
       "      <th>Algorithm</th>\n",
       "      <th>ProofType</th>\n",
       "      <th>TotalCoinsMined</th>\n",
       "      <th>TotalCoinSupply</th>\n",
       "      <th>PC 1</th>\n",
       "      <th>PC 2</th>\n",
       "      <th>PC 3</th>\n",
       "      <th>CoinName</th>\n",
       "      <th>Class</th>\n",
       "    </tr>\n",
       "  </thead>\n",
       "  <tbody>\n",
       "    <tr>\n",
       "      <th>42</th>\n",
       "      <td>Scrypt</td>\n",
       "      <td>PoW/PoS</td>\n",
       "      <td>0.000000</td>\n",
       "      <td>4.200000e-11</td>\n",
       "      <td>-0.417875</td>\n",
       "      <td>0.810296</td>\n",
       "      <td>0.372138</td>\n",
       "      <td>42 Coin</td>\n",
       "      <td>0</td>\n",
       "    </tr>\n",
       "    <tr>\n",
       "      <th>404</th>\n",
       "      <td>Scrypt</td>\n",
       "      <td>PoW/PoS</td>\n",
       "      <td>0.001066</td>\n",
       "      <td>5.320000e-04</td>\n",
       "      <td>-0.396564</td>\n",
       "      <td>0.815135</td>\n",
       "      <td>0.373256</td>\n",
       "      <td>404Coin</td>\n",
       "      <td>0</td>\n",
       "    </tr>\n",
       "    <tr>\n",
       "      <th>1337</th>\n",
       "      <td>X13</td>\n",
       "      <td>PoW/PoS</td>\n",
       "      <td>0.029576</td>\n",
       "      <td>3.141593e-01</td>\n",
       "      <td>3.124076</td>\n",
       "      <td>2.209780</td>\n",
       "      <td>0.504335</td>\n",
       "      <td>EliteCoin</td>\n",
       "      <td>5</td>\n",
       "    </tr>\n",
       "    <tr>\n",
       "      <th>BTC</th>\n",
       "      <td>SHA-256</td>\n",
       "      <td>PoW</td>\n",
       "      <td>0.000018</td>\n",
       "      <td>2.100000e-05</td>\n",
       "      <td>-0.192083</td>\n",
       "      <td>0.016266</td>\n",
       "      <td>-0.072910</td>\n",
       "      <td>Bitcoin</td>\n",
       "      <td>1</td>\n",
       "    </tr>\n",
       "    <tr>\n",
       "      <th>ETH</th>\n",
       "      <td>Ethash</td>\n",
       "      <td>PoW</td>\n",
       "      <td>0.000109</td>\n",
       "      <td>0.000000e+00</td>\n",
       "      <td>-0.044116</td>\n",
       "      <td>-1.167492</td>\n",
       "      <td>1.012525</td>\n",
       "      <td>Ethereum</td>\n",
       "      <td>4</td>\n",
       "    </tr>\n",
       "    <tr>\n",
       "      <th>LTC</th>\n",
       "      <td>Scrypt</td>\n",
       "      <td>PoW</td>\n",
       "      <td>0.000064</td>\n",
       "      <td>8.400000e-05</td>\n",
       "      <td>-0.217954</td>\n",
       "      <td>0.235824</td>\n",
       "      <td>-0.273789</td>\n",
       "      <td>Litecoin</td>\n",
       "      <td>1</td>\n",
       "    </tr>\n",
       "    <tr>\n",
       "      <th>DASH</th>\n",
       "      <td>X11</td>\n",
       "      <td>PoW/PoS</td>\n",
       "      <td>0.000009</td>\n",
       "      <td>2.200000e-05</td>\n",
       "      <td>-0.482771</td>\n",
       "      <td>1.336609</td>\n",
       "      <td>-0.110253</td>\n",
       "      <td>Dash</td>\n",
       "      <td>0</td>\n",
       "    </tr>\n",
       "    <tr>\n",
       "      <th>XMR</th>\n",
       "      <td>CryptoNight-V7</td>\n",
       "      <td>PoW</td>\n",
       "      <td>0.000017</td>\n",
       "      <td>0.000000e+00</td>\n",
       "      <td>-0.001979</td>\n",
       "      <td>-1.518631</td>\n",
       "      <td>1.334156</td>\n",
       "      <td>Monero</td>\n",
       "      <td>4</td>\n",
       "    </tr>\n",
       "    <tr>\n",
       "      <th>ETC</th>\n",
       "      <td>Ethash</td>\n",
       "      <td>PoW</td>\n",
       "      <td>0.000115</td>\n",
       "      <td>2.100000e-04</td>\n",
       "      <td>-0.041907</td>\n",
       "      <td>-1.167016</td>\n",
       "      <td>1.012991</td>\n",
       "      <td>Ethereum Classic</td>\n",
       "      <td>4</td>\n",
       "    </tr>\n",
       "    <tr>\n",
       "      <th>ZEC</th>\n",
       "      <td>Equihash</td>\n",
       "      <td>PoW</td>\n",
       "      <td>0.000007</td>\n",
       "      <td>2.100000e-05</td>\n",
       "      <td>-0.034542</td>\n",
       "      <td>-1.255502</td>\n",
       "      <td>1.092984</td>\n",
       "      <td>ZCash</td>\n",
       "      <td>4</td>\n",
       "    </tr>\n",
       "  </tbody>\n",
       "</table>\n",
       "</div>"
      ],
      "text/plain": [
       "           Algorithm ProofType  TotalCoinsMined  TotalCoinSupply      PC 1  \\\n",
       "42            Scrypt   PoW/PoS         0.000000     4.200000e-11 -0.417875   \n",
       "404           Scrypt   PoW/PoS         0.001066     5.320000e-04 -0.396564   \n",
       "1337             X13   PoW/PoS         0.029576     3.141593e-01  3.124076   \n",
       "BTC          SHA-256       PoW         0.000018     2.100000e-05 -0.192083   \n",
       "ETH           Ethash       PoW         0.000109     0.000000e+00 -0.044116   \n",
       "LTC           Scrypt       PoW         0.000064     8.400000e-05 -0.217954   \n",
       "DASH             X11   PoW/PoS         0.000009     2.200000e-05 -0.482771   \n",
       "XMR   CryptoNight-V7       PoW         0.000017     0.000000e+00 -0.001979   \n",
       "ETC           Ethash       PoW         0.000115     2.100000e-04 -0.041907   \n",
       "ZEC         Equihash       PoW         0.000007     2.100000e-05 -0.034542   \n",
       "\n",
       "          PC 2      PC 3          CoinName  Class  \n",
       "42    0.810296  0.372138           42 Coin      0  \n",
       "404   0.815135  0.373256           404Coin      0  \n",
       "1337  2.209780  0.504335         EliteCoin      5  \n",
       "BTC   0.016266 -0.072910           Bitcoin      1  \n",
       "ETH  -1.167492  1.012525          Ethereum      4  \n",
       "LTC   0.235824 -0.273789          Litecoin      1  \n",
       "DASH  1.336609 -0.110253              Dash      0  \n",
       "XMR  -1.518631  1.334156            Monero      4  \n",
       "ETC  -1.167016  1.012991  Ethereum Classic      4  \n",
       "ZEC  -1.255502  1.092984             ZCash      4  "
      ]
     },
     "execution_count": 41,
     "metadata": {},
     "output_type": "execute_result"
    }
   ],
   "source": [
    "# Scale data to create the scatter plot\n",
    "column_names_to_normalize = ['TotalCoinsMined', 'TotalCoinSupply'] \n",
    "x_data = clustered_df[column_names_to_normalize].values\n",
    "x_data_scaled = min_max_scaler.fit_transform(x_data)\n",
    "clustered_df_scaled = pd.DataFrame(x_data_scaled, columns=column_names_to_normalize, index = clustered_df.index)\n",
    "clustered_df[column_names_to_normalize] = clustered_df_scaled\n",
    "clustered_df.head(10)"
   ]
  },
  {
   "cell_type": "code",
   "execution_count": 42,
   "metadata": {},
   "outputs": [
    {
     "data": {},
     "metadata": {},
     "output_type": "display_data"
    },
    {
     "data": {
      "application/vnd.holoviews_exec.v0+json": "",
      "text/html": [
       "<div id='1705'>\n",
       "\n",
       "\n",
       "\n",
       "\n",
       "\n",
       "  <div class=\"bk-root\" id=\"8684b651-4b43-4a82-98d3-fee0168a3fee\" data-root-id=\"1705\"></div>\n",
       "</div>\n",
       "<script type=\"application/javascript\">(function(root) {\n",
       "  function embed_document(root) {\n",
       "    var docs_json = {\"2ecfcacc-117b-49eb-bb6b-a5a9a4e36e21\":{\"defs\":[{\"extends\":null,\"module\":null,\"name\":\"ReactiveHTML1\",\"overrides\":[],\"properties\":[]},{\"extends\":null,\"module\":null,\"name\":\"FlexBox1\",\"overrides\":[],\"properties\":[{\"default\":\"flex-start\",\"kind\":null,\"name\":\"align_content\"},{\"default\":\"flex-start\",\"kind\":null,\"name\":\"align_items\"},{\"default\":\"row\",\"kind\":null,\"name\":\"flex_direction\"},{\"default\":\"wrap\",\"kind\":null,\"name\":\"flex_wrap\"},{\"default\":\"flex-start\",\"kind\":null,\"name\":\"justify_content\"}]},{\"extends\":null,\"module\":null,\"name\":\"TemplateActions1\",\"overrides\":[],\"properties\":[{\"default\":0,\"kind\":null,\"name\":\"open_modal\"},{\"default\":0,\"kind\":null,\"name\":\"close_modal\"}]},{\"extends\":null,\"module\":null,\"name\":\"MaterialTemplateActions1\",\"overrides\":[],\"properties\":[{\"default\":0,\"kind\":null,\"name\":\"open_modal\"},{\"default\":0,\"kind\":null,\"name\":\"close_modal\"}]}],\"roots\":{\"references\":[{\"attributes\":{},\"id\":\"1840\",\"type\":\"UnionRenderers\"},{\"attributes\":{\"end\":1.1,\"reset_end\":1.1,\"reset_start\":-0.05,\"start\":-0.05,\"tags\":[[[\"TotalCoinSupply\",\"TotalCoinSupply\",null]]]},\"id\":\"1708\",\"type\":\"Range1d\"},{\"attributes\":{\"label\":{\"value\":\"3\"},\"renderers\":[{\"id\":\"1824\"}]},\"id\":\"1842\",\"type\":\"LegendItem\"},{\"attributes\":{\"fill_alpha\":{\"value\":0.2},\"fill_color\":{\"value\":\"#30a2da\"},\"line_alpha\":{\"value\":0.2},\"line_color\":{\"value\":\"#30a2da\"},\"size\":{\"value\":5.477225575051661},\"x\":{\"field\":\"TotalCoinsMined\"},\"y\":{\"field\":\"TotalCoinSupply\"}},\"id\":\"1756\",\"type\":\"Scatter\"},{\"attributes\":{\"angle\":{\"value\":0.0},\"fill_alpha\":{\"value\":1.0},\"fill_color\":{\"value\":\"#6d904f\"},\"hatch_alpha\":{\"value\":1.0},\"hatch_color\":{\"value\":\"black\"},\"hatch_scale\":{\"value\":12.0},\"hatch_weight\":{\"value\":1.0},\"line_alpha\":{\"value\":1.0},\"line_cap\":{\"value\":\"butt\"},\"line_color\":{\"value\":\"#6d904f\"},\"line_dash\":{\"value\":[]},\"line_dash_offset\":{\"value\":0},\"line_join\":{\"value\":\"bevel\"},\"line_width\":{\"value\":1},\"marker\":{\"value\":\"circle\"},\"size\":{\"value\":5.477225575051661},\"x\":{\"field\":\"TotalCoinsMined\"},\"y\":{\"field\":\"TotalCoinSupply\"}},\"id\":\"1843\",\"type\":\"Scatter\"},{\"attributes\":{\"fill_alpha\":{\"value\":0.1},\"fill_color\":{\"value\":\"#30a2da\"},\"line_alpha\":{\"value\":0.1},\"line_color\":{\"value\":\"#30a2da\"},\"size\":{\"value\":5.477225575051661},\"x\":{\"field\":\"TotalCoinsMined\"},\"y\":{\"field\":\"TotalCoinSupply\"}},\"id\":\"1755\",\"type\":\"Scatter\"},{\"attributes\":{\"source\":{\"id\":\"1751\"}},\"id\":\"1758\",\"type\":\"CDSView\"},{\"attributes\":{\"callback\":null,\"renderers\":[{\"id\":\"1757\"},{\"id\":\"1778\"},{\"id\":\"1800\"},{\"id\":\"1824\"},{\"id\":\"1850\"},{\"id\":\"1878\"}],\"tags\":[\"hv_created\"],\"tooltips\":[[\"Class\",\"@{Class}\"],[\"TotalCoinsMined\",\"@{TotalCoinsMined}\"],[\"TotalCoinSupply\",\"@{TotalCoinSupply}\"],[\"CoinName\",\"@{CoinName}\"]]},\"id\":\"1709\",\"type\":\"HoverTool\"},{\"attributes\":{\"angle\":{\"value\":0.0},\"fill_alpha\":{\"value\":1.0},\"fill_color\":{\"value\":\"#30a2da\"},\"hatch_alpha\":{\"value\":1.0},\"hatch_color\":{\"value\":\"black\"},\"hatch_scale\":{\"value\":12.0},\"hatch_weight\":{\"value\":1.0},\"line_alpha\":{\"value\":1.0},\"line_cap\":{\"value\":\"butt\"},\"line_color\":{\"value\":\"#30a2da\"},\"line_dash\":{\"value\":[]},\"line_dash_offset\":{\"value\":0},\"line_join\":{\"value\":\"bevel\"},\"line_width\":{\"value\":1},\"marker\":{\"value\":\"circle\"},\"size\":{\"value\":5.477225575051661},\"x\":{\"field\":\"TotalCoinsMined\"},\"y\":{\"field\":\"TotalCoinSupply\"}},\"id\":\"1771\",\"type\":\"Scatter\"},{\"attributes\":{},\"id\":\"1898\",\"type\":\"UnionRenderers\"},{\"attributes\":{},\"id\":\"1845\",\"type\":\"Selection\"},{\"attributes\":{\"fill_color\":{\"value\":\"#30a2da\"},\"line_color\":{\"value\":\"#30a2da\"},\"size\":{\"value\":5.477225575051661},\"x\":{\"field\":\"TotalCoinsMined\"},\"y\":{\"field\":\"TotalCoinSupply\"}},\"id\":\"1754\",\"type\":\"Scatter\"},{\"attributes\":{\"data_source\":{\"id\":\"1751\"},\"glyph\":{\"id\":\"1754\"},\"hover_glyph\":null,\"muted_glyph\":{\"id\":\"1756\"},\"nonselection_glyph\":{\"id\":\"1755\"},\"selection_glyph\":{\"id\":\"1771\"},\"view\":{\"id\":\"1758\"}},\"id\":\"1757\",\"type\":\"GlyphRenderer\"},{\"attributes\":{\"data\":{\"Class\":[4,4,4,4,4,4,4,4,4,4,4,4,4,4,4,4,4,4,4,4,4,4,4,4,4,4,4,4,4,4,4,4,4,4,4,4,4,4,4,4,4,4,4,4,4,4,4,4,4,4,4,4,4,4,4,4,4,4,4,4,4,4,4,4,4,4,4,4,4,4,4,4,4,4,4,4,4,4,4,4,4,4,4,4,4,4,4,4,4,4,4,4,4,4,4,4,4,4,4,4,4,4,4,4,4],\"CoinName\":[\"Ethereum\",\"Monero\",\"Ethereum Classic\",\"ZCash\",\"DigiByte\",\"MyriadCoin\",\"Riecoin\",\"Diamond\",\"Verge\",\"FeatherCoin\",\"MediterraneanCoin\",\"Vertcoin\",\"DigitalNote \",\"StorjCoin\",\"FairCoin\",\"Unitus\",\"Cryptonite\",\"Crypto\",\"Expanse\",\"Siacoin\",\"Decred\",\"HOdlcoin\",\"SoilCoin\",\"Karbo\",\"Circuits of Value\",\"ZCoin\",\"Elementrem\",\"ZClassic\",\"Cannabis Industry Coin\",\"Bikercoins\",\"HexxCoin\",\"Citadel\",\"Zero\",\"Zoin\",\"DubaiCoin\",\"TajCoin\",\"Coinonat\",\"Quantum Resistant Ledger\",\"Espers\",\"Dynamic\",\"Nano\",\"ChanCoin\",\"Dinastycoin\",\"LeviarCoin\",\"SmartCash\",\"Sumokoin\",\"BitcoinZ\",\"VIVO Coin\",\"Bitcoin Gold\",\"Pirl\",\"Innova\",\"Ellaism\",\"GoByte\",\"SHIELD\",\"UltraNote\",\"BitCoal\",\"DaxxCoin\",\"Lethean\",\"Photon\",\"SparksPay\",\"GunCoin\",\"Interzone\",\"1717 Masonic Commemorative Token\",\"Niobio Cash\",\"Travelflex\",\"KREDS\",\"Stipend\",\"Callisto Network\",\"BitTube\",\"Aidos Kuneen\",\"Bitrolium\",\"Alpenschillling\",\"Bitcoin Green\",\"Monero Classic\",\"Jumpcoin\",\"Infinex\",\"GINcoin\",\"PlatinCoin\",\"Loki\",\"Newton Coin\",\"MassGrid\",\"PluraCoin\",\"Muse\",\"PlusOneCoin\",\"Absolute Coin\",\"Webchain\",\"Ryo\",\"XDNA\",\"CrypticCoin\",\"Actinium\",\"FREDEnergy\",\"Universal Molecule\",\"Lithium\",\"PirateCash\",\"Exosis\",\"Beam\",\"Bithereum\",\"UFO Coin\",\"BlakeCoin\",\"Groestlcoin\",\"JoinCoin\",\"Vollar\",\"Reality Clash\",\"Beldex\",\"Horizen\"],\"TotalCoinSupply\":{\"__ndarray__\":\"AAAAAAAAAAAAAAAAAAAAALx5qkNuhis/ycfuAiUF9j4bL90kBoGVP/yp8dJNYmA/ycfuAiUFFj/1h387/V7SPqRTVz7L85A/ycfuAiUFNj8sQxzr4jYqP8nH7gIlBRY/exSuR+F6hD/8qfHSTWJAPwAAAAAAAAAAAAAAAAAAAADa5sb0hCVeP5RCuSEIPxE/r2BdwUa68T4AAAAAAAAAAMnH7gIlBfY+NqDyJ2J8FT9pHVVNEHX/PvBo44i1+OQ+YTJVMCqpUz+GulnNhHD2Pmhxe+1+evs+ycfuAiUF9j7Jx+4CJQX2PixDHOviNvo+7jW0ZbX45D5W8UbmkT8oP2ZMwRpn0/E+ycfuAiUF9j4RcXxOHrvCPlT8hFiiWAM/yvCBGEZMCT+8eapDboYbP5mZmZmZmak/AAAAAAAAAAA1Xz6j/Uw2P2kdVU0Qdf8+/Knx0k1iYD/eADPfwU8MP3sUrkfhenQ/YIu+dztNFz8bL90kBoGVP94AM9/BT/w+ycfuAiUF9j4viDqcyHwkPw7W/znMlwc/0vvG155ZMj/eMBuuH6wAPziEKjV7oEU/wvUoXI/CtT8sQxzr4jbqPnsUrkfheoQ/MrUlGyFgUD8K16NwPQq3P8nH7gIlBfY+/Knx0k1iQD97hQX3Ax74Pn34/RhmJbs+ycfuAiUFNj8sQxzr4jYaPy9uowG8BVI/KIbbf7NH9D45tMh2vp96P/yp8dJNYlA/LEMc6+I2+j7S+8bXnlkSP2EyVTAqqTM/ycfuAiUF9j78nTdfNkvzPsnH7gIlBfY+8Es/2XuO+z7Jx+4CJQXmPjw3G00rqUM/YTJVMCqpIz9aZDvfT43HP8nH7gIlBSY//Knx0k1iUD8dySs/zPXyPsnH7gIlBfY+vHmqQ26GCz956SYxCKxcPy3BL49BHhc/oBnEB3b8Nz/FjzF3LSF/P8nH7gIlBRY/znADPj+MgD+ul5Tfe44bPzgBR+9NdPo+vHmqQ26GGz/Jx+4CJQX2PnaPx2cNOTE/insV4XIxAD/8qfHSTWJwP3npJjEIrHw/vHmqQ26GGz9fGWVH9HzHPhWMSuoENGE/Nnixsm6t+T753kqU9fBWP8nH7gIlBfY+\",\"dtype\":\"float64\",\"order\":\"little\",\"shape\":[105]},\"TotalCoinsMined\":{\"__ndarray__\":\"b4rWT6SDHD8IECcwFDjyPvAMQlVeBB4/AW9zJJ5H3z5Lp6Q/npiHPwjjJ6Co8Fs/EW8kTYs9Cj9vGB4QAQDMPsxlih8PepA/4fJtu5OgKz/EN/Ari2kFPzbfW1HfGQs/EkNUVVGTfD+Tp6kxyxkLP4m2C5a/Kww/Re2gid09ET9okINYfHNHP9C9WRyqHO0+qSLBG5E75j4u6Xh0IR6hP33nrEjx9OU+t2n0Hb5A6D7IH81lZSjYPotqAC8VkuA+ekNDBbiMUD/YMx6jQQjgPmMAO/aewfs+hTD+QGnI1z61ww3+ZpOwPgxwAoxT0uM+xf90wUrLvz7Sn+GWozznPvOI8EMuU90+1qPfyquk8z7LoyWehOvCPr/GV5J3z+k+gYeI9slx5T7/VBLExkcSPzwE+7nSlZc/YSp/QHv09D61h4qHSKQhPy+N/AEef/M+hKwqIzTyXT8J18Vn7P/tPoHNG1BDi2I/uBZMWL/z4j4pupu9+I91P7jWqvdcptE+2x0gu2g48j5e08WGx/8BP9pcGpKPAts+LsltZsEF6z491TfErLXYPniYzdXT4z8/5YO/i7rxkz8tUFOdpxDTPpkfTG2+PUE/v7Br8s81PT/Ao/i6lx+fP1T2YcShn+A+M9MbVqPYMz+YqjPlVz7pPm5x4hl+a7s+DtRa8Xi7IT/X8QcfT2scP1Ay2BUqT0U/5zpHmZTV5z7YL9a/QWQwPxWp9R5TMhU/B3K8ML16+j73YJbAAeUSP1ld1rdd9fw+2g6h9YTE5D7KmyQo9vbwPvvTxTPxUPY+9k0et+iY1T7LOmFuZ5ndPo+bLwi42HY+GNnqCX9J9D6DWcI4SlulP5GAC7ji/CE/gs5PbtqJQj/AqyC6i0XzPh/lK5thUOI+Oa21oUE+7D7q8GBWj4DwPtGA3ySfuNQ+7om/ZcPL0z5Pq/yKvoVxP1or9CUo4uw+rRUfyy/mXj+0RLaqCL+6PnVqj8zTyPA+mEbyFfiL7D5qzDKsbYabPpubDoNU5gI/cW/NA6Cj+j6w2CDJDqZvP5cn8MEuvfg+7ARGD7NoEz8gMXRQrz3MPvtFfmC/eho/gceFIuXv+T6pGh9y7ThQP37YbI3H6d4+\",\"dtype\":\"float64\",\"order\":\"little\",\"shape\":[105]}},\"selected\":{\"id\":\"1845\"},\"selection_policy\":{\"id\":\"1868\"}},\"id\":\"1844\",\"type\":\"ColumnDataSource\"},{\"attributes\":{\"children\":[{\"id\":\"1706\"},{\"id\":\"1715\"},{\"id\":\"2082\"}],\"margin\":[0,0,0,0],\"name\":\"Row03306\",\"tags\":[\"embedded\"]},\"id\":\"1705\",\"type\":\"Row\"},{\"attributes\":{\"fill_alpha\":{\"value\":0.1},\"fill_color\":{\"value\":\"#8b8b8b\"},\"line_alpha\":{\"value\":0.1},\"line_color\":{\"value\":\"#8b8b8b\"},\"size\":{\"value\":5.477225575051661},\"x\":{\"field\":\"TotalCoinsMined\"},\"y\":{\"field\":\"TotalCoinSupply\"}},\"id\":\"1848\",\"type\":\"Scatter\"},{\"attributes\":{\"fill_alpha\":{\"value\":0.2},\"fill_color\":{\"value\":\"#17becf\"},\"line_alpha\":{\"value\":0.2},\"line_color\":{\"value\":\"#17becf\"},\"size\":{\"value\":5.477225575051661},\"x\":{\"field\":\"TotalCoinsMined\"},\"y\":{\"field\":\"TotalCoinSupply\"}},\"id\":\"1877\",\"type\":\"Scatter\"},{\"attributes\":{},\"id\":\"1745\",\"type\":\"AllLabels\"},{\"attributes\":{\"margin\":[5,5,5,5],\"name\":\"HSpacer03310\",\"sizing_mode\":\"stretch_width\"},\"id\":\"1706\",\"type\":\"Spacer\"},{\"attributes\":{\"source\":{\"id\":\"1844\"}},\"id\":\"1851\",\"type\":\"CDSView\"},{\"attributes\":{\"fill_alpha\":{\"value\":0.1},\"fill_color\":{\"value\":\"#fc4f30\"},\"line_alpha\":{\"value\":0.1},\"line_color\":{\"value\":\"#fc4f30\"},\"size\":{\"value\":5.477225575051661},\"x\":{\"field\":\"TotalCoinsMined\"},\"y\":{\"field\":\"TotalCoinSupply\"}},\"id\":\"1776\",\"type\":\"Scatter\"},{\"attributes\":{},\"id\":\"1748\",\"type\":\"AllLabels\"},{\"attributes\":{},\"id\":\"1773\",\"type\":\"Selection\"},{\"attributes\":{\"below\":[{\"id\":\"1724\"}],\"center\":[{\"id\":\"1727\"},{\"id\":\"1731\"}],\"height\":300,\"left\":[{\"id\":\"1728\"}],\"margin\":[5,5,5,5],\"min_border_bottom\":10,\"min_border_left\":10,\"min_border_right\":10,\"min_border_top\":10,\"renderers\":[{\"id\":\"1757\"},{\"id\":\"1778\"},{\"id\":\"1800\"},{\"id\":\"1824\"},{\"id\":\"1850\"},{\"id\":\"1878\"}],\"right\":[{\"id\":\"1769\"}],\"sizing_mode\":\"fixed\",\"title\":{\"id\":\"1716\"},\"toolbar\":{\"id\":\"1738\"},\"width\":700,\"x_range\":{\"id\":\"1707\"},\"x_scale\":{\"id\":\"1720\"},\"y_range\":{\"id\":\"1708\"},\"y_scale\":{\"id\":\"1722\"}},\"id\":\"1715\",\"subtype\":\"Figure\",\"type\":\"Plot\"},{\"attributes\":{\"source\":{\"id\":\"1772\"}},\"id\":\"1779\",\"type\":\"CDSView\"},{\"attributes\":{\"fill_alpha\":{\"value\":0.2},\"fill_color\":{\"value\":\"#8b8b8b\"},\"line_alpha\":{\"value\":0.2},\"line_color\":{\"value\":\"#8b8b8b\"},\"size\":{\"value\":5.477225575051661},\"x\":{\"field\":\"TotalCoinsMined\"},\"y\":{\"field\":\"TotalCoinSupply\"}},\"id\":\"1849\",\"type\":\"Scatter\"},{\"attributes\":{\"text_color\":\"black\",\"text_font_size\":\"12pt\"},\"id\":\"1716\",\"type\":\"Title\"},{\"attributes\":{\"data\":{\"Class\":[3,3,3,3,3,3,3,3,3,3,3,3,3,3,3,3,3,3,3,3,3,3,3,3,3,3,3,3,3,3,3,3,3,3,3,3,3,3,3,3,3,3,3,3,3,3,3,3,3,3,3,3,3,3,3,3,3,3,3,3,3,3,3,3,3,3,3,3,3,3,3,3,3,3,3,3,3,3,3,3,3,3,3,3,3,3,3,3,3,3,3,3,3,3,3,3,3,3],\"CoinName\":[\"Bitshares\",\"PayCoin\",\"CasinoCoin\",\"Exclusive Coin\",\"HyperStake\",\"MintCoin\",\"Nautilus Coin\",\"SuperCoin\",\"TeslaCoin\",\"TittieCoin\",\"Crypti\",\"BurstCoin\",\"RubyCoin\",\"Dnotes\",\"Ucoin\",\"Diggits\",\"GPU Coin\",\"ZeitCoin\",\"SafeExchangeCoin\",\"Nebuchadnezzar\",\"Let it Ride\",\"MudraCoin\",\"Lutetium Coin\",\"BitCurrency\",\"Opair\",\"CoffeeCoin\",\"RoyalCoin\",\"TeamUP\",\"ARK\",\"FreeCoin\",\"Creatio\",\"PandaCoin\",\"Allsafe\",\"Zilbercoin\",\"FindCoin\",\"RenosCoin\",\"Atmos\",\"MacronCoin\",\"ProCurrency\",\"GrowthCoin\",\"Phreak\",\"Ultimate Secure Cash\",\"QTUM\",\"Signatum\",\"Draftcoin\",\"Stakecoin\",\"Obsidian\",\"Cardano\",\"Rupee\",\"KekCoin\",\"Infinity Economics\",\"Lamden Tau\",\"Bulwark\",\"Kalkulus\",\"Digiwage\",\"Monkey Project\",\"TokenPay\",\"Tokyo Coin\",\"BiblePay\",\"Poa Network\",\"Velox\",\"Ontology\",\"MedicCoin\",\"Deviant Coin\",\"Semux\",\"Zealium\",\"Proton\",\"HollyWoodCoin\",\"Xt3ch\",\"Dekado\",\"Lynx\",\"Poseidon Quark\",\"BitcoinWSpectrum\",\"Dystem\",\"Peony Coin\",\"Vitae\",\"ARENON\",\"MMOCoin\",\"Ketan\",\"PAXEX\",\"Acute Angle Cloud\",\"Bettex coin\",\"Junson Ming Chan Coin\",\"Crypto Sports\",\"Dash Platinum\",\"ALAX\",\"NeosCoin\",\"Radium\",\"Lisk\",\"HiCoin\",\"EOS\",\"Oxycoin\",\"TigerCash\",\"Waves\",\"Particl\",\"Nxt\",\"ZEPHYR\",\"BitcoinPlus\"],\"TotalCoinSupply\":{\"__ndarray__\":\"zHCykfF+bT8sQxzr4jbqPnsUrkfheqQ/AAAAAAAAAAAAAAAAAAAAAAAAAAAAAAAAydoyIkn38D4AAAAAAAAAACxDHOviNho/SFD8GHPXYj8AAAAAAAAAAFBV+ctbr2E/AAAAAAAAAAD8qfHSTWJAP/Bo44i1+PQ+LEMc6+I2Gj/1DnimS/ksP/LSTWIQWLk/3roKgZmXYT/waOOItfj0PrB0PjxLkAE/LEMc6+I2Kj9Uc7nBUIdFPwAAAAAAAAAAq1rSUQ5mEz801K8HsvgEP4I9VrT5+MQ+T+j1J/G5Mz/8qfHSTWIgPyxDHOviNgo/8GjjiLX49D7uCmuRy6WgP2kdVU0Qde8+S7A4nPnVDD/zMhpj+HXuPuI/IeOiDAI/kqumSXDpHD8sQxzr4jY6PzMzMzMzM7M//Knx0k1iYD9pHVVNEHX/PilX3jC2OSo/LEMc6+I2Gj8vbqMBvAUiP1suNbxbQPI+RwInV+clED952BsjAvUXPwrXo3A9Cqc/VOQQcXMq+T7Jx+4CJQX2PjvfT42XboI//Knx0k1iQD9twQ9V/Q/9PvBo44i1+PQ+aR1VTRB1Hz/Jx+4CJQX2PixDHOviNvo+LEMc6+I2Sj+U9gZfmEx1P4RaKOGWizA/IT6w479AID/8qfHSTWJQP/yp8dJNYkA/oib6fJQRFz8sQxzr4jYaP/Bo44i1+BQ/Dtb/OcyXBz8FoidlUkP7PqIm+nyUEQc/Dtb/OcyXFz9aZDvfT423P5T2Bl+YTEU/CVblkHtIGj/Jx+4CJQX2Pn5v05/9SJE/LEMc6+I2Gj9LsDic+dUMP0PFOH8TCjE/vHmqQ26GKz8sQxzr4jYaP/yp8dJNYlA/LEMc6+I2Cj8AAAAAAAAAABbj0872Cew+4zITsS2o9D78qfHSTWJQP8nH7gIlBfY+P6vMlNbf4j7zNZeY+PUkP0VzyS2Df4Q/AAAAAAAAAAAAAAAAAAAAAPyp8dJNYlA/LEMc6+I2Gj9TVG0qaxviPvyp8dJNYlA//Knx0k1iYD+N7bWg98awPg==\",\"dtype\":\"float64\",\"order\":\"little\",\"shape\":[98]},\"TotalCoinsMined\":{\"__ndarray__\":\"q7iVeqGvZj9bs+U3DGnpPj3HXP3lr6Q/ye+KsSkQ2D5inLP0asdbP9P/Zw6GBpY/vHgiJTIj8T7wOIGbr9oKP0OS6FanQBU/dL+NX1fZWj/7RX5gv3oaPy/396lQAV4/O+kaShDL/D5j1BshaR8nP0rkrkGmysY++0V+YL96Gj/jP4drq28FP+y9HujlHqM/+f8SbiTFYT+RAFIr/S71PjmwzdTObwQ/wrBKbPQu1T5UvVBlDL9FP0/+H/9UdCY/QFxHa5CaEz/+NIbIkbAjP1rd2J4tL8U+0CaSSobf8j6MnwwSv6YcP6lU6KW+ego/kQBSK/0u9T6qCNVPxnyhP4FhuAbER+Y++c/Zu6TDyD6ghV7+zcTuPsDjwNiFFwM/RxRsP55tHT/1oLCH1pI6Pwd1lwS+nxo/MqZkmp+JMz9Wk1ir5SDoPgDbBzkM6eU++0V+YL96Gj9MptGTM5ccPznRRcCKxPM+mO9bzlry0D4HcrwwvXr6Pnv8+2Vb0Zo/vMFAyZZr+T7ENOBQ+R7qPkgxPBFPnoI/uooRAzwSMz9qpYs67A/sPsiJT2eL9fE+cvaEG0zq/D7hpgdtD6zSPrzcymHip/U+7udFeLF9Lj+PWA2R2lNdP5wZJXiPEis/0BICUEwV+z4YmxHV7IpFP7hnnCDcsTE/51LeU9Mr9z6aEdS4Bt20PqJvk38Wduc+w3Op81Co0j6gJAmaq38EP/TH2vq5KeA+cjI/RMYJAD98JpgkCCO0PyvK//sHBMc+Nkl3o7idDj816e99hAHePkaEeyF8qLE+h6Fq6Z99ET9WbQyj6mj0Ppv6hHEKiRw/xGg1vBTC4z6LmxGrrxXTPnpDQwW4jFA/j6T3FZPB3D6rIOPFGc2RPwfZcP2pZMA+4tbNEUVBqD56Q0MFuIxQP39hyEvMm9I+S/YcU3ow0D4y4x8SUscfP/Gwxj8HsIQ/RW+UnMLjUD8RwmraN5NSP3pDQwW4jFA/+0V+YL96Gj+zRUkYOarjPnpDQwW4jFA/BxxxCriMYD9CDuXNaWSBPg==\",\"dtype\":\"float64\",\"order\":\"little\",\"shape\":[98]}},\"selected\":{\"id\":\"1819\"},\"selection_policy\":{\"id\":\"1840\"}},\"id\":\"1818\",\"type\":\"ColumnDataSource\"},{\"attributes\":{\"fill_color\":{\"value\":\"#8b8b8b\"},\"line_color\":{\"value\":\"#8b8b8b\"},\"size\":{\"value\":5.477225575051661},\"x\":{\"field\":\"TotalCoinsMined\"},\"y\":{\"field\":\"TotalCoinSupply\"}},\"id\":\"1847\",\"type\":\"Scatter\"},{\"attributes\":{},\"id\":\"1720\",\"type\":\"LinearScale\"},{\"attributes\":{\"fill_alpha\":{\"value\":0.2},\"fill_color\":{\"value\":\"#fc4f30\"},\"line_alpha\":{\"value\":0.2},\"line_color\":{\"value\":\"#fc4f30\"},\"size\":{\"value\":5.477225575051661},\"x\":{\"field\":\"TotalCoinsMined\"},\"y\":{\"field\":\"TotalCoinSupply\"}},\"id\":\"1777\",\"type\":\"Scatter\"},{\"attributes\":{\"data_source\":{\"id\":\"1844\"},\"glyph\":{\"id\":\"1847\"},\"hover_glyph\":null,\"muted_glyph\":{\"id\":\"1849\"},\"nonselection_glyph\":{\"id\":\"1848\"},\"selection_glyph\":{\"id\":\"1871\"},\"view\":{\"id\":\"1851\"}},\"id\":\"1850\",\"type\":\"GlyphRenderer\"},{\"attributes\":{},\"id\":\"1790\",\"type\":\"UnionRenderers\"},{\"attributes\":{},\"id\":\"1868\",\"type\":\"UnionRenderers\"},{\"attributes\":{},\"id\":\"1722\",\"type\":\"LinearScale\"},{\"attributes\":{\"fill_color\":{\"value\":\"#fc4f30\"},\"line_color\":{\"value\":\"#fc4f30\"},\"size\":{\"value\":5.477225575051661},\"x\":{\"field\":\"TotalCoinsMined\"},\"y\":{\"field\":\"TotalCoinSupply\"}},\"id\":\"1775\",\"type\":\"Scatter\"},{\"attributes\":{\"axis_label\":\"TotalCoinsMined\",\"formatter\":{\"id\":\"1746\"},\"major_label_policy\":{\"id\":\"1745\"},\"ticker\":{\"id\":\"1725\"}},\"id\":\"1724\",\"type\":\"LinearAxis\"},{\"attributes\":{\"data_source\":{\"id\":\"1772\"},\"glyph\":{\"id\":\"1775\"},\"hover_glyph\":null,\"muted_glyph\":{\"id\":\"1777\"},\"nonselection_glyph\":{\"id\":\"1776\"},\"selection_glyph\":{\"id\":\"1793\"},\"view\":{\"id\":\"1779\"}},\"id\":\"1778\",\"type\":\"GlyphRenderer\"},{\"attributes\":{\"label\":{\"value\":\"4\"},\"renderers\":[{\"id\":\"1850\"}]},\"id\":\"1870\",\"type\":\"LegendItem\"},{\"attributes\":{},\"id\":\"1725\",\"type\":\"BasicTicker\"},{\"attributes\":{\"axis\":{\"id\":\"1724\"},\"grid_line_color\":null,\"ticker\":null},\"id\":\"1727\",\"type\":\"Grid\"},{\"attributes\":{\"label\":{\"value\":\"1\"},\"renderers\":[{\"id\":\"1778\"}]},\"id\":\"1792\",\"type\":\"LegendItem\"},{\"attributes\":{\"fill_alpha\":{\"value\":0.1},\"fill_color\":{\"value\":\"#17becf\"},\"line_alpha\":{\"value\":0.1},\"line_color\":{\"value\":\"#17becf\"},\"size\":{\"value\":5.477225575051661},\"x\":{\"field\":\"TotalCoinsMined\"},\"y\":{\"field\":\"TotalCoinSupply\"}},\"id\":\"1876\",\"type\":\"Scatter\"},{\"attributes\":{\"axis_label\":\"TotalCoinSupply\",\"formatter\":{\"id\":\"1749\"},\"major_label_policy\":{\"id\":\"1748\"},\"ticker\":{\"id\":\"1729\"}},\"id\":\"1728\",\"type\":\"LinearAxis\"},{\"attributes\":{\"label\":{\"value\":\"2\"},\"renderers\":[{\"id\":\"1800\"}]},\"id\":\"1816\",\"type\":\"LegendItem\"},{\"attributes\":{},\"id\":\"1729\",\"type\":\"BasicTicker\"},{\"attributes\":{\"data\":{\"Class\":[2],\"CoinName\":[\"BitTorrent\"],\"TotalCoinSupply\":{\"__ndarray__\":\"rkfhehSu7z8=\",\"dtype\":\"float64\",\"order\":\"little\",\"shape\":[1]},\"TotalCoinsMined\":{\"__ndarray__\":\"AAAAAAAA8D8=\",\"dtype\":\"float64\",\"order\":\"little\",\"shape\":[1]}},\"selected\":{\"id\":\"1795\"},\"selection_policy\":{\"id\":\"1814\"}},\"id\":\"1794\",\"type\":\"ColumnDataSource\"},{\"attributes\":{\"angle\":{\"value\":0.0},\"fill_alpha\":{\"value\":1.0},\"fill_color\":{\"value\":\"#8b8b8b\"},\"hatch_alpha\":{\"value\":1.0},\"hatch_color\":{\"value\":\"black\"},\"hatch_scale\":{\"value\":12.0},\"hatch_weight\":{\"value\":1.0},\"line_alpha\":{\"value\":1.0},\"line_cap\":{\"value\":\"butt\"},\"line_color\":{\"value\":\"#8b8b8b\"},\"line_dash\":{\"value\":[]},\"line_dash_offset\":{\"value\":0},\"line_join\":{\"value\":\"bevel\"},\"line_width\":{\"value\":1},\"marker\":{\"value\":\"circle\"},\"size\":{\"value\":5.477225575051661},\"x\":{\"field\":\"TotalCoinsMined\"},\"y\":{\"field\":\"TotalCoinSupply\"}},\"id\":\"1871\",\"type\":\"Scatter\"},{\"attributes\":{\"angle\":{\"value\":0.0},\"fill_alpha\":{\"value\":1.0},\"fill_color\":{\"value\":\"#fc4f30\"},\"hatch_alpha\":{\"value\":1.0},\"hatch_color\":{\"value\":\"black\"},\"hatch_scale\":{\"value\":12.0},\"hatch_weight\":{\"value\":1.0},\"line_alpha\":{\"value\":1.0},\"line_cap\":{\"value\":\"butt\"},\"line_color\":{\"value\":\"#fc4f30\"},\"line_dash\":{\"value\":[]},\"line_dash_offset\":{\"value\":0},\"line_join\":{\"value\":\"bevel\"},\"line_width\":{\"value\":1},\"marker\":{\"value\":\"circle\"},\"size\":{\"value\":5.477225575051661},\"x\":{\"field\":\"TotalCoinsMined\"},\"y\":{\"field\":\"TotalCoinSupply\"}},\"id\":\"1793\",\"type\":\"Scatter\"},{\"attributes\":{\"source\":{\"id\":\"1872\"}},\"id\":\"1879\",\"type\":\"CDSView\"},{\"attributes\":{\"axis\":{\"id\":\"1728\"},\"dimension\":1,\"grid_line_color\":null,\"ticker\":null},\"id\":\"1731\",\"type\":\"Grid\"},{\"attributes\":{},\"id\":\"1795\",\"type\":\"Selection\"},{\"attributes\":{},\"id\":\"1873\",\"type\":\"Selection\"},{\"attributes\":{},\"id\":\"1746\",\"type\":\"BasicTickFormatter\"},{\"attributes\":{\"angle\":{\"value\":0.0},\"fill_alpha\":{\"value\":1.0},\"fill_color\":{\"value\":\"#17becf\"},\"hatch_alpha\":{\"value\":1.0},\"hatch_color\":{\"value\":\"black\"},\"hatch_scale\":{\"value\":12.0},\"hatch_weight\":{\"value\":1.0},\"line_alpha\":{\"value\":1.0},\"line_cap\":{\"value\":\"butt\"},\"line_color\":{\"value\":\"#17becf\"},\"line_dash\":{\"value\":[]},\"line_dash_offset\":{\"value\":0},\"line_join\":{\"value\":\"bevel\"},\"line_width\":{\"value\":1},\"marker\":{\"value\":\"circle\"},\"size\":{\"value\":5.477225575051661},\"x\":{\"field\":\"TotalCoinsMined\"},\"y\":{\"field\":\"TotalCoinSupply\"}},\"id\":\"1901\",\"type\":\"Scatter\"},{\"attributes\":{\"fill_alpha\":{\"value\":0.1},\"fill_color\":{\"value\":\"#e5ae38\"},\"line_alpha\":{\"value\":0.1},\"line_color\":{\"value\":\"#e5ae38\"},\"size\":{\"value\":5.477225575051661},\"x\":{\"field\":\"TotalCoinsMined\"},\"y\":{\"field\":\"TotalCoinSupply\"}},\"id\":\"1798\",\"type\":\"Scatter\"},{\"attributes\":{},\"id\":\"1732\",\"type\":\"SaveTool\"},{\"attributes\":{\"source\":{\"id\":\"1794\"}},\"id\":\"1801\",\"type\":\"CDSView\"},{\"attributes\":{\"data_source\":{\"id\":\"1872\"},\"glyph\":{\"id\":\"1875\"},\"hover_glyph\":null,\"muted_glyph\":{\"id\":\"1877\"},\"nonselection_glyph\":{\"id\":\"1876\"},\"selection_glyph\":{\"id\":\"1901\"},\"view\":{\"id\":\"1879\"}},\"id\":\"1878\",\"type\":\"GlyphRenderer\"},{\"attributes\":{},\"id\":\"1733\",\"type\":\"PanTool\"},{\"attributes\":{\"fill_color\":{\"value\":\"#17becf\"},\"line_color\":{\"value\":\"#17becf\"},\"size\":{\"value\":5.477225575051661},\"x\":{\"field\":\"TotalCoinsMined\"},\"y\":{\"field\":\"TotalCoinSupply\"}},\"id\":\"1875\",\"type\":\"Scatter\"},{\"attributes\":{},\"id\":\"1734\",\"type\":\"WheelZoomTool\"},{\"attributes\":{\"fill_alpha\":{\"value\":0.2},\"fill_color\":{\"value\":\"#e5ae38\"},\"line_alpha\":{\"value\":0.2},\"line_color\":{\"value\":\"#e5ae38\"},\"size\":{\"value\":5.477225575051661},\"x\":{\"field\":\"TotalCoinsMined\"},\"y\":{\"field\":\"TotalCoinSupply\"}},\"id\":\"1799\",\"type\":\"Scatter\"},{\"attributes\":{},\"id\":\"1814\",\"type\":\"UnionRenderers\"},{\"attributes\":{\"label\":{\"value\":\"5\"},\"renderers\":[{\"id\":\"1878\"}]},\"id\":\"1900\",\"type\":\"LegendItem\"},{\"attributes\":{\"overlay\":{\"id\":\"1737\"}},\"id\":\"1735\",\"type\":\"BoxZoomTool\"},{\"attributes\":{\"fill_color\":{\"value\":\"#e5ae38\"},\"line_color\":{\"value\":\"#e5ae38\"},\"size\":{\"value\":5.477225575051661},\"x\":{\"field\":\"TotalCoinsMined\"},\"y\":{\"field\":\"TotalCoinSupply\"}},\"id\":\"1797\",\"type\":\"Scatter\"},{\"attributes\":{\"data_source\":{\"id\":\"1794\"},\"glyph\":{\"id\":\"1797\"},\"hover_glyph\":null,\"muted_glyph\":{\"id\":\"1799\"},\"nonselection_glyph\":{\"id\":\"1798\"},\"selection_glyph\":{\"id\":\"1817\"},\"view\":{\"id\":\"1801\"}},\"id\":\"1800\",\"type\":\"GlyphRenderer\"},{\"attributes\":{},\"id\":\"1736\",\"type\":\"ResetTool\"},{\"attributes\":{\"data\":{\"Class\":[1,1,1,1,1,1,1,1,1,1,1,1,1,1,1,1,1,1,1,1,1,1,1,1,1,1,1,1,1,1,1,1,1,1,1,1,1,1,1,1,1,1,1,1,1,1,1,1,1,1,1,1,1,1,1,1,1,1,1,1,1,1,1,1,1,1,1,1,1,1,1,1,1,1,1,1,1,1,1,1,1,1,1,1,1,1,1,1,1,1,1,1,1,1,1,1,1,1,1,1,1,1,1,1,1,1,1,1,1,1,1,1,1,1,1,1,1,1,1,1,1,1,1,1,1,1,1,1,1,1,1,1,1,1,1,1,1,1,1,1,1,1,1,1,1],\"CoinName\":[\"Bitcoin\",\"Litecoin\",\"ProsperCoin\",\"Spreadcoin\",\"Argentum\",\"ZetaCoin\",\"SexCoin\",\"Quatloo\",\"QuarkCoin\",\"Digitalcoin \",\"Catcoin\",\"CannaCoin\",\"CryptCoin\",\"DevCoin\",\"EarthCoin\",\"E-Gulden\",\"Einsteinium\",\"Emerald\",\"FlutterCoin\",\"Franko\",\"GrandCoin\",\"GlobalCoin\",\"GoldCoin\",\"Infinite Coin\",\"IXcoin\",\"KrugerCoin\",\"LuckyCoin\",\"Litebar \",\"MegaCoin\",\"MinCoin\",\"NobleCoin\",\"Namecoin\",\"NyanCoin\",\"RonPaulCoin\",\"StableCoin\",\"SmartCoin\",\"SysCoin\",\"TigerCoin\",\"TerraCoin\",\"UnbreakableCoin\",\"Unobtanium\",\"UroCoin\",\"ViaCoin\",\"VeriCoin\",\"WorldCoin\",\"JouleCoin\",\"MonaCoin\",\"Gulden\",\"PesetaCoin\",\"Wild Beast Coin\",\"Flo\",\"ArtByte\",\"Folding Coin\",\"CypherPunkCoin\",\"OmniCron\",\"GreenCoin\",\"MasterCoin\",\"SoonCoin\",\"1Credit\",\"MarsCoin \",\"Anarchists Prime\",\"BowsCoin\",\"Squall Coin\",\"Song Coin\",\"BitZeny\",\"MindCoin\",\"I0coin\",\"Revolution VR\",\"Gamecredits\",\"CarpeDiemCoin\",\"Adzcoin\",\"YoCoin\",\"SibCoin\",\"Francs\",\"BolivarCoin\",\"Omni\",\"PizzaCoin\",\"ZayedCoin\",\"DopeCoin\",\"DollarCoin\",\"Shilling\",\"KiloCoin\",\"ArtexCoin\",\"Kurrent\",\"OsmiumCoin\",\"PacCoin\",\"BeaverCoin\",\"VaultCoin\",\"Canada eCoin\",\"EB3coin\",\"BenjiRolls\",\"ILCoin\",\"EquiTrader\",\"DigitalPrice\",\"Unify\",\"SocialCoin\",\"ArcticCoin\",\"DAS\",\"Bitcore\",\"Onix\",\"Bitcoin Cash\",\"Sojourn Coin\",\"NewYorkCoin\",\"FrazCoin\",\"Kronecoin\",\"AdCoin\",\"Linx\",\"Elements\",\"eBoost\",\"Pura\",\"AC3\",\"PopularCoin\",\"Sucre\",\"IrishCoin\",\"Pioneer Coin\",\"UnitedBitcoin\",\"MUNcoin\",\"ShareChain\",\"LitecoinCash\",\"BitFlip\",\"LottoCoin\",\"Crypto Improvement Fund\",\"Poseidon\",\"FuturoCoin\",\"Bitcoin Incognito\",\"KEYCO\",\"Motion\",\"Axe\",\"HexCoin\",\"Urals Coin\",\"Project Pai\",\"Azart\",\"Xchange\",\"Bitcoin SV\",\"Block-Logic\",\"SLICE\",\"BLAST\",\"Bitcoin Rhodium\",\"GlobalToken\",\"SolarCoin\",\"Crypto Escudo\",\"Crown Coin\",\"SmileyCoin\",\"Bata\",\"Pakcoin\"],\"TotalCoinSupply\":{\"__ndarray__\":\"ycfuAiUF9j7Jx+4CJQUWP8nH7gIlBfY+8GjjiLX49D6N7bWg98YQP4m+s/5kQSY//Knx0k1iMD8sQxzr4jYaPzOID+z4LzA/svaBKLtACT/Jx+4CJQX2PvBLP9l7jus+P6vMlNbf8j4bL90kBoGVP9nO91PjpYs/ycfuAiUF9j6QlH3NrqUzP43ttaD3xgA/AAAAAAAAAABXAlBhLpDnPmDlR/V3Rlc/0vvG155ZEj+5x9OsU/ASP2+BBMWPMbc/ycfuAiUF9j4QhtqnBWUxP/Bo44i1+PQ+5TOPsjSmtj7Jx+4CJQUGP/Bo44i1+OQ+uB6F61G4jj/Jx+4CJQX2Prd9j/rrFTY/ycfuAiUF9j78qfHSTWIwP0ivvJry1wo/AYi7ehUZTT95YK/r1qUIP8nH7gIlBQY/8GjjiLX4FD+N7bWg98aQPgAAAAAAAAAAe4UF9wMe+D4AAAAAAAAAABCG2qcFZTE/Dtb/OcyXBz/wSz/Ze44bP7x5qkNuhls/W/Vl2/zOJT9a1mVHlgvGPvBo44i1+CQ//Knx0k1iUD/8qfHSTWJQPwAAAAAAAAAA3oXHHeRHzD57FK5H4XqEP+TaPodGyaQ+ycfuAiUF9j5aZDvfT423P/qcu10vTQE/DLjfiIsvDD/Jx+4CJQX2PgAAAAAAAAAA8Es/2XuOKz/8qfHSTWIwP43ttaD3xvA+ycfuAiUF9j68eapDboYrP8nH7gIlBRY/gShWFTMllj/Jx+4CJQUWP9ZqzafuECY/VOQQcXMq+T7waOOItfj0PixDHOviNvo+NvzifD+vpD4sQxzr4jb6PoYoqKb5auQ+LEMc6+I2Kj8FUDmLZE/mPmkdVU0Qdf8+exSuR+F6hD/8qfHSTWJAPyMPRBZp4i0/Z2pRguLExj6ZmZmZmZm5Pwy434iLL8w+/Knx0k1iUD8sQxzr4jYaP/yp8dJNYnA/hgaWpnefAj97FK5H4XpkPz+rzJTW3xI/LEMc6+I2Gj9E5fCbkzb0PmEyVTAqqRM/aR1VTRB1Dz9oTT0cbtHzPsnH7gIlBfY+L26jAbwFUj/Jx+4CJQX2Phsv3SQGgYU/AAAAAAAAAADwaOOItfj0PsnH7gIlBRY/LEMc6+I2Gj8sQxzr4jYaP5LLf0i/fV0/LEMc6+I2Gj/HuriNBvA2Py9uowG8BUI/4XycR+F6dD+S762jBcP0Po3ttaD3xhA/e4UF9wMe+D6tjcX3RCX1PqlZVlAHaPE+exSuR+F6hD+8eapDboZLP/Bo44i1+AQ/D0a5gUfZkj/8qfHSTWJAP8nH7gIlBfY+LEMc6+I2Gj/Jx+4CJQX2Pj+rzJTW3/I+X/F1jeYl9z7Jx+4CJQX2PhC6QRvWLfc+vHmqQ26GKz8VjErqBDRhPyxDHOviNvo+LEMc6+I2Gj/Jx+4CJQX2PmkdVU0QdR8/LEMc6+I2Gj+N7bWg98YQPwfTizW3ncE+ycfuAiUFJj9a07zjFB25P/yp8dJNYlA/ycfuAiUFBj+ZmZmZmZmpP/Bo44i1+NQ+xa2CGOjaJz8=\",\"dtype\":\"float64\",\"order\":\"little\",\"shape\":[145]},\"TotalCoinsMined\":{\"__ndarray__\":\"r6i7QfH88j5qGn4mRbEQPw7R8otDcNg+6ehqdHqe5z5A9Ac1LtvpPnDKsyzdiCY/L+6KjEoSIT/oRTYbOCzfPiAs0bCuLjE/n00dGQe2AT82FYtLuJbePgeM01DI7dM+F/e9nq8r1T7YQKTwOGuTP/MR9hSJ8Ik/vuNbg90l9j7UJEJsY/osP53eB+SKpvQ++Q4bzZKSPj/s4qt+cl2zPjOFKreVQ00/sZ9rdsljET8a/IWo3Q8GPxfWq/5Sbbc/2g1Vrl1W9j4aGveuIA0kP+mrkQNSePQ+w6aYs+e2sj50k5i3czQEP3cMJQkyl9g+vxok0C2UYz9pHLAFhzfvPlf2xWZGKDY//bQsOhi2sj5Ru1R/76X5PpV2kxm7G/s+EyTYm2WlQj9dbDIPfw4HP7G8Ce/rSvg+bL2nE6xNwz6yOWnioDuLPgZ+n5+cdbQ+So3LeFqF+D7k5byfQfUAP2V9tGjaqx8/PlWL/fTBBD8sNwB0vg4SP7x3FpSAeTs/V09i5Pw0Ij+8Wu9Dc6iIPv0vK9IFKSQ/u43+0IM7Sj+Fn7ZW789HP0V72TO+99o+rlz8dOx65T5Eb/ntLRNzP/A5J/24/qQ+VCyn2nRm6j4lW2FiVuh3PlEjiUBvEAE/cq2VX2I97z5yy9npd83wPvbV3K8TUJY+O0bJ/Qg/AT/NwWkjtwUUPwmW9q2DzvA+vWV5bnQ99j4A2yO/r80rP/rxCBcDfhI/xVkib6J8lj+p8MOs0+MHP2bzzSAYkqU+io1ClvJI8j6EVzYip9bbPvB/UyyW7Ow+VIp4kW7kpD5Ztqr0xVm3PgCBwBIGdNo+1DtNvqTwHj/WFD5sjErjPri9zHTrjec+ov9i+UX9KT9aPV7RHEZLPzuCQ8HDPxA/1Kx1vOtMrj6OM6x+FcZBPwpNzOaGZco+qw/XnoMXAD/p+YLyIXAaP1xsQZbo+BA/NN5Obdp59T7Je+X67M5VP3PWT+QQ9+w+5uK8DPabAj/JBCgDzjTzPudvAG7s5NU++PDXSmCV+z7UGa86eTnGPvRo7PL22vI+S8HMUSg3ID8kZf43fg/zPv2NU5y9caA+AzXSJm59wj/48d/Beo7kPtfferOSfPI+qd1XPBNKAT94FSfTHNsBP3sMH7KeXWY/Esjo3RF6Gj88xJCxuDInP2M1l69uRBU/SvIGOc1mcD8oDYelxerRPumYtu1bFgg/ZQ7uSqf14T7Br9f1/1v1PpumGNzsadQ+UJ+yE+avhD+QpMXySiFFP3y2D2d/Xeo+ZkXpZEv6jT9nddkYq/krP9lBgL6BPtE+NvCESHrXAD+SE54zvRnnPvx87g2S9ao+9ZfpU6I24T7PXtJXZSfVPnjWYoTeAbg+lr1vCNE87z6/lPALjmBhP9ta2gEuQNU+Gw5gKXCp5D7XmPnEqA7zPhsOVFq4rwI/lM2DQKJh6z6xea5Mu7ELP7JfNdwD1bM+fja4QLVnFj8aiAbhOm0NPyCh/w8R00k/WGx5EuVY+D5ls63LsJmePxWZdvn0Z9U+VjnBgrtzEj8=\",\"dtype\":\"float64\",\"order\":\"little\",\"shape\":[145]}},\"selected\":{\"id\":\"1773\"},\"selection_policy\":{\"id\":\"1790\"}},\"id\":\"1772\",\"type\":\"ColumnDataSource\"},{\"attributes\":{\"active_multi\":null,\"tools\":[{\"id\":\"1709\"},{\"id\":\"1732\"},{\"id\":\"1733\"},{\"id\":\"1734\"},{\"id\":\"1735\"},{\"id\":\"1736\"}]},\"id\":\"1738\",\"type\":\"Toolbar\"},{\"attributes\":{\"label\":{\"value\":\"0\"},\"renderers\":[{\"id\":\"1757\"}]},\"id\":\"1770\",\"type\":\"LegendItem\"},{\"attributes\":{\"angle\":{\"value\":0.0},\"fill_alpha\":{\"value\":1.0},\"fill_color\":{\"value\":\"#e5ae38\"},\"hatch_alpha\":{\"value\":1.0},\"hatch_color\":{\"value\":\"black\"},\"hatch_scale\":{\"value\":12.0},\"hatch_weight\":{\"value\":1.0},\"line_alpha\":{\"value\":1.0},\"line_cap\":{\"value\":\"butt\"},\"line_color\":{\"value\":\"#e5ae38\"},\"line_dash\":{\"value\":[]},\"line_dash_offset\":{\"value\":0},\"line_join\":{\"value\":\"bevel\"},\"line_width\":{\"value\":1},\"marker\":{\"value\":\"circle\"},\"size\":{\"value\":5.477225575051661},\"x\":{\"field\":\"TotalCoinsMined\"},\"y\":{\"field\":\"TotalCoinSupply\"}},\"id\":\"1817\",\"type\":\"Scatter\"},{\"attributes\":{\"click_policy\":\"mute\",\"items\":[{\"id\":\"1770\"},{\"id\":\"1792\"},{\"id\":\"1816\"},{\"id\":\"1842\"},{\"id\":\"1870\"},{\"id\":\"1900\"}],\"location\":[0,0],\"title\":\"Class\"},\"id\":\"1769\",\"type\":\"Legend\"},{\"attributes\":{},\"id\":\"1819\",\"type\":\"Selection\"},{\"attributes\":{\"margin\":[5,5,5,5],\"name\":\"HSpacer03311\",\"sizing_mode\":\"stretch_width\"},\"id\":\"2082\",\"type\":\"Spacer\"},{\"attributes\":{\"data\":{\"Class\":[5,5,5,5,5,5],\"CoinName\":[\"EliteCoin\",\"MoonCoin\",\"ByteCoin\",\"gCn Coin\",\"TurtleCoin\",\"Qwertycoin\"],\"TotalCoinSupply\":{\"__ndarray__\":\"VfKcdi8b1D/6fmq8dJPYPzgbkQyhnMc/mZmZmZmZyT8AAAAAAADwP1vri4S2nMc/\",\"dtype\":\"float64\",\"order\":\"little\",\"shape\":[6]},\"TotalCoinsMined\":{\"__ndarray__\":\"SAVfHQtJnj+KZPYUZovJPVhQT91+zMc/GB33QgUVxT+tX+xllHurP7iw3DhKvrk/\",\"dtype\":\"float64\",\"order\":\"little\",\"shape\":[6]}},\"selected\":{\"id\":\"1873\"},\"selection_policy\":{\"id\":\"1898\"}},\"id\":\"1872\",\"type\":\"ColumnDataSource\"},{\"attributes\":{\"end\":1.1,\"reset_end\":1.1,\"reset_start\":-0.05,\"start\":-0.05,\"tags\":[[[\"TotalCoinsMined\",\"TotalCoinsMined\",null]]]},\"id\":\"1707\",\"type\":\"Range1d\"},{\"attributes\":{\"bottom_units\":\"screen\",\"fill_alpha\":0.5,\"fill_color\":\"lightgrey\",\"left_units\":\"screen\",\"level\":\"overlay\",\"line_alpha\":1.0,\"line_color\":\"black\",\"line_dash\":[4,4],\"line_width\":2,\"right_units\":\"screen\",\"syncable\":false,\"top_units\":\"screen\"},\"id\":\"1737\",\"type\":\"BoxAnnotation\"},{\"attributes\":{\"fill_alpha\":{\"value\":0.1},\"fill_color\":{\"value\":\"#6d904f\"},\"line_alpha\":{\"value\":0.1},\"line_color\":{\"value\":\"#6d904f\"},\"size\":{\"value\":5.477225575051661},\"x\":{\"field\":\"TotalCoinsMined\"},\"y\":{\"field\":\"TotalCoinSupply\"}},\"id\":\"1822\",\"type\":\"Scatter\"},{\"attributes\":{},\"id\":\"1752\",\"type\":\"Selection\"},{\"attributes\":{\"data\":{\"Class\":[0,0,0,0,0,0,0,0,0,0,0,0,0,0,0,0,0,0,0,0,0,0,0,0,0,0,0,0,0,0,0,0,0,0,0,0,0,0,0,0,0,0,0,0,0,0,0,0,0,0,0,0,0,0,0,0,0,0,0,0,0,0,0,0,0,0,0,0,0,0,0,0,0,0,0,0,0,0,0,0,0,0,0,0,0,0,0,0,0,0,0,0,0,0,0,0,0,0,0,0,0,0,0,0,0,0,0,0,0,0,0,0,0,0,0,0,0,0,0,0,0,0,0,0,0,0,0,0,0,0,0,0,0,0,0,0,0,0,0,0,0,0,0,0,0,0,0,0,0,0,0,0,0,0,0,0,0,0,0,0,0,0,0,0,0,0,0,0,0,0,0,0,0,0,0,0,0],\"CoinName\":[\"42 Coin\",\"404Coin\",\"Dash\",\"BitcoinDark\",\"KoboCoin\",\"Aurora Coin\",\"BlueCoin\",\"EnergyCoin\",\"BitBar\",\"CryptoBullion\",\"HoboNickels\",\"IOCoin\",\"MaxCoin\",\"MazaCoin\",\"NavCoin\",\"OpalCoin\",\"Orbitcoin\",\"PotCoin\",\"PhoenixCoin\",\"Reddcoin\",\"SyncCoin\",\"TorCoin\",\"UnitaryStatus Dollar\",\"UltraCoin\",\"X11 Coin\",\"StealthCoin\",\"ZCC Coin\",\"Neutron\",\"Kore\",\"8BIT Coin\",\"Sativa Coin\",\"Vtorrent\",\"IslaCoin\",\"Nexus\",\"Droidz\",\"Paycon\",\"Emercoin\",\"EverGreenCoin\",\"EDRCoin\",\"Hitcoin\",\"DubaiCoin\",\"PWR Coin\",\"BillaryCoin\",\"EuropeCoin\",\"SwingCoin\",\"Ratecoin\",\"Revenu\",\"Clockcoin\",\"VIP Tokens\",\"BitSend\",\"PutinCoin\",\"iBankCoin\",\"Frankywillcoin\",\"Komodo\",\"GoldBlocks\",\"CarterCoin\",\"BitTokens\",\"MustangCoin\",\"ZoneCoin\",\"RootCoin\",\"Swiscoin\",\"BuzzCoin\",\"PesoBit\",\"Halloween Coin\",\"GanjaCoin V2\",\"LanaCoin\",\"InsaneCoin\",\"EmberCoin\",\"XenixCoin\",\"PLNCoin\",\"AquariusCoin\",\"Eternity\",\"Eurocoin\",\"BitcoinFast\",\"Stakenet\",\"BitConnect Coin\",\"MoneyCoin\",\"Enigma\",\"Russiacoin\",\"GameUnits\",\"GAKHcoin\",\"LiteCreed\",\"Klingon Empire Darsek\",\"Internet of People\",\"KushCoin\",\"Printerium\",\"Impeach\",\"FirstCoin\",\"OpenChat\",\"VirtacoinPlus\",\"Impact\",\"HappyCoin\",\"Condensate\",\"Independent Money System\",\"ArgusCoin\",\"LomoCoin\",\"GoldReserve\",\"Degas Coin\",\"HTML5 Coin\",\"Denarius\",\"Virta Unique Coin\",\"Bitcoin Planet\",\"BritCoin\",\"Linda\",\"DeepOnion\",\"Cream\",\"Monoeci\",\"Vechain\",\"CoinonatX\",\"Ethereum Dark\",\"Regalcoin\",\"TrezarCoin\",\"TerraNovaCoin\",\"WomenCoin\",\"Theresa May Coin\",\"NamoCoin\",\"LUXCoin\",\"Xios\",\"Bitcloud 2.0\",\"BlackholeCoin\",\"Magnet\",\"Electra\",\"Bitcoin Diamond\",\"Cash & Back Coin\",\"GermanCoin\",\"LiteCoin Ultra\",\"PhantomX\",\"Trollcoin\",\"Litecoin Plus\",\"My Big Coin\",\"Unified Society USDEX\",\"Pushi\",\"Ellerium\",\"Bitspace\",\"Briacoin\",\"Ignition\",\"Abjcoin\",\"Carebit\",\"iDealCash\",\"Swisscoin\",\"TheVig\",\"EmaratCoin\",\"Trivechain\",\"Giant\",\"TPCash\",\"EUNO\",\"ThunderStake\",\"Kcash\",\"BitMoney\",\"HerbCoin\",\"Oduwa\",\"Galilel\",\"Credit\",\"Nasdacoin\",\"Beetle Coin\",\"Titan Coin\",\"Award\",\"Insane Coin\",\"LiteDoge\",\"TruckCoin\",\"OrangeCoin\",\"BitstarCoin\",\"HyperCoin\",\"PinkCoin\",\"AudioCoin\",\"IncaKoin\",\"Piggy Coin\",\"Genstake\",\"XiaoMiCoin\",\"CapriCoin\",\" ClubCoin\",\"Creditbit \",\"OKCash\",\"WhiteCoin\",\"FriendshipCoin\",\"Triangles Coin\",\"Gapcoin\"],\"TotalCoinSupply\":{\"__ndarray__\":\"NkOMefkWxz3VCP1MvW5BP6Im+nyUEfc+oib6fJQR9z7HuriNBvA2P03ubVFIlfE+AAAAAAAAAAAAAAAAAAAAAI3ttaD3xqA+je21oPfGsD5pHVVNEHUfP6Im+nyUEfc+LEMc6+I2Gj9oTT0cbtFjPwAAAAAAAAAAAAAAAAAAAACBfhlrA6DPPrx5qkNuhjs/wJMWLquwGT8AAAAAAAAAAJXWJugLLhE+8GjjiLX45D4sQxzr4jZaPyxDHOviNho/oib6fJQR1z4AAAAAAAAAAPyp8dJNYlA/ZkzBGmfTET9U5BBxcyrpPgAAAAAAAAAA8GjjiLX45D7waOOItfj0PgAAAAAAAAAAhLndy31yFD+V+ok1IjnVPixDHOviNgo//Knx0k1iUD/clpjMUJP7PqIm+nyUEfc+q8/VVuwvmz/Jx+4CJQXmPgAAAAAAAAAAycfuAiUFBj9U5BBxcyo5P/Bo44i1+AQ/YTJVMCqpEz8Aw5cuaTEtPxWMSuoENEE/Dtb/OcyXFz/3j4XoEDgiP/yp8dJNYmA/MXINuVE+Bz8sQxzr4jYaPyxDHOviNio/LEMc6+I2Cj8O1v85zJcXP8nH7gIlBfY+VOQQcXMqyT7Jx+4CJQX2PgAAAAAAAAAAE2HD0ytlaT97FK5H4XqUPwAAAAAAAAAA+n5qvHSTWD8sQxzr4jYaP/FiYYicvn4/aR1VTRB1/z5fB84ZUdpLPxF0NWZ6KdA+8W0TUcA0BD/Jx+4CJQUGP2kdVU0QdQ8/8GjjiLX49D76nLtdL00BP/N1Gf7TDRQ/t18+WTFc/T7+HQ5aIVJFP/Bo44i1+NQ+P6vMlNbfIj8FoidlUkPrPqm2xkea0Ms+betPbIqqFD/8qfHSTWJAP8nH7gIlBfY+5diE+OOd4z7waOOItfj0PgLLtSqv//Y+S7A4nPnVHD/8qfHSTWJQPyxDHOviNho/S7A4nPnVHD8sQxzr4jYaP/yp8dJNYkA/f1YH2xU+9j7Ty94IQf39Pvyp8dJNYlA/8GjjiLX4BD+8eapDboYbPwrXo3A9Crc/8GjjiLX45D5pHVVNEHUfPyxDHOviNho/aR1VTRB1/z6ZmZmZmZmpP8fgipDx0PM+LEMc6+I2Gj8W0mlgLfDjPvp0LpnMMrY/yvCBGEZMCT8H04s1t53RPt4AM9/BT/w+LEMc6+I2Oj+PGDxpYn/wPpmZmZmZmZk/LEMc6+I2Gj9hMlUwKqlTP2kdVU0QdQ8/ycfuAiUF9j4sQxzr4jYqPxAKBS1lA+8+P6vMlNbfIj+4HoXrUbieP7x5qkNuhis/vHmqQ26GKz+ZmZmZmZmpP2EyVTAqqSM/LEMc6+I2Cj+Sy39Iv31NP43ttaD3xtA+aR1VTRB1/z6QvknToGguPyxDHOviNvo+aR1VTRB1Dz8sQxzr4jYKP1TkEHFzKsk+8GjjiLX41D5pHVVNEHX/PixDHOviNio/26m0T8H6dD+HhVrTvOOEPyxDHOviNho/ycfuAiUFFj9Zx80rm6MVP3pXQhnYmtU+/Knx0k1iUD8sQxzr4jYKPzvfT42XbpI//Knx0k1iUD/rUbgeheuxP94AM9/BTww/ycfuAiUF9j5vBvPj7/XzPhKlvcEXJrM/ycfuAiUFFj/8qfHSTWJAP3sUrkfhenQ/vHmqQ26GOz9pHVVNEHX/PutRuB6F66E/AAAAAAAAAAAsQxzr4jYqPxF8vw0icgw/AAAAAAAAAAD8qfHSTWJAPxsv3SQGgYU/nQyOklfnKD/8qfHSTWJQP2kdVU0Qde8+LEMc6+I2Oj8FoidlUkMrP/Bo44i1+CQ/cMysIFlO8T68eapDboYbP2EyVTAqqTM/eMlkuKGLDz8raaQpKxuAPvyp8dJNYjA/\",\"dtype\":\"float64\",\"order\":\"little\",\"shape\":[177]},\"TotalCoinsMined\":{\"__ndarray__\":\"AAAAAAAAAADVQ6eRhXZRP329mAGmIeM+h/FpwmrXtT7W0pn52A37PoFADD9SNfM+Y2BMhDkIRT+TanQDD0sgP35ukl9tEWc+7S9W9+ubsT5XnKUGLqMXP/yTI8MIsvI+k7z+QUFFED/8i/ixXrVaP46rsV/gfxE/clC9FaMN8D78X4L1EUrLPnL5DYJdey0/i8x7BIOVEz8GsrQgnVKeP12jEDVDshM+lQUMs8JDuD5XA1AC9C9SP30yMSuimgo/G45UidNy3T5FarAorYYBPzHwJWnxlyM/xmRDFeu3BD+lzAo9CiPBPs1ZN0rm37g+ES3DWi4R3j5dOKHlN5XoPj9ykiLfprk+IXp/RSnbED9yRrm5bCbiPq6xk7b9Z/g+NCYsi9PNBj/V580xmansPuaDOXY0GM8+uMNU6Ym/hj8I144k4rrVPosWSaGt1IQ/AkyV+P4P4z49FIII1wvmPmtOHmNWi9I+7o8mBZLQIT95XO3Xe0K0PkD1xc4cpvE+PjXeReQYFj/Seo5zuNT5PodD0Oqv6Uo/dgJ1rDQt0z77RX5gv3oaP/BZKjNxsB4/pqRxDiJ88D7oqXRGKNwGP54PeOINLqQ+9FiPodBJpj5CAX3zt+DFPsR5KJfqb8A+cMvi9YcERj+CMPVUGUCUP2rjHpbewAE/5adF6XiFMT/7RX5gv3oaP+mb2J7R6FE/2bdahaRt8z5pi0xWDNe3PzoFWd5FU9A+Cpe1fNUZ8j51sP5UiMHEPhY3lkTqttk+PPnzkHlN6j6YlsPsJ3H1Pi346mAUBBQ/6zVYpw155z7gl7DQ3R7nPlvCG5NfnKs+/nKUS0y/4T5eSCgLgW3NPrZMGtKEGMw+28DJKx8CAD/+4KkaM2L5PsnENol6Z8U+EsKnts/51z5lqNaU5grpPjTIpVxJ45Q+tn4zY58gHT96Q0MFuIxQP2GI3PAi4us+NZID41pLHT8TzIbUfsv2Pr1/oX2yGyA/aiIdwhm/1j7c24n5tHWzPgpcwiwJ8qA+hP4AVgIw8j5AI3j2ap/2PhIl4L0mB6U/5CrkUjys0T781THurqoQPy0rqEb309w++NUYBdWG9j40GumUGraCP3BMw9XJNvc+vVE1+gARCT8B8gnpSaDqPs2g4AcRrqw/hFHN8SWy9D6gfFhURsvRPsLmK5XBxN4+Bh/umUwuKD8wD8hOyFSzPq6e2lfpD6k/QlKjIeRfGD++L0e45Y1CPzHGVg8zmOE+o0LUKwM3wj4fcKeItkMAPxCznGWxVPE+fiLM5MQ6BD+5S1yC81+dP2O6gsKnTCg/4boxdtliHT9woSpeKVJ0P4cZ6sLR1eE+fhwrH33sBz93OzGI/o9DPwhHMQikOMU+RIhXsT3p4z4RYLbW0RcvP7vl+hZcXsI+vca2dTVrnD7aFzKZITXtPvDlnPIQqaw+dKhUDHkItD6Q31yKLO7kPlUpjj1MgCI/RjXBTQU9Vz8u8B4U0RmFPyopGOdCmgE/vKQ4Yabg9j6GP57A2I0DP6wxxcI7FNk+fSgBQ+vk1j6Kjxo7yksAP+xtXDi6ilE/ekNDBbiMUD/k66IyYpsrP8i3xbVxswI/I2lavtdN7z7k92z1i1jzPooq7/B94p8/QFZaGS7D9T6ibFc7wlYqPyMwTKxCq00/KMFsei9V8D4Lko001y75PmD1pTy6sI8/zCNKYd8OMD+tHcn0sfjNPmOsZctQy/U+ZGM0MPpm5D4kGGd/1OI8P5zTLIUWO1A/nEPLLlmOkj+JwbXT6ltAPx/GUqt+xg8/OLivhebDOj9jAAG9/agqPxgklPhDcBs/w+lGFrPm8T6YkizpGcYTP1yh+dK0rjA/pPRgE3/8sj6rSTdTixSDPjnCFIQVoe8+\",\"dtype\":\"float64\",\"order\":\"little\",\"shape\":[177]}},\"selected\":{\"id\":\"1752\"},\"selection_policy\":{\"id\":\"1767\"}},\"id\":\"1751\",\"type\":\"ColumnDataSource\"},{\"attributes\":{\"fill_alpha\":{\"value\":0.2},\"fill_color\":{\"value\":\"#6d904f\"},\"line_alpha\":{\"value\":0.2},\"line_color\":{\"value\":\"#6d904f\"},\"size\":{\"value\":5.477225575051661},\"x\":{\"field\":\"TotalCoinsMined\"},\"y\":{\"field\":\"TotalCoinSupply\"}},\"id\":\"1823\",\"type\":\"Scatter\"},{\"attributes\":{},\"id\":\"1749\",\"type\":\"BasicTickFormatter\"},{\"attributes\":{},\"id\":\"1767\",\"type\":\"UnionRenderers\"},{\"attributes\":{\"fill_color\":{\"value\":\"#6d904f\"},\"line_color\":{\"value\":\"#6d904f\"},\"size\":{\"value\":5.477225575051661},\"x\":{\"field\":\"TotalCoinsMined\"},\"y\":{\"field\":\"TotalCoinSupply\"}},\"id\":\"1821\",\"type\":\"Scatter\"},{\"attributes\":{\"data_source\":{\"id\":\"1818\"},\"glyph\":{\"id\":\"1821\"},\"hover_glyph\":null,\"muted_glyph\":{\"id\":\"1823\"},\"nonselection_glyph\":{\"id\":\"1822\"},\"selection_glyph\":{\"id\":\"1843\"},\"view\":{\"id\":\"1825\"}},\"id\":\"1824\",\"type\":\"GlyphRenderer\"},{\"attributes\":{\"source\":{\"id\":\"1818\"}},\"id\":\"1825\",\"type\":\"CDSView\"}],\"root_ids\":[\"1705\"]},\"title\":\"Bokeh Application\",\"version\":\"2.3.3\"}};\n",
       "    var render_items = [{\"docid\":\"2ecfcacc-117b-49eb-bb6b-a5a9a4e36e21\",\"root_ids\":[\"1705\"],\"roots\":{\"1705\":\"8684b651-4b43-4a82-98d3-fee0168a3fee\"}}];\n",
       "    root.Bokeh.embed.embed_items_notebook(docs_json, render_items);\n",
       "  }\n",
       "  if (root.Bokeh !== undefined && root.Bokeh.Panel !== undefined) {\n",
       "    embed_document(root);\n",
       "  } else {\n",
       "    var attempts = 0;\n",
       "    var timer = setInterval(function(root) {\n",
       "      if (root.Bokeh !== undefined && root.Bokeh.Panel !== undefined) {\n",
       "        clearInterval(timer);\n",
       "        embed_document(root);\n",
       "      } else if (document.readyState == \"complete\") {\n",
       "        attempts++;\n",
       "        if (attempts > 200) {\n",
       "          clearInterval(timer);\n",
       "          console.log(\"Bokeh: ERROR: Unable to run BokehJS code because BokehJS library is missing\");\n",
       "        }\n",
       "      }\n",
       "    }, 25, root)\n",
       "  }\n",
       "})(window);</script>"
      ],
      "text/plain": [
       ":NdOverlay   [Class]\n",
       "   :Scatter   [TotalCoinsMined]   (TotalCoinSupply,CoinName)"
      ]
     },
     "execution_count": 42,
     "metadata": {
      "application/vnd.holoviews_exec.v0+json": {
       "id": "1705"
      }
     },
     "output_type": "execute_result"
    }
   ],
   "source": [
    "# Plot the scatter with x=\"TotalCoinsMined\" and y=\"TotalCoinSupply\"\n",
    "clustered_df.hvplot.scatter(\n",
    "x=\"TotalCoinsMined\",\n",
    "y=\"TotalCoinSupply\", \n",
    "xlim = (-0.05, 1.1),\n",
    "ylim = (-0.05, 1.1),\n",
    "hover_cols=[\"CoinName\"],\n",
    "by=\"Class\")"
   ]
  }
 ],
 "metadata": {
  "file_extension": ".py",
  "kernelspec": {
   "display_name": "conda_python3",
   "language": "python",
   "name": "conda_python3"
  },
  "language_info": {
   "codemirror_mode": {
    "name": "ipython",
    "version": 3
   },
   "file_extension": ".py",
   "mimetype": "text/x-python",
   "name": "python",
   "nbconvert_exporter": "python",
   "pygments_lexer": "ipython3",
   "version": "3.6.13"
  },
  "mimetype": "text/x-python",
  "name": "python",
  "npconvert_exporter": "python",
  "pygments_lexer": "ipython3",
  "version": 3
 },
 "nbformat": 4,
 "nbformat_minor": 4
}
